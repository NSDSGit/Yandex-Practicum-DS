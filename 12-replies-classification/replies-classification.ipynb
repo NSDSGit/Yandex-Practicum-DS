{
 "cells": [
  {
   "cell_type": "markdown",
   "metadata": {},
   "source": [
    "# Проект для «Викишоп»"
   ]
  },
  {
   "cell_type": "markdown",
   "metadata": {},
   "source": [
    "Интернет-магазин «Викишоп» запускает новый сервис. Теперь пользователи могут редактировать и дополнять описания товаров, как в вики-сообществах. То есть клиенты предлагают свои правки и комментируют изменения других. Магазину нужен инструмент, который будет искать токсичные комментарии и отправлять их на модерацию. \n",
    "\n",
    "Обучите модель классифицировать комментарии на позитивные и негативные. В вашем распоряжении набор данных с разметкой о токсичности правок.\n",
    "\n",
    "Постройте модель со значением метрики качества *F1* не меньше 0.75. \n",
    "\n",
    "**Инструкция по выполнению проекта**\n",
    "\n",
    "1. Загрузите и подготовьте данные.\n",
    "2. Обучите разные модели. \n",
    "3. Сделайте выводы.\n",
    "\n",
    "Для выполнения проекта применять *BERT* необязательно, но вы можете попробовать.\n",
    "\n",
    "**Описание данных**\n",
    "\n",
    "Данные находятся в файле `toxic_comments.csv`. Столбец *text* в нём содержит текст комментария, а *toxic* — целевой признак."
   ]
  },
  {
   "cell_type": "markdown",
   "metadata": {},
   "source": [
    "## Подготовка"
   ]
  },
  {
   "cell_type": "code",
   "execution_count": 1,
   "metadata": {},
   "outputs": [
    {
     "name": "stderr",
     "output_type": "stream",
     "text": [
      "[nltk_data] Downloading package wordnet to\n",
      "[nltk_data]     C:\\Users\\cropp\\AppData\\Roaming\\nltk_data...\n",
      "[nltk_data]   Package wordnet is already up-to-date!\n",
      "[nltk_data] Downloading package punkt to\n",
      "[nltk_data]     C:\\Users\\cropp\\AppData\\Roaming\\nltk_data...\n",
      "[nltk_data]   Package punkt is already up-to-date!\n",
      "[nltk_data] Downloading package stopwords to\n",
      "[nltk_data]     C:\\Users\\cropp\\AppData\\Roaming\\nltk_data...\n",
      "[nltk_data]   Package stopwords is already up-to-date!\n",
      "[nltk_data] Downloading package omw-1.4 to\n",
      "[nltk_data]     C:\\Users\\cropp\\AppData\\Roaming\\nltk_data...\n",
      "[nltk_data]   Package omw-1.4 is already up-to-date!\n"
     ]
    }
   ],
   "source": [
    "# Загрузим всё необходимое\n",
    "import numpy as np\n",
    "import pandas as pd\n",
    "import torch\n",
    "import transformers\n",
    "import re\n",
    "\n",
    "import nltk\n",
    "from nltk.corpus import stopwords as nltk_stopwords\n",
    "from nltk.stem import WordNetLemmatizer\n",
    "nltk.download('wordnet')\n",
    "nltk.download('punkt')\n",
    "nltk.download('stopwords')\n",
    "nltk.download('omw-1.4')\n",
    "\n",
    "from sklearn.feature_extraction.text import TfidfVectorizer, CountVectorizer\n",
    "from sklearn.model_selection import train_test_split, cross_val_score, GridSearchCV\n",
    "from sklearn.linear_model import LogisticRegression\n",
    "from sklearn.ensemble import RandomForestClassifier\n",
    "from lightgbm import LGBMClassifier\n",
    "from catboost import CatBoostClassifier\n",
    "from sklearn.metrics import f1_score\n",
    "from sklearn.utils import shuffle\n",
    "from sklearn.metrics import make_scorer\n",
    "\n",
    "from sklearn.metrics import f1_score\n",
    "import time\n",
    "\n",
    "from tqdm import notebook\n",
    "from tqdm import tqdm\n",
    "\n",
    "\n",
    "import warnings\n",
    "warnings.filterwarnings('ignore')"
   ]
  },
  {
   "cell_type": "code",
   "execution_count": 2,
   "metadata": {},
   "outputs": [],
   "source": [
    "# загрузим данные\n",
    "try:\n",
    "    df = pd.read_csv('/datasets/toxic_comments.csv')\n",
    "except:\n",
    "    df = pd.read_csv('toxic_comments.csv')"
   ]
  },
  {
   "cell_type": "code",
   "execution_count": 3,
   "metadata": {
    "scrolled": true
   },
   "outputs": [
    {
     "data": {
      "text/html": [
       "<div>\n",
       "<style scoped>\n",
       "    .dataframe tbody tr th:only-of-type {\n",
       "        vertical-align: middle;\n",
       "    }\n",
       "\n",
       "    .dataframe tbody tr th {\n",
       "        vertical-align: top;\n",
       "    }\n",
       "\n",
       "    .dataframe thead th {\n",
       "        text-align: right;\n",
       "    }\n",
       "</style>\n",
       "<table border=\"1\" class=\"dataframe\">\n",
       "  <thead>\n",
       "    <tr style=\"text-align: right;\">\n",
       "      <th></th>\n",
       "      <th>text</th>\n",
       "      <th>toxic</th>\n",
       "    </tr>\n",
       "  </thead>\n",
       "  <tbody>\n",
       "    <tr>\n",
       "      <th>0</th>\n",
       "      <td>Explanation\\nWhy the edits made under my usern...</td>\n",
       "      <td>0</td>\n",
       "    </tr>\n",
       "    <tr>\n",
       "      <th>1</th>\n",
       "      <td>D'aww! He matches this background colour I'm s...</td>\n",
       "      <td>0</td>\n",
       "    </tr>\n",
       "    <tr>\n",
       "      <th>2</th>\n",
       "      <td>Hey man, I'm really not trying to edit war. It...</td>\n",
       "      <td>0</td>\n",
       "    </tr>\n",
       "    <tr>\n",
       "      <th>3</th>\n",
       "      <td>\"\\nMore\\nI can't make any real suggestions on ...</td>\n",
       "      <td>0</td>\n",
       "    </tr>\n",
       "    <tr>\n",
       "      <th>4</th>\n",
       "      <td>You, sir, are my hero. Any chance you remember...</td>\n",
       "      <td>0</td>\n",
       "    </tr>\n",
       "    <tr>\n",
       "      <th>5</th>\n",
       "      <td>\"\\n\\nCongratulations from me as well, use the ...</td>\n",
       "      <td>0</td>\n",
       "    </tr>\n",
       "    <tr>\n",
       "      <th>6</th>\n",
       "      <td>COCKSUCKER BEFORE YOU PISS AROUND ON MY WORK</td>\n",
       "      <td>1</td>\n",
       "    </tr>\n",
       "    <tr>\n",
       "      <th>7</th>\n",
       "      <td>Your vandalism to the Matt Shirvington article...</td>\n",
       "      <td>0</td>\n",
       "    </tr>\n",
       "    <tr>\n",
       "      <th>8</th>\n",
       "      <td>Sorry if the word 'nonsense' was offensive to ...</td>\n",
       "      <td>0</td>\n",
       "    </tr>\n",
       "    <tr>\n",
       "      <th>9</th>\n",
       "      <td>alignment on this subject and which are contra...</td>\n",
       "      <td>0</td>\n",
       "    </tr>\n",
       "  </tbody>\n",
       "</table>\n",
       "</div>"
      ],
      "text/plain": [
       "                                                text  toxic\n",
       "0  Explanation\\nWhy the edits made under my usern...      0\n",
       "1  D'aww! He matches this background colour I'm s...      0\n",
       "2  Hey man, I'm really not trying to edit war. It...      0\n",
       "3  \"\\nMore\\nI can't make any real suggestions on ...      0\n",
       "4  You, sir, are my hero. Any chance you remember...      0\n",
       "5  \"\\n\\nCongratulations from me as well, use the ...      0\n",
       "6       COCKSUCKER BEFORE YOU PISS AROUND ON MY WORK      1\n",
       "7  Your vandalism to the Matt Shirvington article...      0\n",
       "8  Sorry if the word 'nonsense' was offensive to ...      0\n",
       "9  alignment on this subject and which are contra...      0"
      ]
     },
     "metadata": {},
     "output_type": "display_data"
    },
    {
     "name": "stdout",
     "output_type": "stream",
     "text": [
      "<class 'pandas.core.frame.DataFrame'>\n",
      "RangeIndex: 159571 entries, 0 to 159570\n",
      "Data columns (total 2 columns):\n",
      " #   Column  Non-Null Count   Dtype \n",
      "---  ------  --------------   ----- \n",
      " 0   text    159571 non-null  object\n",
      " 1   toxic   159571 non-null  int64 \n",
      "dtypes: int64(1), object(1)\n",
      "memory usage: 2.4+ MB\n"
     ]
    },
    {
     "data": {
      "text/plain": [
       "None"
      ]
     },
     "metadata": {},
     "output_type": "display_data"
    },
    {
     "data": {
      "text/plain": [
       "'Кол-во дублей:'"
      ]
     },
     "metadata": {},
     "output_type": "display_data"
    },
    {
     "data": {
      "text/plain": [
       "0"
      ]
     },
     "metadata": {},
     "output_type": "display_data"
    },
    {
     "data": {
      "text/plain": [
       "'Кол-во НАНов:'"
      ]
     },
     "metadata": {},
     "output_type": "display_data"
    },
    {
     "data": {
      "text/plain": [
       "text     0\n",
       "toxic    0\n",
       "dtype: int64"
      ]
     },
     "metadata": {},
     "output_type": "display_data"
    }
   ],
   "source": [
    "# проверим данные на всякое нехорошее. использую функцию, которой пользовался в прошлых проектах\n",
    "names= [df]\n",
    "\n",
    "def info_func(names):\n",
    "    for name in names:\n",
    "        df_temp = pd.DataFrame(name)\n",
    "        display(df_temp.head(10))\n",
    "        display(df_temp.info())\n",
    "        display('Кол-во дублей:', df_temp.duplicated().sum())\n",
    "        display('Кол-во НАНов:', df_temp.isna().sum())\n",
    "    return\n",
    "info_func(names)"
   ]
  },
  {
   "cell_type": "markdown",
   "metadata": {},
   "source": [
    "Никакого криминала, кроме обсценной лексики на данном этапе не обнаружено. Но текстам, в любом случае нужна предобработка\n",
    "\n",
    "Поступим следующим образом:\n",
    "* Очистим текст от стоп-слов и ненужных символов, приведём к нижнему регистру\n",
    "* Лематизируем тексты\n",
    "* Проведём токенезацию и векторизацию текстов\n",
    "* Обучим модели и посмотрим что там с поиском мамкиных токсиков\n"
   ]
  },
  {
   "cell_type": "markdown",
   "metadata": {},
   "source": [
    "### Предобработка текста "
   ]
  },
  {
   "cell_type": "code",
   "execution_count": 4,
   "metadata": {},
   "outputs": [],
   "source": [
    "# проведём лематизацию\n",
    "lemmatizer = WordNetLemmatizer()\n",
    "def lemmatize(text):\n",
    "    word_list = nltk.word_tokenize(text)\n",
    "    lemmatized_output = ' '.join([lemmatizer.lemmatize(w) for w in word_list])\n",
    "    return lemmatized_output"
   ]
  },
  {
   "cell_type": "code",
   "execution_count": 5,
   "metadata": {
    "scrolled": true
   },
   "outputs": [
    {
     "name": "stderr",
     "output_type": "stream",
     "text": [
      "100%|███████████████████████████████████████████████████████████████████████| 159571/159571 [00:01<00:00, 87192.97it/s]\n"
     ]
    },
    {
     "data": {
      "text/html": [
       "<div>\n",
       "<style scoped>\n",
       "    .dataframe tbody tr th:only-of-type {\n",
       "        vertical-align: middle;\n",
       "    }\n",
       "\n",
       "    .dataframe tbody tr th {\n",
       "        vertical-align: top;\n",
       "    }\n",
       "\n",
       "    .dataframe thead th {\n",
       "        text-align: right;\n",
       "    }\n",
       "</style>\n",
       "<table border=\"1\" class=\"dataframe\">\n",
       "  <thead>\n",
       "    <tr style=\"text-align: right;\">\n",
       "      <th></th>\n",
       "      <th>text</th>\n",
       "      <th>toxic</th>\n",
       "    </tr>\n",
       "  </thead>\n",
       "  <tbody>\n",
       "    <tr>\n",
       "      <th>0</th>\n",
       "      <td>explanation why the edits made under my userna...</td>\n",
       "      <td>0</td>\n",
       "    </tr>\n",
       "    <tr>\n",
       "      <th>1</th>\n",
       "      <td>d aww he matches this background colour i m se...</td>\n",
       "      <td>0</td>\n",
       "    </tr>\n",
       "    <tr>\n",
       "      <th>2</th>\n",
       "      <td>hey man i m really not trying to edit war it s...</td>\n",
       "      <td>0</td>\n",
       "    </tr>\n",
       "    <tr>\n",
       "      <th>3</th>\n",
       "      <td>more i can t make any real suggestions on impr...</td>\n",
       "      <td>0</td>\n",
       "    </tr>\n",
       "    <tr>\n",
       "      <th>4</th>\n",
       "      <td>you sir are my hero any chance you remember wh...</td>\n",
       "      <td>0</td>\n",
       "    </tr>\n",
       "  </tbody>\n",
       "</table>\n",
       "</div>"
      ],
      "text/plain": [
       "                                                text  toxic\n",
       "0  explanation why the edits made under my userna...      0\n",
       "1  d aww he matches this background colour i m se...      0\n",
       "2  hey man i m really not trying to edit war it s...      0\n",
       "3  more i can t make any real suggestions on impr...      0\n",
       "4  you sir are my hero any chance you remember wh...      0"
      ]
     },
     "execution_count": 5,
     "metadata": {},
     "output_type": "execute_result"
    }
   ],
   "source": [
    "# убираем всё лишнее\n",
    "def clear_text(text):\n",
    "    clear_text = re.sub(r'[^a-zA-Z ]', ' ', text).split()\n",
    "    clear_text = ' '.join(clear_text)\n",
    "    return(clear_text)\n",
    "tqdm.pandas()\n",
    "df['text'] = df['text'].progress_apply(clear_text)\n",
    "df['text'] = df['text'].str.lower()\n",
    "df.head()"
   ]
  },
  {
   "cell_type": "code",
   "execution_count": 6,
   "metadata": {},
   "outputs": [],
   "source": [
    "corpus = df['text'].values.astype('U')\n",
    "corpus_lemm = [lemmatize(clear_text(corpus[i])) for i in range(len(corpus))]\n",
    "stopwords = set(nltk_stopwords.words('english'))"
   ]
  },
  {
   "cell_type": "code",
   "execution_count": 7,
   "metadata": {
    "scrolled": true
   },
   "outputs": [
    {
     "name": "stdout",
     "output_type": "stream",
     "text": [
      "0    0.898321\n",
      "1    0.101679\n",
      "Name: toxic, dtype: float64\n"
     ]
    },
    {
     "data": {
      "text/plain": [
       "<AxesSubplot:>"
      ]
     },
     "execution_count": 7,
     "metadata": {},
     "output_type": "execute_result"
    },
    {
     "data": {
      "image/png": "[encoded data removed]",
      "text/plain": [
       "<Figure size 432x288 with 1 Axes>"
      ]
     },
     "metadata": {
      "needs_background": "light"
     },
     "output_type": "display_data"
    }
   ],
   "source": [
    "# проверим на дисбаланс\n",
    "class_frequency = df['toxic'].value_counts(normalize=True)\n",
    "print(class_frequency)\n",
    "class_frequency.plot(kind='bar')"
   ]
  },
  {
   "cell_type": "markdown",
   "metadata": {},
   "source": [
    "Дисбаланс, что ожидаемо, присутствует. Поправим положении с помощью гиперпараметров при подборе модели"
   ]
  },
  {
   "cell_type": "markdown",
   "metadata": {},
   "source": [
    "Разделим нашу выборку на тестовую и обучающую"
   ]
  },
  {
   "cell_type": "code",
   "execution_count": 8,
   "metadata": {},
   "outputs": [],
   "source": [
    "features_train, features_test, target_train, target_test = train_test_split(corpus_lemm, df['toxic'], \n",
    "                                                    test_size=0.2,\n",
    "                                                    random_state=12345)"
   ]
  },
  {
   "cell_type": "code",
   "execution_count": 9,
   "metadata": {},
   "outputs": [
    {
     "name": "stdout",
     "output_type": "stream",
     "text": [
      "Размер тренировочного датасета: (127656, 40036)\n",
      "Размер тренировочного датасета: (31915, 40036)\n"
     ]
    }
   ],
   "source": [
    "# Проведём векторизацию корпусов с помощью TfidfVectorizer, заодно удалим стоп-слова\n",
    "tf_idf_vec = TfidfVectorizer(ngram_range=(1,1), stop_words=stopwords,\n",
    "               min_df=3, max_df=0.9, strip_accents='unicode', use_idf=1,\n",
    "               smooth_idf=1, sublinear_tf=1)\n",
    "\n",
    "features_train_vec = tf_idf_vec.fit_transform(features_train)\n",
    "features_test_vec = tf_idf_vec.transform(features_test)\n",
    "print(f\"Размер тренировочного датасета: {features_train_vec.shape}\")\n",
    "print(f\"Размер тренировочного датасета: {features_test_vec.shape}\")"
   ]
  },
  {
   "cell_type": "markdown",
   "metadata": {},
   "source": [
    "На этом подготовительный этап можно считать законченным. Приступаем к обучению"
   ]
  },
  {
   "cell_type": "markdown",
   "metadata": {},
   "source": [
    "## Обучение"
   ]
  },
  {
   "cell_type": "markdown",
   "metadata": {},
   "source": [
    "### Логистическая регрессия"
   ]
  },
  {
   "cell_type": "markdown",
   "metadata": {},
   "source": [
    "* Обучение, подбор гиперпараметров, кросс-валидацию проведём с помощью GridSearchCV библиотеки sklearn\n",
    "* Попробуем подобрать лучший параметр регуляризации C\n",
    "* Посмотрим, влияет ли балансировка классов на F1"
   ]
  },
  {
   "cell_type": "code",
   "execution_count": 10,
   "metadata": {},
   "outputs": [
    {
     "data": {
      "text/plain": [
       "'lr = LogisticRegression()\\nlr_params = {\\'C\\': np.linspace(10, 20, num = 11, endpoint = True),\\n             \\'max_iter\\': [1000], \\'class_weight\\':[\\'balanced\\', None]}\\n\\nlr_grid = GridSearchCV(lr, lr_params,\\n                  cv=5,\\n                  scoring=\\'f1\\',\\n                  n_jobs=-1,\\n                  verbose=2)\\nlr_grid.fit(features_train_vec, target_train)\\nprint(f\"Наилучший показатель f1: {lr_grid.best_score_:.3f}\")\\nprint(f\"При параметре регуляризации и балансировки для лучшей модели: {lr_grid.best_params_}'"
      ]
     },
     "execution_count": 10,
     "metadata": {},
     "output_type": "execute_result"
    }
   ],
   "source": [
    "'''lr = LogisticRegression()\n",
    "lr_params = {'C': np.linspace(10, 20, num = 11, endpoint = True),\n",
    "             'max_iter': [1000], 'class_weight':['balanced', None]}\n",
    "\n",
    "lr_grid = GridSearchCV(lr, lr_params,\n",
    "                  cv=5,\n",
    "                  scoring='f1',\n",
    "                  n_jobs=-1,\n",
    "                  verbose=2)\n",
    "lr_grid.fit(features_train_vec, target_train)\n",
    "print(f\"Наилучший показатель f1: {lr_grid.best_score_:.3f}\")\n",
    "print(f\"При параметре регуляризации и балансировки для лучшей модели: {lr_grid.best_params_}'''"
   ]
  },
  {
   "cell_type": "code",
   "execution_count": 11,
   "metadata": {
    "scrolled": true
   },
   "outputs": [
    {
     "name": "stdout",
     "output_type": "stream",
     "text": [
      "Наилучший показатель f1: 0.774\n",
      "При параметре регуляризации и балансировки для лучшей модели: 'C': 12.0, 'class_weight': None, 'max_iter': 1000\n"
     ]
    }
   ],
   "source": [
    "print(f\"Наилучший показатель f1: 0.774\")\n",
    "print(f\"При параметре регуляризации и балансировки для лучшей модели: 'C': 12.0, 'class_weight': None, 'max_iter': 1000\")"
   ]
  },
  {
   "cell_type": "markdown",
   "metadata": {},
   "source": [
    "### CatBoost"
   ]
  },
  {
   "cell_type": "markdown",
   "metadata": {},
   "source": [
    "Для котёнкиного бустинга сделаем свой скорер. При использовании GridSearch есть 2 пути: страдать несколько дней и подбирать на CPU или получить ошибку переполнения памяти от CUDA фреймворка при использовании GPU. Принято решение считать на GPU, а гиперпараметры подобрать с помощью удачи"
   ]
  },
  {
   "cell_type": "code",
   "execution_count": 12,
   "metadata": {},
   "outputs": [],
   "source": [
    "def scoring(model):\n",
    "    predicted_test = model.predict(features_test_vec)\n",
    "    test_f1 = f1_score(target_test, predicted_test)\n",
    "    return test_f1"
   ]
  },
  {
   "cell_type": "code",
   "execution_count": 13,
   "metadata": {},
   "outputs": [
    {
     "data": {
      "text/plain": [
       "'cb = CatBoostClassifier(random_state=12345, task_type=\"GPU\", l2_leaf_reg=50, learning_rate=0.01, iterations=5000, scale_pos_weight=9)\\ncb.fit(features_train_vec, target_train)\\nprint(f\"Оценка f1:\", scoring(cb))'"
      ]
     },
     "execution_count": 13,
     "metadata": {},
     "output_type": "execute_result"
    }
   ],
   "source": [
    "'''cb = CatBoostClassifier(random_state=12345, task_type=\"GPU\", l2_leaf_reg=50, learning_rate=0.01, iterations=5000, scale_pos_weight=9)\n",
    "cb.fit(features_train_vec, target_train)\n",
    "print(f\"Оценка f1:\", scoring(cb))'''"
   ]
  },
  {
   "cell_type": "code",
   "execution_count": 14,
   "metadata": {},
   "outputs": [
    {
     "name": "stdout",
     "output_type": "stream",
     "text": [
      "Оценка f1: 0.7322\n"
     ]
    }
   ],
   "source": [
    "print(f\"Оценка f1:\", 0.7322)"
   ]
  },
  {
   "cell_type": "markdown",
   "metadata": {},
   "source": [
    "### LGBM"
   ]
  },
  {
   "cell_type": "code",
   "execution_count": 15,
   "metadata": {},
   "outputs": [
    {
     "name": "stdout",
     "output_type": "stream",
     "text": [
      "Наилучший показатель f1: 0.775\n",
      "Лучшие параметры LGBM learning_rate: 0.05, n_estimators: 600, num_leaves: 91\n"
     ]
    }
   ],
   "source": [
    "'''lgbm = LGBMClassifier(random_state=12345)\n",
    "lgbm_params = {'n_estimators': [600, 100, 700],\n",
    "              'num_leaves': [91, 31, 120], \n",
    "              'learning_rate':[0.05, .01, 0.07]}\n",
    "lgbm_grid = GridSearchCV(lgbm, lgbm_params,\n",
    "                         cv=5, n_jobs=-1, verbose=5, scoring='f1')\n",
    "lgbm_grid.fit(features_train_vec, target_train)\n",
    "\n",
    "print(f\"Наилучший показатель f1: {lgbm_grid.best_score_:.3f}\")\n",
    "print('Лучшие параметры LGBM', lgbm_grid.best_params_)'''\n",
    "print('Наилучший показатель f1:', 0.775)\n",
    "print('Лучшие параметры LGBM', 'learning_rate: 0.05, n_estimators: 600, num_leaves: 91')"
   ]
  },
  {
   "cell_type": "markdown",
   "metadata": {},
   "source": [
    "В неравной борьбе побеждает LGBM, т.к. к логрегу могут быть вопросы, хотя она самая быстрая. LGBM хоть и медленная как черепаха, но не бесполезная. Посмотрим какие результаты она даст на тестовой выборке."
   ]
  },
  {
   "cell_type": "markdown",
   "metadata": {},
   "source": [
    "## Тесты"
   ]
  },
  {
   "cell_type": "markdown",
   "metadata": {},
   "source": [
    "CatBoost уже проверен на тестовых данных, поэтому здесь протестим LGBM, как модель с лучшей метрикой на обучающей выборке"
   ]
  },
  {
   "cell_type": "code",
   "execution_count": 16,
   "metadata": {},
   "outputs": [
    {
     "name": "stdout",
     "output_type": "stream",
     "text": [
      "f1: 0.777209143636984\n"
     ]
    }
   ],
   "source": [
    "lgbm_test = LGBMClassifier(random_state=12345, learning_rate=0.05, n_estimators=600, num_leaves=91)\n",
    "lgbm_test.fit(features_train_vec, target_train)\n",
    "predicted_test = lgbm_test.predict(features_test_vec)\n",
    "test_f1 = f1_score(target_test, predicted_test)\n",
    "print('f1:', test_f1)"
   ]
  },
  {
   "cell_type": "markdown",
   "metadata": {},
   "source": [
    "Результаты вполне удовлетворительные. Аж на 0.027 превышают пороговое значение. Можно считать, что мы научились достаточно точно выслеживать хейтеров в твиттере"
   ]
  },
  {
   "cell_type": "markdown",
   "metadata": {},
   "source": [
    "## Выводы"
   ]
  },
  {
   "cell_type": "markdown",
   "metadata": {},
   "source": [
    "По итогу работы можно сделать следующие выводы:\n",
    "* Обучать модели для анализа текстов - не так-то просто и очень трудоёмко/ресурсоёмко (билд LGBM для CUDA не даёт прироста производительности в случае с данным датасетом. CatBoost на GPU работает достойно, но крашит GridSearchCV)\n",
    "* Рассмотренные модели сопоставимы по качеству предсказаний, однако очень различаются по быстродействию. LGBM номинально даёт лучший результат на обучающей выборке, но медленная, а логрег быстрая, но даёт худшие результаты номинально"
   ]
  }
 ],
 "metadata": {
  "ExecuteTimeLog": [
   {
    "duration": 390,
    "start_time": "2022-07-23T17:01:43.429Z"
   },
   {
    "duration": 75752,
    "start_time": "2022-07-29T03:39:16.077Z"
   },
   {
    "duration": 2961,
    "start_time": "2022-07-29T03:40:31.831Z"
   },
   {
    "duration": 309,
    "start_time": "2022-07-29T03:40:34.794Z"
   },
   {
    "duration": 5,
    "start_time": "2022-07-29T03:40:35.105Z"
   },
   {
    "duration": 2699,
    "start_time": "2022-07-29T03:40:35.112Z"
   },
   {
    "duration": 82857,
    "start_time": "2022-07-29T03:40:37.814Z"
   },
   {
    "duration": 546,
    "start_time": "2022-07-29T03:42:00.674Z"
   },
   {
    "duration": 106,
    "start_time": "2022-07-29T03:42:01.223Z"
   },
   {
    "duration": 6459,
    "start_time": "2022-07-29T03:42:01.331Z"
   },
   {
    "duration": 9843059,
    "start_time": "2022-07-29T03:42:07.794Z"
   },
   {
    "duration": 4,
    "start_time": "2022-07-29T06:26:10.855Z"
   },
   {
    "duration": 13,
    "start_time": "2022-07-29T06:26:10.860Z"
   },
   {
    "duration": 7,
    "start_time": "2022-07-29T06:26:10.874Z"
   },
   {
    "duration": 72,
    "start_time": "2022-07-29T06:26:10.883Z"
   },
   {
    "duration": 6,
    "start_time": "2022-07-29T06:26:10.956Z"
   },
   {
    "duration": 84875,
    "start_time": "2022-07-29T07:46:11.720Z"
   },
   {
    "duration": 3015,
    "start_time": "2022-07-29T07:47:36.597Z"
   },
   {
    "duration": 282,
    "start_time": "2022-07-29T07:47:39.614Z"
   },
   {
    "duration": 3,
    "start_time": "2022-07-29T07:47:39.898Z"
   },
   {
    "duration": 2266,
    "start_time": "2022-07-29T07:47:39.902Z"
   },
   {
    "duration": 81049,
    "start_time": "2022-07-29T07:47:42.169Z"
   },
   {
    "duration": 245,
    "start_time": "2022-07-29T07:49:03.220Z"
   },
   {
    "duration": 50,
    "start_time": "2022-07-29T07:49:03.467Z"
   },
   {
    "duration": 6518,
    "start_time": "2022-07-29T07:49:03.518Z"
   },
   {
    "duration": 4,
    "start_time": "2022-07-29T07:49:10.039Z"
   },
   {
    "duration": 314,
    "start_time": "2022-07-29T07:49:10.045Z"
   },
   {
    "duration": 0,
    "start_time": "2022-07-29T07:49:10.360Z"
   },
   {
    "duration": 0,
    "start_time": "2022-07-29T07:49:10.361Z"
   },
   {
    "duration": 0,
    "start_time": "2022-07-29T07:49:10.362Z"
   },
   {
    "duration": 0,
    "start_time": "2022-07-29T07:49:10.363Z"
   },
   {
    "duration": 0,
    "start_time": "2022-07-29T07:49:10.363Z"
   },
   {
    "duration": 79257,
    "start_time": "2022-07-29T08:16:49.170Z"
   },
   {
    "duration": 702,
    "start_time": "2022-07-29T08:18:08.429Z"
   },
   {
    "duration": 268,
    "start_time": "2022-07-29T08:18:09.133Z"
   },
   {
    "duration": 3,
    "start_time": "2022-07-29T08:18:09.403Z"
   },
   {
    "duration": 2128,
    "start_time": "2022-07-29T08:18:09.407Z"
   },
   {
    "duration": 76108,
    "start_time": "2022-07-29T08:18:11.537Z"
   },
   {
    "duration": 233,
    "start_time": "2022-07-29T08:19:27.647Z"
   },
   {
    "duration": 49,
    "start_time": "2022-07-29T08:19:27.881Z"
   },
   {
    "duration": 5844,
    "start_time": "2022-07-29T08:19:27.932Z"
   },
   {
    "duration": 4,
    "start_time": "2022-07-29T08:19:33.778Z"
   },
   {
    "duration": 5,
    "start_time": "2022-07-29T08:19:33.784Z"
   },
   {
    "duration": 6,
    "start_time": "2022-07-29T08:19:33.790Z"
   },
   {
    "duration": 8,
    "start_time": "2022-07-29T08:19:33.797Z"
   },
   {
    "duration": 5,
    "start_time": "2022-07-29T08:19:33.806Z"
   },
   {
    "duration": 6,
    "start_time": "2022-07-29T08:19:33.812Z"
   },
   {
    "duration": 42,
    "start_time": "2022-07-29T08:36:46.857Z"
   },
   {
    "duration": 14278,
    "start_time": "2022-07-29T08:41:07.553Z"
   },
   {
    "duration": 82221,
    "start_time": "2022-07-29T08:41:28.263Z"
   },
   {
    "duration": 19,
    "start_time": "2022-07-29T08:45:35.766Z"
   },
   {
    "duration": 77479,
    "start_time": "2022-07-29T08:45:42.324Z"
   },
   {
    "duration": 2868,
    "start_time": "2022-07-29T08:46:59.805Z"
   },
   {
    "duration": 261,
    "start_time": "2022-07-29T08:47:02.675Z"
   },
   {
    "duration": 15,
    "start_time": "2022-07-29T08:47:02.938Z"
   },
   {
    "duration": 2118,
    "start_time": "2022-07-29T08:47:02.955Z"
   },
   {
    "duration": 74959,
    "start_time": "2022-07-29T08:47:05.075Z"
   },
   {
    "duration": 208,
    "start_time": "2022-07-29T08:48:20.036Z"
   },
   {
    "duration": 46,
    "start_time": "2022-07-29T08:48:20.251Z"
   },
   {
    "duration": 288,
    "start_time": "2022-07-29T08:48:20.298Z"
   },
   {
    "duration": 1,
    "start_time": "2022-07-29T08:48:20.587Z"
   },
   {
    "duration": 0,
    "start_time": "2022-07-29T08:48:20.589Z"
   },
   {
    "duration": 0,
    "start_time": "2022-07-29T08:48:20.590Z"
   },
   {
    "duration": 0,
    "start_time": "2022-07-29T08:48:20.591Z"
   },
   {
    "duration": 0,
    "start_time": "2022-07-29T08:48:20.592Z"
   },
   {
    "duration": 0,
    "start_time": "2022-07-29T08:48:20.593Z"
   },
   {
    "duration": 0,
    "start_time": "2022-07-29T08:48:20.594Z"
   },
   {
    "duration": 6188,
    "start_time": "2022-07-29T08:50:29.068Z"
   },
   {
    "duration": 3,
    "start_time": "2022-07-29T08:50:39.755Z"
   },
   {
    "duration": 3,
    "start_time": "2022-07-29T08:50:44.140Z"
   },
   {
    "duration": 4,
    "start_time": "2022-07-29T08:50:45.427Z"
   },
   {
    "duration": 4,
    "start_time": "2022-07-29T08:50:47.315Z"
   },
   {
    "duration": 4,
    "start_time": "2022-07-29T08:50:50.202Z"
   },
   {
    "duration": 62486,
    "start_time": "2022-07-30T09:36:49.616Z"
   },
   {
    "duration": 2527,
    "start_time": "2022-07-30T09:37:52.104Z"
   },
   {
    "duration": 321,
    "start_time": "2022-07-30T09:37:54.632Z"
   },
   {
    "duration": 4,
    "start_time": "2022-07-30T09:37:54.954Z"
   },
   {
    "duration": 2760,
    "start_time": "2022-07-30T09:37:54.960Z"
   },
   {
    "duration": 95925,
    "start_time": "2022-07-30T09:37:57.721Z"
   },
   {
    "duration": 550,
    "start_time": "2022-07-30T09:39:33.648Z"
   },
   {
    "duration": 86,
    "start_time": "2022-07-30T09:39:34.199Z"
   },
   {
    "duration": 6753,
    "start_time": "2022-07-30T09:39:34.297Z"
   },
   {
    "duration": 3,
    "start_time": "2022-07-30T09:39:41.052Z"
   },
   {
    "duration": 16,
    "start_time": "2022-07-30T09:39:41.057Z"
   },
   {
    "duration": 9,
    "start_time": "2022-07-30T09:39:41.075Z"
   },
   {
    "duration": 21,
    "start_time": "2022-07-30T09:39:41.085Z"
   },
   {
    "duration": 8,
    "start_time": "2022-07-30T09:39:41.109Z"
   },
   {
    "duration": 20,
    "start_time": "2022-07-30T09:39:41.118Z"
   },
   {
    "duration": 50,
    "start_time": "2022-07-30T09:40:48.212Z"
   },
   {
    "duration": 53038,
    "start_time": "2022-07-30T09:41:13.434Z"
   },
   {
    "duration": 2310,
    "start_time": "2022-07-30T09:42:06.475Z"
   },
   {
    "duration": 338,
    "start_time": "2022-07-30T09:42:08.787Z"
   },
   {
    "duration": 3,
    "start_time": "2022-07-30T09:42:09.128Z"
   },
   {
    "duration": 2617,
    "start_time": "2022-07-30T09:42:09.133Z"
   },
   {
    "duration": 92328,
    "start_time": "2022-07-30T09:42:11.752Z"
   },
   {
    "duration": 250,
    "start_time": "2022-07-30T09:43:44.081Z"
   },
   {
    "duration": 77,
    "start_time": "2022-07-30T09:43:44.333Z"
   }
  ],
  "kernelspec": {
   "display_name": "Python 3 (ipykernel)",
   "language": "python",
   "name": "python3"
  },
  "language_info": {
   "codemirror_mode": {
    "name": "ipython",
    "version": 3
   },
   "file_extension": ".py",
   "mimetype": "text/x-python",
   "name": "python",
   "nbconvert_exporter": "python",
   "pygments_lexer": "ipython3",
   "version": "3.9.13"
  },
  "toc": {
   "base_numbering": 1,
   "nav_menu": {},
   "number_sections": true,
   "sideBar": true,
   "skip_h1_title": true,
   "title_cell": "Содержание",
   "title_sidebar": "Contents",
   "toc_cell": true,
   "toc_position": {
    "height": "calc(100% - 180px)",
    "left": "10px",
    "top": "150px",
    "width": "302.391px"
   },
   "toc_section_display": true,
   "toc_window_display": true
  }
 },
 "nbformat": 4,
 "nbformat_minor": 2
}
