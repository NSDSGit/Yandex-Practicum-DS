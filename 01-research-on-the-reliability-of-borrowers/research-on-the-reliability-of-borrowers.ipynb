{
 "cells": [
  {
   "cell_type": "markdown",
   "id": "f0c31fe3",
   "metadata": {
    "toc": true
   },
   "source": [
    "<h1><span class=\"tocSkip\"></span></h1>\n",
    "<div class=\"toc\"><ul class=\"toc-item\"><li><span><a href=\"#Обзор-данных\" data-toc-modified-id=\"Обзор-данных-1\"><span class=\"toc-item-num\">1&nbsp;&nbsp;</span>Обзор данных</a></span><ul class=\"toc-item\"><li><span><a href=\"#Заполнение-пропусков\" data-toc-modified-id=\"Заполнение-пропусков-1.1\"><span class=\"toc-item-num\">1.1&nbsp;&nbsp;</span>Заполнение пропусков</a></span></li><li><span><a href=\"#Проверка-данных-на-аномалии-и-исправления.\" data-toc-modified-id=\"Проверка-данных-на-аномалии-и-исправления.-1.2\"><span class=\"toc-item-num\">1.2&nbsp;&nbsp;</span>Проверка данных на аномалии и исправления.</a></span></li><li><span><a href=\"#Изменение-типов-данных.\" data-toc-modified-id=\"Изменение-типов-данных.-1.3\"><span class=\"toc-item-num\">1.3&nbsp;&nbsp;</span>Изменение типов данных.</a></span></li><li><span><a href=\"#Удаление-дубликатов.\" data-toc-modified-id=\"Удаление-дубликатов.-1.4\"><span class=\"toc-item-num\">1.4&nbsp;&nbsp;</span>Удаление дубликатов.</a></span></li><li><span><a href=\"#Формирование-дополнительных-датафреймов-словарей,-декомпозиция-исходного-датафрейма.\" data-toc-modified-id=\"Формирование-дополнительных-датафреймов-словарей,-декомпозиция-исходного-датафрейма.-1.5\"><span class=\"toc-item-num\">1.5&nbsp;&nbsp;</span>Формирование дополнительных датафреймов словарей, декомпозиция исходного датафрейма.</a></span></li><li><span><a href=\"#Категоризация-дохода.\" data-toc-modified-id=\"Категоризация-дохода.-1.6\"><span class=\"toc-item-num\">1.6&nbsp;&nbsp;</span>Категоризация дохода.</a></span></li><li><span><a href=\"#Категоризация-целей-кредита.\" data-toc-modified-id=\"Категоризация-целей-кредита.-1.7\"><span class=\"toc-item-num\">1.7&nbsp;&nbsp;</span>Категоризация целей кредита.</a></span></li><li><span><a href=\"#Категоризация-по-количеству-детей.\" data-toc-modified-id=\"Категоризация-по-количеству-детей.-1.8\"><span class=\"toc-item-num\">1.8&nbsp;&nbsp;</span>Категоризация по количеству детей.</a></span></li><li><span><a href=\"#Ответы-на-вопросы.\" data-toc-modified-id=\"Ответы-на-вопросы.-1.9\"><span class=\"toc-item-num\">1.9&nbsp;&nbsp;</span>Ответы на вопросы.</a></span><ul class=\"toc-item\"><li><ul class=\"toc-item\"><li><span><a href=\"#Так-есть-ли-зависимость-между-количеством-детей-и-возвратом-кредита-в-срок?:\" data-toc-modified-id=\"Так-есть-ли-зависимость-между-количеством-детей-и-возвратом-кредита-в-срок?:-1.9.0.1\"><span class=\"toc-item-num\">1.9.0.1&nbsp;&nbsp;</span>Так есть ли зависимость между количеством детей и возвратом кредита в срок?:</a></span></li><li><span><a href=\"#Так-есть-ли-зависимость-между-семейным-положением-и-возвратом-кредита-в-срок?:\" data-toc-modified-id=\"Так-есть-ли-зависимость-между-семейным-положением-и-возвратом-кредита-в-срок?:-1.9.0.2\"><span class=\"toc-item-num\">1.9.0.2&nbsp;&nbsp;</span>Так есть ли зависимость между семейным положением и возвратом кредита в срок?:</a></span></li><li><span><a href=\"#Так-есть-ли-зависимость-между-уровнем-дохода-и-возвратом-кредита-в-срок?:\" data-toc-modified-id=\"Так-есть-ли-зависимость-между-уровнем-дохода-и-возвратом-кредита-в-срок?:-1.9.0.3\"><span class=\"toc-item-num\">1.9.0.3&nbsp;&nbsp;</span>Так есть ли зависимость между уровнем дохода и возвратом кредита в срок?:</a></span></li><li><span><a href=\"#Как-разные-цели-кредита-влияют-на-его-возврат-в-срок:\" data-toc-modified-id=\"Как-разные-цели-кредита-влияют-на-его-возврат-в-срок:-1.9.0.4\"><span class=\"toc-item-num\">1.9.0.4&nbsp;&nbsp;</span>Как разные цели кредита влияют на его возврат в срок:</a></span></li></ul></li></ul></li></ul></li><li><span><a href=\"#Общий-вывод\" data-toc-modified-id=\"Общий-вывод-2\"><span class=\"toc-item-num\">2&nbsp;&nbsp;</span>Общий вывод</a></span></li></ul></div>"
   ]
  },
  {
   "cell_type": "markdown",
   "id": "b58c48a1",
   "metadata": {},
   "source": [
    "# Исследование надежности заемщиков."
   ]
  },
  {
   "cell_type": "markdown",
   "id": "5631f776",
   "metadata": {},
   "source": [
    "## Обзор данных"
   ]
  },
  {
   "cell_type": "code",
   "execution_count": 1,
   "id": "ed1b28dd",
   "metadata": {
    "scrolled": true
   },
   "outputs": [
    {
     "data": {
      "text/html": [
       "<div>\n",
       "<style scoped>\n",
       "    .dataframe tbody tr th:only-of-type {\n",
       "        vertical-align: middle;\n",
       "    }\n",
       "\n",
       "    .dataframe tbody tr th {\n",
       "        vertical-align: top;\n",
       "    }\n",
       "\n",
       "    .dataframe thead th {\n",
       "        text-align: right;\n",
       "    }\n",
       "</style>\n",
       "<table border=\"1\" class=\"dataframe\">\n",
       "  <thead>\n",
       "    <tr style=\"text-align: right;\">\n",
       "      <th></th>\n",
       "      <th>children</th>\n",
       "      <th>days_employed</th>\n",
       "      <th>dob_years</th>\n",
       "      <th>education</th>\n",
       "      <th>education_id</th>\n",
       "      <th>family_status</th>\n",
       "      <th>family_status_id</th>\n",
       "      <th>gender</th>\n",
       "      <th>income_type</th>\n",
       "      <th>debt</th>\n",
       "      <th>total_income</th>\n",
       "      <th>purpose</th>\n",
       "    </tr>\n",
       "  </thead>\n",
       "  <tbody>\n",
       "    <tr>\n",
       "      <th>0</th>\n",
       "      <td>1</td>\n",
       "      <td>-8437.673028</td>\n",
       "      <td>42</td>\n",
       "      <td>высшее</td>\n",
       "      <td>0</td>\n",
       "      <td>женат / замужем</td>\n",
       "      <td>0</td>\n",
       "      <td>F</td>\n",
       "      <td>сотрудник</td>\n",
       "      <td>0</td>\n",
       "      <td>253875.639453</td>\n",
       "      <td>покупка жилья</td>\n",
       "    </tr>\n",
       "    <tr>\n",
       "      <th>1</th>\n",
       "      <td>1</td>\n",
       "      <td>-4024.803754</td>\n",
       "      <td>36</td>\n",
       "      <td>среднее</td>\n",
       "      <td>1</td>\n",
       "      <td>женат / замужем</td>\n",
       "      <td>0</td>\n",
       "      <td>F</td>\n",
       "      <td>сотрудник</td>\n",
       "      <td>0</td>\n",
       "      <td>112080.014102</td>\n",
       "      <td>приобретение автомобиля</td>\n",
       "    </tr>\n",
       "    <tr>\n",
       "      <th>2</th>\n",
       "      <td>0</td>\n",
       "      <td>-5623.422610</td>\n",
       "      <td>33</td>\n",
       "      <td>Среднее</td>\n",
       "      <td>1</td>\n",
       "      <td>женат / замужем</td>\n",
       "      <td>0</td>\n",
       "      <td>M</td>\n",
       "      <td>сотрудник</td>\n",
       "      <td>0</td>\n",
       "      <td>145885.952297</td>\n",
       "      <td>покупка жилья</td>\n",
       "    </tr>\n",
       "    <tr>\n",
       "      <th>3</th>\n",
       "      <td>3</td>\n",
       "      <td>-4124.747207</td>\n",
       "      <td>32</td>\n",
       "      <td>среднее</td>\n",
       "      <td>1</td>\n",
       "      <td>женат / замужем</td>\n",
       "      <td>0</td>\n",
       "      <td>M</td>\n",
       "      <td>сотрудник</td>\n",
       "      <td>0</td>\n",
       "      <td>267628.550329</td>\n",
       "      <td>дополнительное образование</td>\n",
       "    </tr>\n",
       "    <tr>\n",
       "      <th>4</th>\n",
       "      <td>0</td>\n",
       "      <td>340266.072047</td>\n",
       "      <td>53</td>\n",
       "      <td>среднее</td>\n",
       "      <td>1</td>\n",
       "      <td>гражданский брак</td>\n",
       "      <td>1</td>\n",
       "      <td>F</td>\n",
       "      <td>пенсионер</td>\n",
       "      <td>0</td>\n",
       "      <td>158616.077870</td>\n",
       "      <td>сыграть свадьбу</td>\n",
       "    </tr>\n",
       "    <tr>\n",
       "      <th>5</th>\n",
       "      <td>0</td>\n",
       "      <td>-926.185831</td>\n",
       "      <td>27</td>\n",
       "      <td>высшее</td>\n",
       "      <td>0</td>\n",
       "      <td>гражданский брак</td>\n",
       "      <td>1</td>\n",
       "      <td>M</td>\n",
       "      <td>компаньон</td>\n",
       "      <td>0</td>\n",
       "      <td>255763.565419</td>\n",
       "      <td>покупка жилья</td>\n",
       "    </tr>\n",
       "    <tr>\n",
       "      <th>6</th>\n",
       "      <td>0</td>\n",
       "      <td>-2879.202052</td>\n",
       "      <td>43</td>\n",
       "      <td>высшее</td>\n",
       "      <td>0</td>\n",
       "      <td>женат / замужем</td>\n",
       "      <td>0</td>\n",
       "      <td>F</td>\n",
       "      <td>компаньон</td>\n",
       "      <td>0</td>\n",
       "      <td>240525.971920</td>\n",
       "      <td>операции с жильем</td>\n",
       "    </tr>\n",
       "    <tr>\n",
       "      <th>7</th>\n",
       "      <td>0</td>\n",
       "      <td>-152.779569</td>\n",
       "      <td>50</td>\n",
       "      <td>СРЕДНЕЕ</td>\n",
       "      <td>1</td>\n",
       "      <td>женат / замужем</td>\n",
       "      <td>0</td>\n",
       "      <td>M</td>\n",
       "      <td>сотрудник</td>\n",
       "      <td>0</td>\n",
       "      <td>135823.934197</td>\n",
       "      <td>образование</td>\n",
       "    </tr>\n",
       "    <tr>\n",
       "      <th>8</th>\n",
       "      <td>2</td>\n",
       "      <td>-6929.865299</td>\n",
       "      <td>35</td>\n",
       "      <td>ВЫСШЕЕ</td>\n",
       "      <td>0</td>\n",
       "      <td>гражданский брак</td>\n",
       "      <td>1</td>\n",
       "      <td>F</td>\n",
       "      <td>сотрудник</td>\n",
       "      <td>0</td>\n",
       "      <td>95856.832424</td>\n",
       "      <td>на проведение свадьбы</td>\n",
       "    </tr>\n",
       "    <tr>\n",
       "      <th>9</th>\n",
       "      <td>0</td>\n",
       "      <td>-2188.756445</td>\n",
       "      <td>41</td>\n",
       "      <td>среднее</td>\n",
       "      <td>1</td>\n",
       "      <td>женат / замужем</td>\n",
       "      <td>0</td>\n",
       "      <td>M</td>\n",
       "      <td>сотрудник</td>\n",
       "      <td>0</td>\n",
       "      <td>144425.938277</td>\n",
       "      <td>покупка жилья для семьи</td>\n",
       "    </tr>\n",
       "  </tbody>\n",
       "</table>\n",
       "</div>"
      ],
      "text/plain": [
       "   children  days_employed  dob_years education  education_id  \\\n",
       "0         1   -8437.673028         42    высшее             0   \n",
       "1         1   -4024.803754         36   среднее             1   \n",
       "2         0   -5623.422610         33   Среднее             1   \n",
       "3         3   -4124.747207         32   среднее             1   \n",
       "4         0  340266.072047         53   среднее             1   \n",
       "5         0    -926.185831         27    высшее             0   \n",
       "6         0   -2879.202052         43    высшее             0   \n",
       "7         0    -152.779569         50   СРЕДНЕЕ             1   \n",
       "8         2   -6929.865299         35    ВЫСШЕЕ             0   \n",
       "9         0   -2188.756445         41   среднее             1   \n",
       "\n",
       "      family_status  family_status_id gender income_type  debt   total_income  \\\n",
       "0   женат / замужем                 0      F   сотрудник     0  253875.639453   \n",
       "1   женат / замужем                 0      F   сотрудник     0  112080.014102   \n",
       "2   женат / замужем                 0      M   сотрудник     0  145885.952297   \n",
       "3   женат / замужем                 0      M   сотрудник     0  267628.550329   \n",
       "4  гражданский брак                 1      F   пенсионер     0  158616.077870   \n",
       "5  гражданский брак                 1      M   компаньон     0  255763.565419   \n",
       "6   женат / замужем                 0      F   компаньон     0  240525.971920   \n",
       "7   женат / замужем                 0      M   сотрудник     0  135823.934197   \n",
       "8  гражданский брак                 1      F   сотрудник     0   95856.832424   \n",
       "9   женат / замужем                 0      M   сотрудник     0  144425.938277   \n",
       "\n",
       "                      purpose  \n",
       "0               покупка жилья  \n",
       "1     приобретение автомобиля  \n",
       "2               покупка жилья  \n",
       "3  дополнительное образование  \n",
       "4             сыграть свадьбу  \n",
       "5               покупка жилья  \n",
       "6           операции с жильем  \n",
       "7                 образование  \n",
       "8       на проведение свадьбы  \n",
       "9     покупка жилья для семьи  "
      ]
     },
     "execution_count": 1,
     "metadata": {},
     "output_type": "execute_result"
    }
   ],
   "source": [
    "import pandas as pd # импорт библиотеки pandas\n",
    "import numpy as np # импорт библиотеки numpy на всякий случай\n",
    "\n",
    "try:\n",
    "    df = pd.read_csv('data.csv')\n",
    "except:\n",
    "    df = pd.read_csv('/datasets/data.csv') # чтение файла с данными и запись в df\n",
    "\n",
    "df.head(10) # получение первых 10 строк таблицы df"
   ]
  },
  {
   "cell_type": "code",
   "execution_count": 2,
   "id": "e768fb7d",
   "metadata": {
    "scrolled": false
   },
   "outputs": [
    {
     "name": "stdout",
     "output_type": "stream",
     "text": [
      "<class 'pandas.core.frame.DataFrame'>\n",
      "RangeIndex: 21525 entries, 0 to 21524\n",
      "Data columns (total 12 columns):\n",
      " #   Column            Non-Null Count  Dtype  \n",
      "---  ------            --------------  -----  \n",
      " 0   children          21525 non-null  int64  \n",
      " 1   days_employed     19351 non-null  float64\n",
      " 2   dob_years         21525 non-null  int64  \n",
      " 3   education         21525 non-null  object \n",
      " 4   education_id      21525 non-null  int64  \n",
      " 5   family_status     21525 non-null  object \n",
      " 6   family_status_id  21525 non-null  int64  \n",
      " 7   gender            21525 non-null  object \n",
      " 8   income_type       21525 non-null  object \n",
      " 9   debt              21525 non-null  int64  \n",
      " 10  total_income      19351 non-null  float64\n",
      " 11  purpose           21525 non-null  object \n",
      "dtypes: float64(2), int64(5), object(5)\n",
      "memory usage: 2.0+ MB\n"
     ]
    }
   ],
   "source": [
    "df.info() # получение общей информации о данных в таблице df"
   ]
  },
  {
   "cell_type": "markdown",
   "id": "f88f7052",
   "metadata": {},
   "source": [
    "Из беглого осмотра данных можно сделать первые заключения:\n",
    "*    1. Проблем с названием столбцов - нет. Это здорово.\n",
    "*    2. Есть проблема с пропущенными значениями с столбцах `'days_employed'` и `'total_income'`. Ими предстоит заняться далее."
   ]
  },
  {
   "cell_type": "code",
   "execution_count": 3,
   "id": "d6380eee",
   "metadata": {
    "scrolled": true
   },
   "outputs": [
    {
     "data": {
      "text/plain": [
       "('Доля пропущенных значений в %:',\n",
       " children             0.0\n",
       " days_employed       10.1\n",
       " dob_years            0.0\n",
       " education            0.0\n",
       " education_id         0.0\n",
       " family_status        0.0\n",
       " family_status_id     0.0\n",
       " gender               0.0\n",
       " income_type          0.0\n",
       " debt                 0.0\n",
       " total_income        10.1\n",
       " purpose              0.0\n",
       " dtype: float64)"
      ]
     },
     "execution_count": 3,
     "metadata": {},
     "output_type": "execute_result"
    }
   ],
   "source": [
    "'Доля пропущенных значений в %:', (df.isna().mean()*100).round(1)\n"
   ]
  },
  {
   "cell_type": "markdown",
   "id": "c9347d75",
   "metadata": {},
   "source": [
    "### Заполнение пропусков"
   ]
  },
  {
   "cell_type": "markdown",
   "id": "e94ad401",
   "metadata": {},
   "source": [
    "**Пропуски:**\n",
    "* Так как метод `info()` указал нам на пропуски в данных, нужно от них как-то избавляться. Кроме того, доля пропусков в 10% говорит нам о том, что, при удалении данных с пропусками, мы значительно потеряем в объёме выборки.\n",
    "* Теоретически, пропуски в данных могли оказаться от банального нежелания указывать эти данные. Возможно мы имеем дело с самозанятыми или предпринимателями, работающими неофициально.\n",
    "\n",
    "\n"
   ]
  },
  {
   "cell_type": "markdown",
   "id": "11c02184",
   "metadata": {},
   "source": [
    "**Что делать?**"
   ]
  },
  {
   "cell_type": "markdown",
   "id": "67fb455c",
   "metadata": {},
   "source": [
    "Будем заменять пропуски на медианные значения, т.к. для количественных переменных, медиана - лучший вариант.\n",
    "Выбросы в данных влияют на неё в меньшей степени, чем на среднее арифметическое."
   ]
  },
  {
   "cell_type": "code",
   "execution_count": 4,
   "id": "ebad88a4",
   "metadata": {},
   "outputs": [
    {
     "name": "stdout",
     "output_type": "stream",
     "text": [
      "<class 'pandas.core.frame.DataFrame'>\n",
      "RangeIndex: 21525 entries, 0 to 21524\n",
      "Data columns (total 12 columns):\n",
      " #   Column            Non-Null Count  Dtype  \n",
      "---  ------            --------------  -----  \n",
      " 0   children          21525 non-null  int64  \n",
      " 1   days_employed     21525 non-null  float64\n",
      " 2   dob_years         21525 non-null  int64  \n",
      " 3   education         21525 non-null  object \n",
      " 4   education_id      21525 non-null  int64  \n",
      " 5   family_status     21525 non-null  object \n",
      " 6   family_status_id  21525 non-null  int64  \n",
      " 7   gender            21525 non-null  object \n",
      " 8   income_type       21525 non-null  object \n",
      " 9   debt              21525 non-null  int64  \n",
      " 10  total_income      21525 non-null  float64\n",
      " 11  purpose           21525 non-null  object \n",
      "dtypes: float64(2), int64(5), object(5)\n",
      "memory usage: 2.0+ MB\n"
     ]
    }
   ],
   "source": [
    "columns_to_replace = ['days_employed', 'total_income'] # создаём переменную с названиями целевых столбцов\n",
    "for column in columns_to_replace: # перебор названий столбцов в цикле и замена пропущенных значений на 'unknown'\n",
    "    median = df[column].median() # подсчёт медианы для каждого столбца\n",
    "    df[column] = df[column].fillna(median) # непосрдественно замена\n",
    "df.info() # проверяем результат"
   ]
  },
  {
   "cell_type": "markdown",
   "id": "06870a2a",
   "metadata": {},
   "source": [
    "С пропусками порядок. Двигаемся дальше..."
   ]
  },
  {
   "cell_type": "markdown",
   "id": "7a1649f7",
   "metadata": {},
   "source": [
    "### Проверка данных на аномалии и исправления.\n",
    "\n",
    "Ввиду обозначенных вопросов иследования, имеем целевые переменные для проверки на аномалии:\n",
    "* `'children'` — количество детей в семье\n",
    "*`'family_status'` - семейное положение\n",
    "*`'total_income'` - ежемесячный доход\n",
    "*`'purpose'` - цель получения кредита\n",
    "*`'debt'` - имел ли задолженность по возврату кредитов\n",
    "\n",
    "В значениях `'days_employed'` при ознакомительном осмотре обнаружили отрицательные и очень большие числа, что затрудняет определение логики их смысла. Но, по условию задачи, эти данные нам не нужны, поэтому предлагаю оставить \"как есть\"."
   ]
  },
  {
   "cell_type": "code",
   "execution_count": 5,
   "id": "fa462aab",
   "metadata": {},
   "outputs": [
    {
     "data": {
      "text/plain": [
       "array([-1,  0,  1,  2,  3,  4,  5, 20], dtype=int64)"
      ]
     },
     "execution_count": 5,
     "metadata": {},
     "output_type": "execute_result"
    }
   ],
   "source": [
    "df['children'].sort_values().unique() # считаем уникальные значения\n"
   ]
  },
  {
   "cell_type": "markdown",
   "id": "1566023c",
   "metadata": {},
   "source": [
    " Это странно, поэтому,  предлагаю заменить выбросы на 1 (предполагаем, что \"-\" лишний) и 2 (предполагаем что \"0\" лишний), соответственно.\n"
   ]
  },
  {
   "cell_type": "code",
   "execution_count": 6,
   "id": "7237308c",
   "metadata": {},
   "outputs": [
    {
     "data": {
      "text/plain": [
       "array([0, 1, 2, 3, 4, 5], dtype=int64)"
      ]
     },
     "execution_count": 6,
     "metadata": {},
     "output_type": "execute_result"
    }
   ],
   "source": [
    "df.loc[df['children'] == -1] = 1 \n",
    "df.loc[df['children'] == 20] = 2\n",
    "df['children'].sort_values().unique()"
   ]
  },
  {
   "cell_type": "markdown",
   "id": "15cce9fc",
   "metadata": {},
   "source": [
    "Движемся далее"
   ]
  },
  {
   "cell_type": "code",
   "execution_count": 7,
   "id": "02338f64",
   "metadata": {
    "scrolled": true
   },
   "outputs": [
    {
     "data": {
      "text/html": [
       "<div>\n",
       "<style scoped>\n",
       "    .dataframe tbody tr th:only-of-type {\n",
       "        vertical-align: middle;\n",
       "    }\n",
       "\n",
       "    .dataframe tbody tr th {\n",
       "        vertical-align: top;\n",
       "    }\n",
       "\n",
       "    .dataframe thead th {\n",
       "        text-align: right;\n",
       "    }\n",
       "</style>\n",
       "<table border=\"1\" class=\"dataframe\">\n",
       "  <thead>\n",
       "    <tr style=\"text-align: right;\">\n",
       "      <th></th>\n",
       "      <th>children</th>\n",
       "      <th>days_employed</th>\n",
       "      <th>dob_years</th>\n",
       "      <th>education</th>\n",
       "      <th>education_id</th>\n",
       "      <th>family_status</th>\n",
       "      <th>family_status_id</th>\n",
       "      <th>gender</th>\n",
       "      <th>income_type</th>\n",
       "      <th>debt</th>\n",
       "      <th>total_income</th>\n",
       "      <th>purpose</th>\n",
       "    </tr>\n",
       "  </thead>\n",
       "  <tbody>\n",
       "    <tr>\n",
       "      <th>291</th>\n",
       "      <td>1</td>\n",
       "      <td>1.0</td>\n",
       "      <td>1</td>\n",
       "      <td>1</td>\n",
       "      <td>1</td>\n",
       "      <td>1</td>\n",
       "      <td>1</td>\n",
       "      <td>1</td>\n",
       "      <td>1</td>\n",
       "      <td>1</td>\n",
       "      <td>1.0</td>\n",
       "      <td>1</td>\n",
       "    </tr>\n",
       "    <tr>\n",
       "      <th>606</th>\n",
       "      <td>2</td>\n",
       "      <td>2.0</td>\n",
       "      <td>2</td>\n",
       "      <td>2</td>\n",
       "      <td>2</td>\n",
       "      <td>2</td>\n",
       "      <td>2</td>\n",
       "      <td>2</td>\n",
       "      <td>2</td>\n",
       "      <td>2</td>\n",
       "      <td>2.0</td>\n",
       "      <td>2</td>\n",
       "    </tr>\n",
       "    <tr>\n",
       "      <th>705</th>\n",
       "      <td>1</td>\n",
       "      <td>1.0</td>\n",
       "      <td>1</td>\n",
       "      <td>1</td>\n",
       "      <td>1</td>\n",
       "      <td>1</td>\n",
       "      <td>1</td>\n",
       "      <td>1</td>\n",
       "      <td>1</td>\n",
       "      <td>1</td>\n",
       "      <td>1.0</td>\n",
       "      <td>1</td>\n",
       "    </tr>\n",
       "    <tr>\n",
       "      <th>720</th>\n",
       "      <td>2</td>\n",
       "      <td>2.0</td>\n",
       "      <td>2</td>\n",
       "      <td>2</td>\n",
       "      <td>2</td>\n",
       "      <td>2</td>\n",
       "      <td>2</td>\n",
       "      <td>2</td>\n",
       "      <td>2</td>\n",
       "      <td>2</td>\n",
       "      <td>2.0</td>\n",
       "      <td>2</td>\n",
       "    </tr>\n",
       "    <tr>\n",
       "      <th>742</th>\n",
       "      <td>1</td>\n",
       "      <td>1.0</td>\n",
       "      <td>1</td>\n",
       "      <td>1</td>\n",
       "      <td>1</td>\n",
       "      <td>1</td>\n",
       "      <td>1</td>\n",
       "      <td>1</td>\n",
       "      <td>1</td>\n",
       "      <td>1</td>\n",
       "      <td>1.0</td>\n",
       "      <td>1</td>\n",
       "    </tr>\n",
       "    <tr>\n",
       "      <th>800</th>\n",
       "      <td>1</td>\n",
       "      <td>1.0</td>\n",
       "      <td>1</td>\n",
       "      <td>1</td>\n",
       "      <td>1</td>\n",
       "      <td>1</td>\n",
       "      <td>1</td>\n",
       "      <td>1</td>\n",
       "      <td>1</td>\n",
       "      <td>1</td>\n",
       "      <td>1.0</td>\n",
       "      <td>1</td>\n",
       "    </tr>\n",
       "    <tr>\n",
       "      <th>941</th>\n",
       "      <td>1</td>\n",
       "      <td>1.0</td>\n",
       "      <td>1</td>\n",
       "      <td>1</td>\n",
       "      <td>1</td>\n",
       "      <td>1</td>\n",
       "      <td>1</td>\n",
       "      <td>1</td>\n",
       "      <td>1</td>\n",
       "      <td>1</td>\n",
       "      <td>1.0</td>\n",
       "      <td>1</td>\n",
       "    </tr>\n",
       "    <tr>\n",
       "      <th>1074</th>\n",
       "      <td>2</td>\n",
       "      <td>2.0</td>\n",
       "      <td>2</td>\n",
       "      <td>2</td>\n",
       "      <td>2</td>\n",
       "      <td>2</td>\n",
       "      <td>2</td>\n",
       "      <td>2</td>\n",
       "      <td>2</td>\n",
       "      <td>2</td>\n",
       "      <td>2.0</td>\n",
       "      <td>2</td>\n",
       "    </tr>\n",
       "    <tr>\n",
       "      <th>1363</th>\n",
       "      <td>1</td>\n",
       "      <td>1.0</td>\n",
       "      <td>1</td>\n",
       "      <td>1</td>\n",
       "      <td>1</td>\n",
       "      <td>1</td>\n",
       "      <td>1</td>\n",
       "      <td>1</td>\n",
       "      <td>1</td>\n",
       "      <td>1</td>\n",
       "      <td>1.0</td>\n",
       "      <td>1</td>\n",
       "    </tr>\n",
       "    <tr>\n",
       "      <th>1929</th>\n",
       "      <td>1</td>\n",
       "      <td>1.0</td>\n",
       "      <td>1</td>\n",
       "      <td>1</td>\n",
       "      <td>1</td>\n",
       "      <td>1</td>\n",
       "      <td>1</td>\n",
       "      <td>1</td>\n",
       "      <td>1</td>\n",
       "      <td>1</td>\n",
       "      <td>1.0</td>\n",
       "      <td>1</td>\n",
       "    </tr>\n",
       "  </tbody>\n",
       "</table>\n",
       "</div>"
      ],
      "text/plain": [
       "      children  days_employed  dob_years education  education_id  \\\n",
       "291          1            1.0          1         1             1   \n",
       "606          2            2.0          2         2             2   \n",
       "705          1            1.0          1         1             1   \n",
       "720          2            2.0          2         2             2   \n",
       "742          1            1.0          1         1             1   \n",
       "800          1            1.0          1         1             1   \n",
       "941          1            1.0          1         1             1   \n",
       "1074         2            2.0          2         2             2   \n",
       "1363         1            1.0          1         1             1   \n",
       "1929         1            1.0          1         1             1   \n",
       "\n",
       "     family_status  family_status_id gender income_type  debt  total_income  \\\n",
       "291              1                 1      1           1     1           1.0   \n",
       "606              2                 2      2           2     2           2.0   \n",
       "705              1                 1      1           1     1           1.0   \n",
       "720              2                 2      2           2     2           2.0   \n",
       "742              1                 1      1           1     1           1.0   \n",
       "800              1                 1      1           1     1           1.0   \n",
       "941              1                 1      1           1     1           1.0   \n",
       "1074             2                 2      2           2     2           2.0   \n",
       "1363             1                 1      1           1     1           1.0   \n",
       "1929             1                 1      1           1     1           1.0   \n",
       "\n",
       "     purpose  \n",
       "291        1  \n",
       "606        2  \n",
       "705        1  \n",
       "720        2  \n",
       "742        1  \n",
       "800        1  \n",
       "941        1  \n",
       "1074       2  \n",
       "1363       1  \n",
       "1929       1  "
      ]
     },
     "execution_count": 7,
     "metadata": {},
     "output_type": "execute_result"
    }
   ],
   "source": [
    "df['family_status'].unique() # смотрим уникальные значения. 1 и 2  - странно для семейного статуса \n",
    "df[(df['family_status'] == 1) | (df['family_status'] == 2)].head(10) # смотрим на эти строки со значениями. Выглядят ошибками или мусором "
   ]
  },
  {
   "cell_type": "markdown",
   "id": "a0efbf44",
   "metadata": {},
   "source": [
    "Предлагаю удалить. Тем более их всего 123"
   ]
  },
  {
   "cell_type": "code",
   "execution_count": 8,
   "id": "587560de",
   "metadata": {},
   "outputs": [
    {
     "data": {
      "text/plain": [
       "array(['женат / замужем', 'гражданский брак', 'вдовец / вдова',\n",
       "       'в разводе', 'Не женат / не замужем'], dtype=object)"
      ]
     },
     "execution_count": 8,
     "metadata": {},
     "output_type": "execute_result"
    }
   ],
   "source": [
    "df = df.loc[df['family_status'] != 1] # удаляем\n",
    "df = df.loc[df['family_status'] != 2] # удаляем\n",
    "df['family_status'].unique() # проверяем. Профит\n"
   ]
  },
  {
   "cell_type": "markdown",
   "id": "571b58bd",
   "metadata": {},
   "source": [
    "Движемся далее"
   ]
  },
  {
   "cell_type": "code",
   "execution_count": 9,
   "id": "4e001cff",
   "metadata": {
    "scrolled": true
   },
   "outputs": [
    {
     "data": {
      "text/plain": [
       "array([  20667.26379327,   21205.28056622,   21367.64835649, ...,\n",
       "       1726276.01433167, 2200852.2102589 , 2265604.02872274])"
      ]
     },
     "execution_count": 9,
     "metadata": {},
     "output_type": "execute_result"
    }
   ],
   "source": [
    "df['total_income'].sort_values().unique() # смотрим уникальные значения"
   ]
  },
  {
   "cell_type": "markdown",
   "id": "06ec5e18",
   "metadata": {},
   "source": [
    "Тут мы ранее уже заменили пропуски и вроде норм."
   ]
  },
  {
   "cell_type": "code",
   "execution_count": 10,
   "id": "6e597a0f",
   "metadata": {},
   "outputs": [
    {
     "data": {
      "text/plain": [
       "array([0, 1], dtype=int64)"
      ]
     },
     "execution_count": 10,
     "metadata": {},
     "output_type": "execute_result"
    }
   ],
   "source": [
    "df['debt'].sort_values().unique() # смотрим уникальные значения "
   ]
  },
  {
   "cell_type": "markdown",
   "id": "be918980",
   "metadata": {},
   "source": [
    "Тут всё нормально. "
   ]
  },
  {
   "cell_type": "markdown",
   "id": "3d20cb97",
   "metadata": {},
   "source": [
    "### Изменение типов данных.\n",
    "\n",
    "Столбец `'total_income'` предлагается изменить на тип данных int. Что ж... копейки считать не будем."
   ]
  },
  {
   "cell_type": "code",
   "execution_count": 11,
   "id": "3aa03c80",
   "metadata": {},
   "outputs": [
    {
     "data": {
      "text/plain": [
       "dtype('int32')"
      ]
     },
     "execution_count": 11,
     "metadata": {},
     "output_type": "execute_result"
    }
   ],
   "source": [
    "df['total_income'] = df['total_income'].astype(int)\n",
    "df['total_income'].dtypes\n"
   ]
  },
  {
   "cell_type": "markdown",
   "id": "0cf63fd1",
   "metadata": {},
   "source": [
    "Готово."
   ]
  },
  {
   "cell_type": "markdown",
   "id": "ba85be30",
   "metadata": {},
   "source": [
    "### Удаление дубликатов.\n",
    "\n",
    "Задача, очевидно, разделилась на 2 части:\n",
    "* Искать неявные дубликаты и обрабатывать:\n",
    " - Первый претендент - `'purpose'`, но его мы трогать не будем, иначе в шаге 2.6 будет делать нечего\n",
    " - Второй претендент - `'education'`, но пока не ясно зачем оно нам\n",
    " - Остальные претенденты - оставшиеся столбцы, согласно заданию"
   ]
  },
  {
   "cell_type": "code",
   "execution_count": 12,
   "id": "9df69da0",
   "metadata": {
    "scrolled": true
   },
   "outputs": [
    {
     "data": {
      "text/plain": [
       "array(['ВЫСШЕЕ', 'Высшее', 'НАЧАЛЬНОЕ', 'НЕОКОНЧЕННОЕ ВЫСШЕЕ',\n",
       "       'Начальное', 'Неоконченное высшее', 'СРЕДНЕЕ', 'Среднее',\n",
       "       'УЧЕНАЯ СТЕПЕНЬ', 'Ученая степень', 'высшее', 'начальное',\n",
       "       'неоконченное высшее', 'среднее', 'ученая степень'], dtype=object)"
      ]
     },
     "execution_count": 12,
     "metadata": {},
     "output_type": "execute_result"
    }
   ],
   "source": [
    "df['education'].sort_values().unique() # смотрим уникальные значения"
   ]
  },
  {
   "cell_type": "markdown",
   "id": "68afa857",
   "metadata": {},
   "source": [
    "Есть проблемы с регистром, исправляем"
   ]
  },
  {
   "cell_type": "code",
   "execution_count": 13,
   "id": "7f38b514",
   "metadata": {
    "scrolled": true
   },
   "outputs": [
    {
     "data": {
      "text/plain": [
       "array(['высшее', 'начальное', 'неоконченное высшее', 'среднее',\n",
       "       'ученая степень'], dtype=object)"
      ]
     },
     "execution_count": 13,
     "metadata": {},
     "output_type": "execute_result"
    }
   ],
   "source": [
    "df['education'] = df['education'].str.lower() # Заполняем всё неправильное нижним регистром\n",
    "df['education'].sort_values().unique() # профит"
   ]
  },
  {
   "cell_type": "markdown",
   "id": "82e3b2ac",
   "metadata": {},
   "source": [
    "Смотрим остальные с типом object"
   ]
  },
  {
   "cell_type": "code",
   "execution_count": 14,
   "id": "a70f109f",
   "metadata": {
    "scrolled": true
   },
   "outputs": [
    {
     "data": {
      "text/plain": [
       "array(['безработный', 'в декрете', 'госслужащий', 'компаньон',\n",
       "       'пенсионер', 'предприниматель', 'сотрудник', 'студент'],\n",
       "      dtype=object)"
      ]
     },
     "execution_count": 14,
     "metadata": {},
     "output_type": "execute_result"
    }
   ],
   "source": [
    "df['gender'].sort_values().unique() # XNA это странно, но трогать не будем\n",
    "df['income_type'].sort_values().unique() # порядок, но \"компапьнон\" вызывает некоторые вопросы"
   ]
  },
  {
   "cell_type": "markdown",
   "id": "b498b470",
   "metadata": {},
   "source": [
    "* Искать явные и удалять их:"
   ]
  },
  {
   "cell_type": "code",
   "execution_count": 15,
   "id": "abf8094c",
   "metadata": {},
   "outputs": [
    {
     "name": "stdout",
     "output_type": "stream",
     "text": [
      "До 71\n",
      "После 0\n"
     ]
    }
   ],
   "source": [
    "print('До', df.duplicated().sum()) # ищем явные дубликаты\n",
    "df = df.drop_duplicates() # удаляем их\n",
    "print('После', df.duplicated().sum()) # Профит"
   ]
  },
  {
   "cell_type": "markdown",
   "id": "02befe54",
   "metadata": {},
   "source": [
    "### Формирование дополнительных датафреймов словарей, декомпозиция исходного датафрейма.\n",
    "\n",
    "Далее создадим 2 датафрейма, согласно заданию и удалим нужные столбцы из исходного"
   ]
  },
  {
   "cell_type": "code",
   "execution_count": 16,
   "id": "21ba2ecc",
   "metadata": {},
   "outputs": [
    {
     "data": {
      "text/html": [
       "<div>\n",
       "<style scoped>\n",
       "    .dataframe tbody tr th:only-of-type {\n",
       "        vertical-align: middle;\n",
       "    }\n",
       "\n",
       "    .dataframe tbody tr th {\n",
       "        vertical-align: top;\n",
       "    }\n",
       "\n",
       "    .dataframe thead th {\n",
       "        text-align: right;\n",
       "    }\n",
       "</style>\n",
       "<table border=\"1\" class=\"dataframe\">\n",
       "  <thead>\n",
       "    <tr style=\"text-align: right;\">\n",
       "      <th></th>\n",
       "      <th>children</th>\n",
       "      <th>days_employed</th>\n",
       "      <th>dob_years</th>\n",
       "      <th>education_id</th>\n",
       "      <th>family_status_id</th>\n",
       "      <th>gender</th>\n",
       "      <th>income_type</th>\n",
       "      <th>debt</th>\n",
       "      <th>total_income</th>\n",
       "      <th>purpose</th>\n",
       "    </tr>\n",
       "  </thead>\n",
       "  <tbody>\n",
       "    <tr>\n",
       "      <th>0</th>\n",
       "      <td>1</td>\n",
       "      <td>-8437.673028</td>\n",
       "      <td>42</td>\n",
       "      <td>0</td>\n",
       "      <td>0</td>\n",
       "      <td>F</td>\n",
       "      <td>сотрудник</td>\n",
       "      <td>0</td>\n",
       "      <td>253875</td>\n",
       "      <td>покупка жилья</td>\n",
       "    </tr>\n",
       "    <tr>\n",
       "      <th>1</th>\n",
       "      <td>1</td>\n",
       "      <td>-4024.803754</td>\n",
       "      <td>36</td>\n",
       "      <td>1</td>\n",
       "      <td>0</td>\n",
       "      <td>F</td>\n",
       "      <td>сотрудник</td>\n",
       "      <td>0</td>\n",
       "      <td>112080</td>\n",
       "      <td>приобретение автомобиля</td>\n",
       "    </tr>\n",
       "    <tr>\n",
       "      <th>2</th>\n",
       "      <td>0</td>\n",
       "      <td>-5623.422610</td>\n",
       "      <td>33</td>\n",
       "      <td>1</td>\n",
       "      <td>0</td>\n",
       "      <td>M</td>\n",
       "      <td>сотрудник</td>\n",
       "      <td>0</td>\n",
       "      <td>145885</td>\n",
       "      <td>покупка жилья</td>\n",
       "    </tr>\n",
       "    <tr>\n",
       "      <th>3</th>\n",
       "      <td>3</td>\n",
       "      <td>-4124.747207</td>\n",
       "      <td>32</td>\n",
       "      <td>1</td>\n",
       "      <td>0</td>\n",
       "      <td>M</td>\n",
       "      <td>сотрудник</td>\n",
       "      <td>0</td>\n",
       "      <td>267628</td>\n",
       "      <td>дополнительное образование</td>\n",
       "    </tr>\n",
       "    <tr>\n",
       "      <th>4</th>\n",
       "      <td>0</td>\n",
       "      <td>340266.072047</td>\n",
       "      <td>53</td>\n",
       "      <td>1</td>\n",
       "      <td>1</td>\n",
       "      <td>F</td>\n",
       "      <td>пенсионер</td>\n",
       "      <td>0</td>\n",
       "      <td>158616</td>\n",
       "      <td>сыграть свадьбу</td>\n",
       "    </tr>\n",
       "    <tr>\n",
       "      <th>...</th>\n",
       "      <td>...</td>\n",
       "      <td>...</td>\n",
       "      <td>...</td>\n",
       "      <td>...</td>\n",
       "      <td>...</td>\n",
       "      <td>...</td>\n",
       "      <td>...</td>\n",
       "      <td>...</td>\n",
       "      <td>...</td>\n",
       "      <td>...</td>\n",
       "    </tr>\n",
       "    <tr>\n",
       "      <th>21520</th>\n",
       "      <td>1</td>\n",
       "      <td>-4529.316663</td>\n",
       "      <td>43</td>\n",
       "      <td>1</td>\n",
       "      <td>1</td>\n",
       "      <td>F</td>\n",
       "      <td>компаньон</td>\n",
       "      <td>0</td>\n",
       "      <td>224791</td>\n",
       "      <td>операции с жильем</td>\n",
       "    </tr>\n",
       "    <tr>\n",
       "      <th>21521</th>\n",
       "      <td>0</td>\n",
       "      <td>343937.404131</td>\n",
       "      <td>67</td>\n",
       "      <td>1</td>\n",
       "      <td>0</td>\n",
       "      <td>F</td>\n",
       "      <td>пенсионер</td>\n",
       "      <td>0</td>\n",
       "      <td>155999</td>\n",
       "      <td>сделка с автомобилем</td>\n",
       "    </tr>\n",
       "    <tr>\n",
       "      <th>21522</th>\n",
       "      <td>1</td>\n",
       "      <td>-2113.346888</td>\n",
       "      <td>38</td>\n",
       "      <td>1</td>\n",
       "      <td>1</td>\n",
       "      <td>M</td>\n",
       "      <td>сотрудник</td>\n",
       "      <td>1</td>\n",
       "      <td>89672</td>\n",
       "      <td>недвижимость</td>\n",
       "    </tr>\n",
       "    <tr>\n",
       "      <th>21523</th>\n",
       "      <td>3</td>\n",
       "      <td>-3112.481705</td>\n",
       "      <td>38</td>\n",
       "      <td>1</td>\n",
       "      <td>0</td>\n",
       "      <td>M</td>\n",
       "      <td>сотрудник</td>\n",
       "      <td>1</td>\n",
       "      <td>244093</td>\n",
       "      <td>на покупку своего автомобиля</td>\n",
       "    </tr>\n",
       "    <tr>\n",
       "      <th>21524</th>\n",
       "      <td>2</td>\n",
       "      <td>-1984.507589</td>\n",
       "      <td>40</td>\n",
       "      <td>1</td>\n",
       "      <td>0</td>\n",
       "      <td>F</td>\n",
       "      <td>сотрудник</td>\n",
       "      <td>0</td>\n",
       "      <td>82047</td>\n",
       "      <td>на покупку автомобиля</td>\n",
       "    </tr>\n",
       "  </tbody>\n",
       "</table>\n",
       "<p>21331 rows × 10 columns</p>\n",
       "</div>"
      ],
      "text/plain": [
       "       children  days_employed  dob_years  education_id  family_status_id  \\\n",
       "0             1   -8437.673028         42             0                 0   \n",
       "1             1   -4024.803754         36             1                 0   \n",
       "2             0   -5623.422610         33             1                 0   \n",
       "3             3   -4124.747207         32             1                 0   \n",
       "4             0  340266.072047         53             1                 1   \n",
       "...         ...            ...        ...           ...               ...   \n",
       "21520         1   -4529.316663         43             1                 1   \n",
       "21521         0  343937.404131         67             1                 0   \n",
       "21522         1   -2113.346888         38             1                 1   \n",
       "21523         3   -3112.481705         38             1                 0   \n",
       "21524         2   -1984.507589         40             1                 0   \n",
       "\n",
       "      gender income_type  debt  total_income                       purpose  \n",
       "0          F   сотрудник     0        253875                 покупка жилья  \n",
       "1          F   сотрудник     0        112080       приобретение автомобиля  \n",
       "2          M   сотрудник     0        145885                 покупка жилья  \n",
       "3          M   сотрудник     0        267628    дополнительное образование  \n",
       "4          F   пенсионер     0        158616               сыграть свадьбу  \n",
       "...      ...         ...   ...           ...                           ...  \n",
       "21520      F   компаньон     0        224791             операции с жильем  \n",
       "21521      F   пенсионер     0        155999          сделка с автомобилем  \n",
       "21522      M   сотрудник     1         89672                  недвижимость  \n",
       "21523      M   сотрудник     1        244093  на покупку своего автомобиля  \n",
       "21524      F   сотрудник     0         82047         на покупку автомобиля  \n",
       "\n",
       "[21331 rows x 10 columns]"
      ]
     },
     "execution_count": 16,
     "metadata": {},
     "output_type": "execute_result"
    }
   ],
   "source": [
    "education_dict = df[['education', 'education_id']] # формируем новый датафрейм\n",
    "family_status_dict = df[['family_status', 'family_status_id']] # формируем ещё один\n",
    "df.drop(columns=['family_status', 'education'], axis=1) # удаляем нужные столбцы"
   ]
  },
  {
   "cell_type": "markdown",
   "id": "22f45585",
   "metadata": {},
   "source": [
    "### Категоризация дохода.\n",
    "\n",
    "Проделывыем фокус с категоризацией дохода:"
   ]
  },
  {
   "cell_type": "code",
   "execution_count": 17,
   "id": "683f8027",
   "metadata": {
    "scrolled": true
   },
   "outputs": [
    {
     "data": {
      "text/plain": [
       "C    15922\n",
       "B     5012\n",
       "D      349\n",
       "A       25\n",
       "E       22\n",
       "Name: total_income_category, dtype: int64"
      ]
     },
     "execution_count": 17,
     "metadata": {},
     "output_type": "execute_result"
    }
   ],
   "source": [
    "def total_income_category(income): # пишем функцию, которая и будет делать всю работу за нас\n",
    "    try:\n",
    "        if 30000 > income > 0:\n",
    "            return 'E'\n",
    "        if 50000 > income > 30001:\n",
    "            return 'D'\n",
    "        if 200000 > income > 50001:\n",
    "            return 'C'\n",
    "        if 1000000 > income > 200001:\n",
    "            return 'B'\n",
    "        if income > 1000001:\n",
    "            return 'A'\n",
    "    except:\n",
    "        return 'Проверьте доход, с ним что-то не так'\n",
    "\n",
    "df['total_income_category'] = df['total_income'].apply(total_income_category) # добавляем столбец   \n",
    "df['total_income_category'].value_counts() # проверяем\n",
    "    "
   ]
  },
  {
   "cell_type": "markdown",
   "id": "e558c797",
   "metadata": {},
   "source": [
    "Работает. Но появились маленькие группые пользователей с категорией A и E. С учётом объёма выборки, будет правильно объединить их с B и D соответственно."
   ]
  },
  {
   "cell_type": "code",
   "execution_count": 18,
   "id": "781fe204",
   "metadata": {
    "scrolled": true
   },
   "outputs": [
    {
     "data": {
      "text/plain": [
       "C    15922\n",
       "B     5037\n",
       "D      371\n",
       "Name: total_income_category, dtype: int64"
      ]
     },
     "execution_count": 18,
     "metadata": {},
     "output_type": "execute_result"
    }
   ],
   "source": [
    "def total_income_category(income): # внесём изменения в предыдущую функцию, с учётом того, что мы узнали\n",
    "    try:\n",
    "        if 30000 > income > 0:\n",
    "            return 'D'\n",
    "        if 50000 > income > 30001:\n",
    "            return 'D'\n",
    "        if 200000 > income > 50001:\n",
    "            return 'C'\n",
    "        if 1000000 > income > 200001:\n",
    "            return 'B'\n",
    "        if income > 1000001:\n",
    "            return 'B'\n",
    "    except:\n",
    "        return 'Проверьте доход, с ним что-то не так'\n",
    "\n",
    "df['total_income_category'] = df['total_income'].apply(total_income_category) # добавляем столбец   \n",
    "df['total_income_category'].value_counts() # проверяем"
   ]
  },
  {
   "cell_type": "markdown",
   "id": "b5f825e9",
   "metadata": {},
   "source": [
    "теперь порядок"
   ]
  },
  {
   "cell_type": "markdown",
   "id": "aa0dc67f",
   "metadata": {},
   "source": [
    "### Категоризация целей кредита.\n",
    "\n",
    "Действем аналогично предыдущему шагу:"
   ]
  },
  {
   "cell_type": "code",
   "execution_count": 19,
   "id": "0c84effc",
   "metadata": {},
   "outputs": [
    {
     "data": {
      "text/plain": [
       "array(['автомобили', 'автомобиль', 'высшее образование',\n",
       "       'дополнительное образование', 'жилье',\n",
       "       'заняться высшим образованием', 'заняться образованием',\n",
       "       'на покупку автомобиля', 'на покупку подержанного автомобиля',\n",
       "       'на покупку своего автомобиля', 'на проведение свадьбы',\n",
       "       'недвижимость', 'образование', 'операции с жильем',\n",
       "       'операции с коммерческой недвижимостью',\n",
       "       'операции с недвижимостью', 'операции со своей недвижимостью',\n",
       "       'покупка жилой недвижимости', 'покупка жилья',\n",
       "       'покупка жилья для сдачи', 'покупка жилья для семьи',\n",
       "       'покупка коммерческой недвижимости', 'покупка недвижимости',\n",
       "       'покупка своего жилья', 'получение высшего образования',\n",
       "       'получение дополнительного образования', 'получение образования',\n",
       "       'приобретение автомобиля', 'профильное образование',\n",
       "       'ремонт жилью', 'свадьба', 'свой автомобиль',\n",
       "       'сделка с автомобилем', 'сделка с подержанным автомобилем',\n",
       "       'строительство жилой недвижимости', 'строительство недвижимости',\n",
       "       'строительство собственной недвижимости', 'сыграть свадьбу'],\n",
       "      dtype=object)"
      ]
     },
     "execution_count": 19,
     "metadata": {},
     "output_type": "execute_result"
    }
   ],
   "source": [
    "df['purpose'].sort_values().unique()"
   ]
  },
  {
   "cell_type": "code",
   "execution_count": 20,
   "id": "3ab2f34a",
   "metadata": {},
   "outputs": [
    {
     "data": {
      "text/html": [
       "<div>\n",
       "<style scoped>\n",
       "    .dataframe tbody tr th:only-of-type {\n",
       "        vertical-align: middle;\n",
       "    }\n",
       "\n",
       "    .dataframe tbody tr th {\n",
       "        vertical-align: top;\n",
       "    }\n",
       "\n",
       "    .dataframe thead th {\n",
       "        text-align: right;\n",
       "    }\n",
       "</style>\n",
       "<table border=\"1\" class=\"dataframe\">\n",
       "  <thead>\n",
       "    <tr style=\"text-align: right;\">\n",
       "      <th></th>\n",
       "      <th>children</th>\n",
       "      <th>days_employed</th>\n",
       "      <th>dob_years</th>\n",
       "      <th>education</th>\n",
       "      <th>education_id</th>\n",
       "      <th>family_status</th>\n",
       "      <th>family_status_id</th>\n",
       "      <th>gender</th>\n",
       "      <th>income_type</th>\n",
       "      <th>debt</th>\n",
       "      <th>total_income</th>\n",
       "      <th>purpose</th>\n",
       "      <th>total_income_category</th>\n",
       "      <th>purpose_category</th>\n",
       "    </tr>\n",
       "  </thead>\n",
       "  <tbody>\n",
       "    <tr>\n",
       "      <th>0</th>\n",
       "      <td>1</td>\n",
       "      <td>-8437.673028</td>\n",
       "      <td>42</td>\n",
       "      <td>высшее</td>\n",
       "      <td>0</td>\n",
       "      <td>женат / замужем</td>\n",
       "      <td>0</td>\n",
       "      <td>F</td>\n",
       "      <td>сотрудник</td>\n",
       "      <td>0</td>\n",
       "      <td>253875</td>\n",
       "      <td>покупка жилья</td>\n",
       "      <td>B</td>\n",
       "      <td>операции с недвижимостью</td>\n",
       "    </tr>\n",
       "    <tr>\n",
       "      <th>1</th>\n",
       "      <td>1</td>\n",
       "      <td>-4024.803754</td>\n",
       "      <td>36</td>\n",
       "      <td>среднее</td>\n",
       "      <td>1</td>\n",
       "      <td>женат / замужем</td>\n",
       "      <td>0</td>\n",
       "      <td>F</td>\n",
       "      <td>сотрудник</td>\n",
       "      <td>0</td>\n",
       "      <td>112080</td>\n",
       "      <td>приобретение автомобиля</td>\n",
       "      <td>C</td>\n",
       "      <td>операции с автомобилем</td>\n",
       "    </tr>\n",
       "    <tr>\n",
       "      <th>2</th>\n",
       "      <td>0</td>\n",
       "      <td>-5623.422610</td>\n",
       "      <td>33</td>\n",
       "      <td>среднее</td>\n",
       "      <td>1</td>\n",
       "      <td>женат / замужем</td>\n",
       "      <td>0</td>\n",
       "      <td>M</td>\n",
       "      <td>сотрудник</td>\n",
       "      <td>0</td>\n",
       "      <td>145885</td>\n",
       "      <td>покупка жилья</td>\n",
       "      <td>C</td>\n",
       "      <td>операции с недвижимостью</td>\n",
       "    </tr>\n",
       "    <tr>\n",
       "      <th>3</th>\n",
       "      <td>3</td>\n",
       "      <td>-4124.747207</td>\n",
       "      <td>32</td>\n",
       "      <td>среднее</td>\n",
       "      <td>1</td>\n",
       "      <td>женат / замужем</td>\n",
       "      <td>0</td>\n",
       "      <td>M</td>\n",
       "      <td>сотрудник</td>\n",
       "      <td>0</td>\n",
       "      <td>267628</td>\n",
       "      <td>дополнительное образование</td>\n",
       "      <td>B</td>\n",
       "      <td>получение образования</td>\n",
       "    </tr>\n",
       "    <tr>\n",
       "      <th>4</th>\n",
       "      <td>0</td>\n",
       "      <td>340266.072047</td>\n",
       "      <td>53</td>\n",
       "      <td>среднее</td>\n",
       "      <td>1</td>\n",
       "      <td>гражданский брак</td>\n",
       "      <td>1</td>\n",
       "      <td>F</td>\n",
       "      <td>пенсионер</td>\n",
       "      <td>0</td>\n",
       "      <td>158616</td>\n",
       "      <td>сыграть свадьбу</td>\n",
       "      <td>C</td>\n",
       "      <td>проведение свадьбы</td>\n",
       "    </tr>\n",
       "    <tr>\n",
       "      <th>5</th>\n",
       "      <td>0</td>\n",
       "      <td>-926.185831</td>\n",
       "      <td>27</td>\n",
       "      <td>высшее</td>\n",
       "      <td>0</td>\n",
       "      <td>гражданский брак</td>\n",
       "      <td>1</td>\n",
       "      <td>M</td>\n",
       "      <td>компаньон</td>\n",
       "      <td>0</td>\n",
       "      <td>255763</td>\n",
       "      <td>покупка жилья</td>\n",
       "      <td>B</td>\n",
       "      <td>операции с недвижимостью</td>\n",
       "    </tr>\n",
       "    <tr>\n",
       "      <th>6</th>\n",
       "      <td>0</td>\n",
       "      <td>-2879.202052</td>\n",
       "      <td>43</td>\n",
       "      <td>высшее</td>\n",
       "      <td>0</td>\n",
       "      <td>женат / замужем</td>\n",
       "      <td>0</td>\n",
       "      <td>F</td>\n",
       "      <td>компаньон</td>\n",
       "      <td>0</td>\n",
       "      <td>240525</td>\n",
       "      <td>операции с жильем</td>\n",
       "      <td>B</td>\n",
       "      <td>операции с недвижимостью</td>\n",
       "    </tr>\n",
       "    <tr>\n",
       "      <th>7</th>\n",
       "      <td>0</td>\n",
       "      <td>-152.779569</td>\n",
       "      <td>50</td>\n",
       "      <td>среднее</td>\n",
       "      <td>1</td>\n",
       "      <td>женат / замужем</td>\n",
       "      <td>0</td>\n",
       "      <td>M</td>\n",
       "      <td>сотрудник</td>\n",
       "      <td>0</td>\n",
       "      <td>135823</td>\n",
       "      <td>образование</td>\n",
       "      <td>C</td>\n",
       "      <td>получение образования</td>\n",
       "    </tr>\n",
       "    <tr>\n",
       "      <th>8</th>\n",
       "      <td>2</td>\n",
       "      <td>-6929.865299</td>\n",
       "      <td>35</td>\n",
       "      <td>высшее</td>\n",
       "      <td>0</td>\n",
       "      <td>гражданский брак</td>\n",
       "      <td>1</td>\n",
       "      <td>F</td>\n",
       "      <td>сотрудник</td>\n",
       "      <td>0</td>\n",
       "      <td>95856</td>\n",
       "      <td>на проведение свадьбы</td>\n",
       "      <td>C</td>\n",
       "      <td>проведение свадьбы</td>\n",
       "    </tr>\n",
       "    <tr>\n",
       "      <th>9</th>\n",
       "      <td>0</td>\n",
       "      <td>-2188.756445</td>\n",
       "      <td>41</td>\n",
       "      <td>среднее</td>\n",
       "      <td>1</td>\n",
       "      <td>женат / замужем</td>\n",
       "      <td>0</td>\n",
       "      <td>M</td>\n",
       "      <td>сотрудник</td>\n",
       "      <td>0</td>\n",
       "      <td>144425</td>\n",
       "      <td>покупка жилья для семьи</td>\n",
       "      <td>C</td>\n",
       "      <td>операции с недвижимостью</td>\n",
       "    </tr>\n",
       "    <tr>\n",
       "      <th>10</th>\n",
       "      <td>2</td>\n",
       "      <td>-4171.483647</td>\n",
       "      <td>36</td>\n",
       "      <td>высшее</td>\n",
       "      <td>0</td>\n",
       "      <td>женат / замужем</td>\n",
       "      <td>0</td>\n",
       "      <td>M</td>\n",
       "      <td>компаньон</td>\n",
       "      <td>0</td>\n",
       "      <td>113943</td>\n",
       "      <td>покупка недвижимости</td>\n",
       "      <td>C</td>\n",
       "      <td>операции с недвижимостью</td>\n",
       "    </tr>\n",
       "    <tr>\n",
       "      <th>11</th>\n",
       "      <td>0</td>\n",
       "      <td>-792.701887</td>\n",
       "      <td>40</td>\n",
       "      <td>среднее</td>\n",
       "      <td>1</td>\n",
       "      <td>женат / замужем</td>\n",
       "      <td>0</td>\n",
       "      <td>F</td>\n",
       "      <td>сотрудник</td>\n",
       "      <td>0</td>\n",
       "      <td>77069</td>\n",
       "      <td>покупка коммерческой недвижимости</td>\n",
       "      <td>C</td>\n",
       "      <td>операции с недвижимостью</td>\n",
       "    </tr>\n",
       "    <tr>\n",
       "      <th>12</th>\n",
       "      <td>0</td>\n",
       "      <td>-1203.369529</td>\n",
       "      <td>65</td>\n",
       "      <td>среднее</td>\n",
       "      <td>1</td>\n",
       "      <td>гражданский брак</td>\n",
       "      <td>1</td>\n",
       "      <td>M</td>\n",
       "      <td>пенсионер</td>\n",
       "      <td>0</td>\n",
       "      <td>145017</td>\n",
       "      <td>сыграть свадьбу</td>\n",
       "      <td>C</td>\n",
       "      <td>проведение свадьбы</td>\n",
       "    </tr>\n",
       "    <tr>\n",
       "      <th>13</th>\n",
       "      <td>0</td>\n",
       "      <td>-1846.641941</td>\n",
       "      <td>54</td>\n",
       "      <td>неоконченное высшее</td>\n",
       "      <td>2</td>\n",
       "      <td>женат / замужем</td>\n",
       "      <td>0</td>\n",
       "      <td>F</td>\n",
       "      <td>сотрудник</td>\n",
       "      <td>0</td>\n",
       "      <td>130458</td>\n",
       "      <td>приобретение автомобиля</td>\n",
       "      <td>C</td>\n",
       "      <td>операции с автомобилем</td>\n",
       "    </tr>\n",
       "    <tr>\n",
       "      <th>14</th>\n",
       "      <td>0</td>\n",
       "      <td>-1844.956182</td>\n",
       "      <td>56</td>\n",
       "      <td>высшее</td>\n",
       "      <td>0</td>\n",
       "      <td>гражданский брак</td>\n",
       "      <td>1</td>\n",
       "      <td>F</td>\n",
       "      <td>компаньон</td>\n",
       "      <td>1</td>\n",
       "      <td>165127</td>\n",
       "      <td>покупка жилой недвижимости</td>\n",
       "      <td>C</td>\n",
       "      <td>операции с недвижимостью</td>\n",
       "    </tr>\n",
       "  </tbody>\n",
       "</table>\n",
       "</div>"
      ],
      "text/plain": [
       "    children  days_employed  dob_years            education  education_id  \\\n",
       "0          1   -8437.673028         42               высшее             0   \n",
       "1          1   -4024.803754         36              среднее             1   \n",
       "2          0   -5623.422610         33              среднее             1   \n",
       "3          3   -4124.747207         32              среднее             1   \n",
       "4          0  340266.072047         53              среднее             1   \n",
       "5          0    -926.185831         27               высшее             0   \n",
       "6          0   -2879.202052         43               высшее             0   \n",
       "7          0    -152.779569         50              среднее             1   \n",
       "8          2   -6929.865299         35               высшее             0   \n",
       "9          0   -2188.756445         41              среднее             1   \n",
       "10         2   -4171.483647         36               высшее             0   \n",
       "11         0    -792.701887         40              среднее             1   \n",
       "12         0   -1203.369529         65              среднее             1   \n",
       "13         0   -1846.641941         54  неоконченное высшее             2   \n",
       "14         0   -1844.956182         56               высшее             0   \n",
       "\n",
       "       family_status  family_status_id gender income_type  debt  total_income  \\\n",
       "0    женат / замужем                 0      F   сотрудник     0        253875   \n",
       "1    женат / замужем                 0      F   сотрудник     0        112080   \n",
       "2    женат / замужем                 0      M   сотрудник     0        145885   \n",
       "3    женат / замужем                 0      M   сотрудник     0        267628   \n",
       "4   гражданский брак                 1      F   пенсионер     0        158616   \n",
       "5   гражданский брак                 1      M   компаньон     0        255763   \n",
       "6    женат / замужем                 0      F   компаньон     0        240525   \n",
       "7    женат / замужем                 0      M   сотрудник     0        135823   \n",
       "8   гражданский брак                 1      F   сотрудник     0         95856   \n",
       "9    женат / замужем                 0      M   сотрудник     0        144425   \n",
       "10   женат / замужем                 0      M   компаньон     0        113943   \n",
       "11   женат / замужем                 0      F   сотрудник     0         77069   \n",
       "12  гражданский брак                 1      M   пенсионер     0        145017   \n",
       "13   женат / замужем                 0      F   сотрудник     0        130458   \n",
       "14  гражданский брак                 1      F   компаньон     1        165127   \n",
       "\n",
       "                              purpose total_income_category  \\\n",
       "0                       покупка жилья                     B   \n",
       "1             приобретение автомобиля                     C   \n",
       "2                       покупка жилья                     C   \n",
       "3          дополнительное образование                     B   \n",
       "4                     сыграть свадьбу                     C   \n",
       "5                       покупка жилья                     B   \n",
       "6                   операции с жильем                     B   \n",
       "7                         образование                     C   \n",
       "8               на проведение свадьбы                     C   \n",
       "9             покупка жилья для семьи                     C   \n",
       "10               покупка недвижимости                     C   \n",
       "11  покупка коммерческой недвижимости                     C   \n",
       "12                    сыграть свадьбу                     C   \n",
       "13            приобретение автомобиля                     C   \n",
       "14         покупка жилой недвижимости                     C   \n",
       "\n",
       "            purpose_category  \n",
       "0   операции с недвижимостью  \n",
       "1     операции с автомобилем  \n",
       "2   операции с недвижимостью  \n",
       "3      получение образования  \n",
       "4         проведение свадьбы  \n",
       "5   операции с недвижимостью  \n",
       "6   операции с недвижимостью  \n",
       "7      получение образования  \n",
       "8         проведение свадьбы  \n",
       "9   операции с недвижимостью  \n",
       "10  операции с недвижимостью  \n",
       "11  операции с недвижимостью  \n",
       "12        проведение свадьбы  \n",
       "13    операции с автомобилем  \n",
       "14  операции с недвижимостью  "
      ]
     },
     "execution_count": 20,
     "metadata": {},
     "output_type": "execute_result"
    }
   ],
   "source": [
    "def purpose_category(purpose): # пишем функцию, которая категоризирует наши нетронутые неявные дубликаты\n",
    "    if 'автомоб' in purpose:\n",
    "        return 'операции с автомобилем'\n",
    "    if 'жил' in purpose:\n",
    "        return 'операции с недвижимостью'\n",
    "    if 'недвиж' in purpose:\n",
    "        return 'операции с недвижимостью'\n",
    "    if 'свадьб' in purpose:\n",
    "        return 'проведение свадьбы'\n",
    "    if 'образ' in purpose:\n",
    "        return 'получение образования'\n",
    "    \n",
    "df['purpose_category'] = df['purpose'].apply(purpose_category) # заменяем\n",
    "df.head(15) # профит"
   ]
  },
  {
   "cell_type": "markdown",
   "id": "0c959f2a",
   "metadata": {},
   "source": [
    "### Категоризация по количеству детей.\n",
    "\n",
    "Действем аналогично предыдущим шагам:"
   ]
  },
  {
   "cell_type": "code",
   "execution_count": 21,
   "id": "501d417a",
   "metadata": {},
   "outputs": [
    {
     "data": {
      "text/plain": [
       "malo      18899\n",
       "sredne     2382\n",
       "mnogo        50\n",
       "Name: children_category, dtype: int64"
      ]
     },
     "execution_count": 21,
     "metadata": {},
     "output_type": "execute_result"
    }
   ],
   "source": [
    "def children_category(children): # пишем функцию, которая и будет делать всю работу за нас\n",
    "    try:\n",
    "        if 1 >= children >= 0: # катеогрия с до 1 ребёнка\n",
    "            return 'malo'\n",
    "        if 3 >= children >= 2: # от 2 до 3\n",
    "            return 'sredne'\n",
    "        if children > 3: # более 3\n",
    "            return 'mnogo'\n",
    "    except:\n",
    "        return 'Проверьте детей, с ними что-то не так'\n",
    "\n",
    "df['children_category'] = df['children'].apply(children_category) # добавляем столбец   \n",
    "df['children_category'].value_counts() # проверяем"
   ]
  },
  {
   "cell_type": "markdown",
   "id": "958d4008",
   "metadata": {},
   "source": [
    "### Ответы на вопросы."
   ]
  },
  {
   "cell_type": "markdown",
   "id": "dee52a12",
   "metadata": {},
   "source": [
    "##### Так есть ли зависимость между количеством детей и возвратом кредита в срок?:"
   ]
  },
  {
   "cell_type": "code",
   "execution_count": 22,
   "id": "2e314e61",
   "metadata": {},
   "outputs": [
    {
     "data": {
      "text/html": [
       "<div>\n",
       "<style scoped>\n",
       "    .dataframe tbody tr th:only-of-type {\n",
       "        vertical-align: middle;\n",
       "    }\n",
       "\n",
       "    .dataframe tbody tr th {\n",
       "        vertical-align: top;\n",
       "    }\n",
       "\n",
       "    .dataframe thead th {\n",
       "        text-align: right;\n",
       "    }\n",
       "</style>\n",
       "<table border=\"1\" class=\"dataframe\">\n",
       "  <thead>\n",
       "    <tr style=\"text-align: right;\">\n",
       "      <th></th>\n",
       "      <th>debt</th>\n",
       "    </tr>\n",
       "    <tr>\n",
       "      <th>children_category</th>\n",
       "      <th></th>\n",
       "    </tr>\n",
       "  </thead>\n",
       "  <tbody>\n",
       "    <tr>\n",
       "      <th>malo</th>\n",
       "      <td>0.079740</td>\n",
       "    </tr>\n",
       "    <tr>\n",
       "      <th>mnogo</th>\n",
       "      <td>0.080000</td>\n",
       "    </tr>\n",
       "    <tr>\n",
       "      <th>sredne</th>\n",
       "      <td>0.092779</td>\n",
       "    </tr>\n",
       "  </tbody>\n",
       "</table>\n",
       "</div>"
      ],
      "text/plain": [
       "                       debt\n",
       "children_category          \n",
       "malo               0.079740\n",
       "mnogo              0.080000\n",
       "sredne             0.092779"
      ]
     },
     "execution_count": 22,
     "metadata": {},
     "output_type": "execute_result"
    }
   ],
   "source": [
    "pd.pivot_table(df, index='children_category', values='debt').sort_values(by='debt') # построим сводную таблицу для оценки влияния детей на вероятность отдать кредит"
   ]
  },
  {
   "cell_type": "markdown",
   "id": "97f93b72",
   "metadata": {},
   "source": [
    "Есть!"
   ]
  },
  {
   "cell_type": "markdown",
   "id": "3814ae97",
   "metadata": {},
   "source": [
    "**Вывод**\n",
    "* Заёмщики с количеством детей от 2 до 5 в среднем имеют больше долгов, чем те,  у кого от 0 до 1 ребёнка"
   ]
  },
  {
   "cell_type": "markdown",
   "id": "d9c34974",
   "metadata": {},
   "source": [
    "##### Так есть ли зависимость между семейным положением и возвратом кредита в срок?:"
   ]
  },
  {
   "cell_type": "code",
   "execution_count": 23,
   "id": "0bb2b1ef",
   "metadata": {},
   "outputs": [
    {
     "data": {
      "text/html": [
       "<div>\n",
       "<style scoped>\n",
       "    .dataframe tbody tr th:only-of-type {\n",
       "        vertical-align: middle;\n",
       "    }\n",
       "\n",
       "    .dataframe tbody tr th {\n",
       "        vertical-align: top;\n",
       "    }\n",
       "\n",
       "    .dataframe thead th {\n",
       "        text-align: right;\n",
       "    }\n",
       "</style>\n",
       "<table border=\"1\" class=\"dataframe\">\n",
       "  <thead>\n",
       "    <tr style=\"text-align: right;\">\n",
       "      <th></th>\n",
       "      <th>debt</th>\n",
       "    </tr>\n",
       "    <tr>\n",
       "      <th>family_status</th>\n",
       "      <th></th>\n",
       "    </tr>\n",
       "  </thead>\n",
       "  <tbody>\n",
       "    <tr>\n",
       "      <th>вдовец / вдова</th>\n",
       "      <td>0.066246</td>\n",
       "    </tr>\n",
       "    <tr>\n",
       "      <th>в разводе</th>\n",
       "      <td>0.070648</td>\n",
       "    </tr>\n",
       "    <tr>\n",
       "      <th>женат / замужем</th>\n",
       "      <td>0.075606</td>\n",
       "    </tr>\n",
       "    <tr>\n",
       "      <th>гражданский брак</th>\n",
       "      <td>0.093130</td>\n",
       "    </tr>\n",
       "    <tr>\n",
       "      <th>Не женат / не замужем</th>\n",
       "      <td>0.097639</td>\n",
       "    </tr>\n",
       "  </tbody>\n",
       "</table>\n",
       "</div>"
      ],
      "text/plain": [
       "                           debt\n",
       "family_status                  \n",
       "вдовец / вдова         0.066246\n",
       "в разводе              0.070648\n",
       "женат / замужем        0.075606\n",
       "гражданский брак       0.093130\n",
       "Не женат / не замужем  0.097639"
      ]
     },
     "execution_count": 23,
     "metadata": {},
     "output_type": "execute_result"
    }
   ],
   "source": [
    "pd.pivot_table(df, index='family_status', values='debt').sort_values(by='debt') # построим сводную таблицу для оценки влияния семейного положения на вероятность отдать кредит"
   ]
  },
  {
   "cell_type": "markdown",
   "id": "42b21690",
   "metadata": {},
   "source": [
    "**Вывод**\n",
    "\n",
    "Имеем не совсем очевидную, но, вполне подтверждённую статистикой расстановку:\n",
    "* Овдовевшие, в разводе и женатые - чаще не имеют долгов\n",
    "* Сожители и неженатые - реже"
   ]
  },
  {
   "cell_type": "markdown",
   "id": "33fbe79f",
   "metadata": {},
   "source": [
    "##### Так есть ли зависимость между уровнем дохода и возвратом кредита в срок?:"
   ]
  },
  {
   "cell_type": "code",
   "execution_count": 24,
   "id": "5950bc8f",
   "metadata": {},
   "outputs": [
    {
     "data": {
      "text/html": [
       "<div>\n",
       "<style scoped>\n",
       "    .dataframe tbody tr th:only-of-type {\n",
       "        vertical-align: middle;\n",
       "    }\n",
       "\n",
       "    .dataframe tbody tr th {\n",
       "        vertical-align: top;\n",
       "    }\n",
       "\n",
       "    .dataframe thead th {\n",
       "        text-align: right;\n",
       "    }\n",
       "</style>\n",
       "<table border=\"1\" class=\"dataframe\">\n",
       "  <thead>\n",
       "    <tr style=\"text-align: right;\">\n",
       "      <th></th>\n",
       "      <th>debt</th>\n",
       "    </tr>\n",
       "    <tr>\n",
       "      <th>total_income_category</th>\n",
       "      <th></th>\n",
       "    </tr>\n",
       "  </thead>\n",
       "  <tbody>\n",
       "    <tr>\n",
       "      <th>D</th>\n",
       "      <td>0.061995</td>\n",
       "    </tr>\n",
       "    <tr>\n",
       "      <th>B</th>\n",
       "      <td>0.070677</td>\n",
       "    </tr>\n",
       "    <tr>\n",
       "      <th>C</th>\n",
       "      <td>0.084977</td>\n",
       "    </tr>\n",
       "  </tbody>\n",
       "</table>\n",
       "</div>"
      ],
      "text/plain": [
       "                           debt\n",
       "total_income_category          \n",
       "D                      0.061995\n",
       "B                      0.070677\n",
       "C                      0.084977"
      ]
     },
     "execution_count": 24,
     "metadata": {},
     "output_type": "execute_result"
    }
   ],
   "source": [
    "pd.pivot_table(df, index=['total_income_category'], values='debt').sort_values(by='debt')"
   ]
  },
  {
   "cell_type": "markdown",
   "id": "163edf87",
   "metadata": {},
   "source": [
    "**Вывод**\n",
    "* Самые надёжные заёмщики с доходом от 30001 до 50000 у.е\n",
    "* Самые ненадёжные - все остальные"
   ]
  },
  {
   "cell_type": "markdown",
   "id": "e9ed8616",
   "metadata": {},
   "source": [
    "##### Как разные цели кредита влияют на его возврат в срок:"
   ]
  },
  {
   "cell_type": "code",
   "execution_count": 25,
   "id": "2a79e89c",
   "metadata": {
    "scrolled": true
   },
   "outputs": [
    {
     "data": {
      "text/html": [
       "<div>\n",
       "<style scoped>\n",
       "    .dataframe tbody tr th:only-of-type {\n",
       "        vertical-align: middle;\n",
       "    }\n",
       "\n",
       "    .dataframe tbody tr th {\n",
       "        vertical-align: top;\n",
       "    }\n",
       "\n",
       "    .dataframe thead th {\n",
       "        text-align: right;\n",
       "    }\n",
       "</style>\n",
       "<table border=\"1\" class=\"dataframe\">\n",
       "  <thead>\n",
       "    <tr style=\"text-align: right;\">\n",
       "      <th></th>\n",
       "      <th>debt</th>\n",
       "    </tr>\n",
       "    <tr>\n",
       "      <th>purpose_category</th>\n",
       "      <th></th>\n",
       "    </tr>\n",
       "  </thead>\n",
       "  <tbody>\n",
       "    <tr>\n",
       "      <th>операции с недвижимостью</th>\n",
       "      <td>0.072551</td>\n",
       "    </tr>\n",
       "    <tr>\n",
       "      <th>проведение свадьбы</th>\n",
       "      <td>0.079118</td>\n",
       "    </tr>\n",
       "    <tr>\n",
       "      <th>получение образования</th>\n",
       "      <td>0.092528</td>\n",
       "    </tr>\n",
       "    <tr>\n",
       "      <th>операции с автомобилем</th>\n",
       "      <td>0.093480</td>\n",
       "    </tr>\n",
       "  </tbody>\n",
       "</table>\n",
       "</div>"
      ],
      "text/plain": [
       "                              debt\n",
       "purpose_category                  \n",
       "операции с недвижимостью  0.072551\n",
       "проведение свадьбы        0.079118\n",
       "получение образования     0.092528\n",
       "операции с автомобилем    0.093480"
      ]
     },
     "execution_count": 25,
     "metadata": {},
     "output_type": "execute_result"
    }
   ],
   "source": [
    "pd.pivot_table(df, index=['purpose_category'], values='debt').sort_values(by='debt')"
   ]
  },
  {
   "cell_type": "markdown",
   "id": "0f640813",
   "metadata": {},
   "source": [
    "Наблюдаем ситуацию из реальной жизни. Ставка по ипотеке зачастую ниже, чем ставки по автокредитам и прочие потребительские займы. Ну и вероятность одобрения, соответственно выше."
   ]
  },
  {
   "cell_type": "markdown",
   "id": "ee16bba6",
   "metadata": {},
   "source": [
    "## Общий вывод"
   ]
  },
  {
   "cell_type": "markdown",
   "id": "7bb7043c",
   "metadata": {},
   "source": [
    "Таким образом, имеем, что наилучшим кандидатом на кредитование в среднем банке является:\n",
    "* Желающий приобрести недвижимость, с доходом от 30001 до 50000, вдовец, имеющий не более 1 ребёнка гражданин государтсва N.\n"
   ]
  }
 ],
 "metadata": {
  "ExecuteTimeLog": [
   {
    "duration": 641,
    "start_time": "2022-02-28T14:35:53.440Z"
   },
   {
    "duration": 12,
    "start_time": "2022-02-28T14:37:21.136Z"
   },
   {
    "duration": 12,
    "start_time": "2022-02-28T14:42:35.283Z"
   },
   {
    "duration": 12,
    "start_time": "2022-02-28T14:54:39.397Z"
   },
   {
    "duration": 659,
    "start_time": "2022-02-28T14:57:14.915Z"
   },
   {
    "duration": 12,
    "start_time": "2022-02-28T14:57:15.576Z"
   },
   {
    "duration": 6,
    "start_time": "2022-02-28T15:11:10.361Z"
   },
   {
    "duration": 4,
    "start_time": "2022-02-28T15:19:49.998Z"
   },
   {
    "duration": 3,
    "start_time": "2022-02-28T15:20:19.191Z"
   },
   {
    "duration": 4,
    "start_time": "2022-02-28T15:20:45.750Z"
   },
   {
    "duration": 4,
    "start_time": "2022-02-28T15:20:58.833Z"
   },
   {
    "duration": 4,
    "start_time": "2022-02-28T15:21:10.284Z"
   },
   {
    "duration": 69,
    "start_time": "2022-02-28T15:33:10.147Z"
   },
   {
    "duration": 699,
    "start_time": "2022-02-28T15:33:28.960Z"
   },
   {
    "duration": 12,
    "start_time": "2022-02-28T15:33:29.660Z"
   },
   {
    "duration": 10,
    "start_time": "2022-02-28T15:33:29.675Z"
   },
   {
    "duration": 301,
    "start_time": "2022-02-28T15:39:05.395Z"
   },
   {
    "duration": 14,
    "start_time": "2022-02-28T15:40:34.172Z"
   },
   {
    "duration": 15,
    "start_time": "2022-02-28T15:40:56.966Z"
   },
   {
    "duration": 27,
    "start_time": "2022-02-28T15:41:38.005Z"
   },
   {
    "duration": 68,
    "start_time": "2022-02-28T15:42:01.048Z"
   },
   {
    "duration": 727,
    "start_time": "2022-02-28T15:43:08.176Z"
   },
   {
    "duration": 13,
    "start_time": "2022-02-28T15:43:08.906Z"
   },
   {
    "duration": 21,
    "start_time": "2022-02-28T15:43:08.921Z"
   },
   {
    "duration": 22,
    "start_time": "2022-02-28T15:43:08.944Z"
   },
   {
    "duration": 17,
    "start_time": "2022-02-28T16:11:28.102Z"
   },
   {
    "duration": 7,
    "start_time": "2022-02-28T16:13:23.599Z"
   },
   {
    "duration": 8,
    "start_time": "2022-02-28T16:13:35.133Z"
   },
   {
    "duration": 7,
    "start_time": "2022-02-28T16:13:55.383Z"
   },
   {
    "duration": 8,
    "start_time": "2022-02-28T16:15:48.109Z"
   },
   {
    "duration": 20,
    "start_time": "2022-02-28T16:20:13.291Z"
   },
   {
    "duration": 13,
    "start_time": "2022-02-28T16:20:55.976Z"
   },
   {
    "duration": 8,
    "start_time": "2022-02-28T16:26:42.453Z"
   },
   {
    "duration": 8,
    "start_time": "2022-02-28T16:27:29.981Z"
   },
   {
    "duration": 8,
    "start_time": "2022-02-28T16:28:26.252Z"
   },
   {
    "duration": 9,
    "start_time": "2022-02-28T16:28:58.977Z"
   },
   {
    "duration": 8,
    "start_time": "2022-02-28T16:35:37.149Z"
   },
   {
    "duration": 270,
    "start_time": "2022-02-28T16:36:09.265Z"
   },
   {
    "duration": 7,
    "start_time": "2022-02-28T16:36:17.038Z"
   },
   {
    "duration": 7,
    "start_time": "2022-02-28T16:37:35.744Z"
   },
   {
    "duration": 9,
    "start_time": "2022-02-28T16:37:59.975Z"
   },
   {
    "duration": 9,
    "start_time": "2022-02-28T16:38:25.704Z"
   },
   {
    "duration": 9,
    "start_time": "2022-02-28T16:38:46.484Z"
   },
   {
    "duration": 301,
    "start_time": "2022-03-01T13:45:28.625Z"
   },
   {
    "duration": 700,
    "start_time": "2022-03-01T13:45:34.741Z"
   },
   {
    "duration": 13,
    "start_time": "2022-03-01T13:45:35.443Z"
   },
   {
    "duration": 6,
    "start_time": "2022-03-01T13:45:35.458Z"
   },
   {
    "duration": 27,
    "start_time": "2022-03-01T13:45:35.466Z"
   },
   {
    "duration": 321,
    "start_time": "2022-03-01T13:45:35.495Z"
   },
   {
    "duration": 278,
    "start_time": "2022-03-01T13:46:06.371Z"
   },
   {
    "duration": 276,
    "start_time": "2022-03-01T13:46:20.005Z"
   },
   {
    "duration": 270,
    "start_time": "2022-03-01T13:46:48.895Z"
   },
   {
    "duration": 310,
    "start_time": "2022-03-01T13:47:01.592Z"
   },
   {
    "duration": 6,
    "start_time": "2022-03-01T13:49:18.686Z"
   },
   {
    "duration": 14,
    "start_time": "2022-03-01T13:56:34.537Z"
   },
   {
    "duration": 17,
    "start_time": "2022-03-01T13:56:45.082Z"
   },
   {
    "duration": 25,
    "start_time": "2022-03-01T13:57:12.482Z"
   },
   {
    "duration": 259,
    "start_time": "2022-03-01T13:58:45.253Z"
   },
   {
    "duration": 4,
    "start_time": "2022-03-01T13:59:21.044Z"
   },
   {
    "duration": 11,
    "start_time": "2022-03-01T14:02:11.838Z"
   },
   {
    "duration": 10,
    "start_time": "2022-03-01T14:02:36.621Z"
   },
   {
    "duration": 8,
    "start_time": "2022-03-01T14:02:50.756Z"
   },
   {
    "duration": 9,
    "start_time": "2022-03-01T14:03:06.879Z"
   },
   {
    "duration": 24,
    "start_time": "2022-03-01T14:03:13.154Z"
   },
   {
    "duration": 15,
    "start_time": "2022-03-01T14:04:17.674Z"
   },
   {
    "duration": 27,
    "start_time": "2022-03-01T14:04:29.024Z"
   },
   {
    "duration": 29,
    "start_time": "2022-03-01T14:04:51.665Z"
   },
   {
    "duration": 28,
    "start_time": "2022-03-01T14:05:00.496Z"
   },
   {
    "duration": 11,
    "start_time": "2022-03-01T14:05:07.602Z"
   },
   {
    "duration": 5,
    "start_time": "2022-03-01T14:05:34.066Z"
   },
   {
    "duration": 91,
    "start_time": "2022-03-01T14:05:46.283Z"
   },
   {
    "duration": 26,
    "start_time": "2022-03-01T14:05:54.861Z"
   },
   {
    "duration": 28,
    "start_time": "2022-03-01T14:06:28.975Z"
   },
   {
    "duration": 11,
    "start_time": "2022-03-01T14:15:44.487Z"
   },
   {
    "duration": 264,
    "start_time": "2022-03-01T14:16:22.469Z"
   },
   {
    "duration": 265,
    "start_time": "2022-03-01T14:17:20.704Z"
   },
   {
    "duration": 10,
    "start_time": "2022-03-01T14:19:56.090Z"
   },
   {
    "duration": 13,
    "start_time": "2022-03-01T14:20:11.558Z"
   },
   {
    "duration": 19,
    "start_time": "2022-03-01T14:20:26.040Z"
   },
   {
    "duration": 6,
    "start_time": "2022-03-01T14:27:05.845Z"
   },
   {
    "duration": 9,
    "start_time": "2022-03-01T14:27:26.533Z"
   },
   {
    "duration": 19,
    "start_time": "2022-03-01T14:29:28.393Z"
   },
   {
    "duration": 6,
    "start_time": "2022-03-01T14:40:57.642Z"
   },
   {
    "duration": 704,
    "start_time": "2022-03-01T14:43:29.165Z"
   },
   {
    "duration": 14,
    "start_time": "2022-03-01T14:43:29.871Z"
   },
   {
    "duration": 4,
    "start_time": "2022-03-01T14:43:29.888Z"
   },
   {
    "duration": 21,
    "start_time": "2022-03-01T14:43:29.894Z"
   },
   {
    "duration": 11,
    "start_time": "2022-03-01T14:43:29.917Z"
   },
   {
    "duration": 49,
    "start_time": "2022-03-01T14:43:29.930Z"
   },
   {
    "duration": 27,
    "start_time": "2022-03-01T14:43:29.981Z"
   },
   {
    "duration": 16,
    "start_time": "2022-03-01T14:43:30.011Z"
   },
   {
    "duration": 19,
    "start_time": "2022-03-01T14:43:30.029Z"
   },
   {
    "duration": 30,
    "start_time": "2022-03-01T14:43:30.050Z"
   },
   {
    "duration": 15,
    "start_time": "2022-03-01T14:53:52.798Z"
   },
   {
    "duration": 14,
    "start_time": "2022-03-01T14:54:15.121Z"
   },
   {
    "duration": 3,
    "start_time": "2022-03-01T14:54:29.641Z"
   },
   {
    "duration": 721,
    "start_time": "2022-03-01T14:55:00.986Z"
   },
   {
    "duration": 12,
    "start_time": "2022-03-01T14:55:01.709Z"
   },
   {
    "duration": 10,
    "start_time": "2022-03-01T14:55:01.723Z"
   },
   {
    "duration": 19,
    "start_time": "2022-03-01T14:55:01.735Z"
   },
   {
    "duration": 26,
    "start_time": "2022-03-01T14:55:01.756Z"
   },
   {
    "duration": 31,
    "start_time": "2022-03-01T14:55:01.783Z"
   },
   {
    "duration": 27,
    "start_time": "2022-03-01T14:55:01.816Z"
   },
   {
    "duration": 40,
    "start_time": "2022-03-01T14:55:01.845Z"
   },
   {
    "duration": 25,
    "start_time": "2022-03-01T14:55:01.886Z"
   },
   {
    "duration": 15,
    "start_time": "2022-03-01T14:55:01.914Z"
   },
   {
    "duration": 8,
    "start_time": "2022-03-01T14:55:01.930Z"
   },
   {
    "duration": 305,
    "start_time": "2022-03-01T14:55:42.621Z"
   },
   {
    "duration": 17,
    "start_time": "2022-03-01T14:57:11.546Z"
   },
   {
    "duration": 16,
    "start_time": "2022-03-01T14:58:21.118Z"
   },
   {
    "duration": 50,
    "start_time": "2022-03-01T14:59:30.998Z"
   },
   {
    "duration": 44,
    "start_time": "2022-03-01T14:59:42.792Z"
   },
   {
    "duration": 44,
    "start_time": "2022-03-01T14:59:51.880Z"
   },
   {
    "duration": 650,
    "start_time": "2022-03-01T15:02:31.741Z"
   },
   {
    "duration": 13,
    "start_time": "2022-03-01T15:02:32.393Z"
   },
   {
    "duration": 8,
    "start_time": "2022-03-01T15:02:32.408Z"
   },
   {
    "duration": 16,
    "start_time": "2022-03-01T15:02:32.418Z"
   },
   {
    "duration": 7,
    "start_time": "2022-03-01T15:02:32.436Z"
   },
   {
    "duration": 53,
    "start_time": "2022-03-01T15:02:32.445Z"
   },
   {
    "duration": 27,
    "start_time": "2022-03-01T15:02:32.500Z"
   },
   {
    "duration": 14,
    "start_time": "2022-03-01T15:02:32.530Z"
   },
   {
    "duration": 37,
    "start_time": "2022-03-01T15:02:32.546Z"
   },
   {
    "duration": 13,
    "start_time": "2022-03-01T15:02:32.585Z"
   },
   {
    "duration": 8,
    "start_time": "2022-03-01T15:02:32.599Z"
   },
   {
    "duration": 45,
    "start_time": "2022-03-01T15:02:32.609Z"
   },
   {
    "duration": 831,
    "start_time": "2022-03-02T13:28:51.308Z"
   },
   {
    "duration": 15,
    "start_time": "2022-03-02T13:28:52.142Z"
   },
   {
    "duration": 5,
    "start_time": "2022-03-02T13:28:52.160Z"
   },
   {
    "duration": 18,
    "start_time": "2022-03-02T13:28:52.167Z"
   },
   {
    "duration": 9,
    "start_time": "2022-03-02T13:28:52.231Z"
   },
   {
    "duration": 34,
    "start_time": "2022-03-02T13:28:52.242Z"
   },
   {
    "duration": 75,
    "start_time": "2022-03-02T13:28:52.279Z"
   },
   {
    "duration": 18,
    "start_time": "2022-03-02T13:28:52.356Z"
   },
   {
    "duration": 9,
    "start_time": "2022-03-02T13:28:52.377Z"
   },
   {
    "duration": 47,
    "start_time": "2022-03-02T13:28:52.389Z"
   },
   {
    "duration": 4,
    "start_time": "2022-03-02T13:28:52.438Z"
   },
   {
    "duration": 55,
    "start_time": "2022-03-02T13:28:52.444Z"
   },
   {
    "duration": 49,
    "start_time": "2022-03-02T13:28:52.500Z"
   },
   {
    "duration": 16,
    "start_time": "2022-03-02T13:32:28.457Z"
   },
   {
    "duration": 17,
    "start_time": "2022-03-02T13:32:32.137Z"
   },
   {
    "duration": 44,
    "start_time": "2022-03-02T13:32:40.953Z"
   },
   {
    "duration": 11,
    "start_time": "2022-03-02T13:39:25.411Z"
   },
   {
    "duration": 32,
    "start_time": "2022-03-02T13:40:22.227Z"
   },
   {
    "duration": 8,
    "start_time": "2022-03-02T13:41:12.811Z"
   },
   {
    "duration": 14,
    "start_time": "2022-03-02T13:42:06.456Z"
   },
   {
    "duration": 7247,
    "start_time": "2022-03-02T13:44:05.022Z"
   },
   {
    "duration": 828,
    "start_time": "2022-03-02T13:44:21.072Z"
   },
   {
    "duration": 30,
    "start_time": "2022-03-02T13:44:21.904Z"
   },
   {
    "duration": 5,
    "start_time": "2022-03-02T13:44:21.937Z"
   },
   {
    "duration": 21,
    "start_time": "2022-03-02T13:44:21.944Z"
   },
   {
    "duration": 11,
    "start_time": "2022-03-02T13:44:21.969Z"
   },
   {
    "duration": 80,
    "start_time": "2022-03-02T13:44:21.984Z"
   },
   {
    "duration": 38,
    "start_time": "2022-03-02T13:44:22.066Z"
   },
   {
    "duration": 22,
    "start_time": "2022-03-02T13:44:22.137Z"
   },
   {
    "duration": 13,
    "start_time": "2022-03-02T13:44:22.162Z"
   },
   {
    "duration": 55,
    "start_time": "2022-03-02T13:44:22.178Z"
   },
   {
    "duration": 5,
    "start_time": "2022-03-02T13:44:22.235Z"
   },
   {
    "duration": 91,
    "start_time": "2022-03-02T13:44:22.242Z"
   },
   {
    "duration": 22,
    "start_time": "2022-03-02T13:44:22.335Z"
   },
   {
    "duration": 44,
    "start_time": "2022-03-02T13:44:22.360Z"
   },
   {
    "duration": -767,
    "start_time": "2022-03-02T13:44:38.402Z"
   },
   {
    "duration": 20,
    "start_time": "2022-03-02T13:44:48.143Z"
   },
   {
    "duration": 36,
    "start_time": "2022-03-02T13:45:42.417Z"
   },
   {
    "duration": 37,
    "start_time": "2022-03-02T13:46:56.929Z"
   },
   {
    "duration": 6,
    "start_time": "2022-03-02T13:56:19.346Z"
   },
   {
    "duration": 7,
    "start_time": "2022-03-02T13:57:00.012Z"
   },
   {
    "duration": 8,
    "start_time": "2022-03-02T13:57:15.461Z"
   },
   {
    "duration": 7608,
    "start_time": "2022-03-02T13:58:54.828Z"
   },
   {
    "duration": 16,
    "start_time": "2022-03-02T13:59:26.896Z"
   },
   {
    "duration": 31,
    "start_time": "2022-03-02T14:04:25.176Z"
   },
   {
    "duration": 313,
    "start_time": "2022-03-02T14:04:40.380Z"
   },
   {
    "duration": 325,
    "start_time": "2022-03-02T14:08:15.450Z"
   },
   {
    "duration": 304,
    "start_time": "2022-03-02T14:09:12.245Z"
   },
   {
    "duration": 317,
    "start_time": "2022-03-02T14:11:30.114Z"
   },
   {
    "duration": 298,
    "start_time": "2022-03-02T14:11:42.010Z"
   },
   {
    "duration": 324,
    "start_time": "2022-03-02T14:14:10.172Z"
   },
   {
    "duration": 39,
    "start_time": "2022-03-02T14:14:17.380Z"
   },
   {
    "duration": 324,
    "start_time": "2022-03-02T14:14:48.751Z"
   },
   {
    "duration": 332,
    "start_time": "2022-03-02T14:16:58.898Z"
   },
   {
    "duration": 313,
    "start_time": "2022-03-02T14:18:46.840Z"
   },
   {
    "duration": 357,
    "start_time": "2022-03-02T14:18:55.772Z"
   },
   {
    "duration": 862,
    "start_time": "2022-03-02T14:19:00.744Z"
   },
   {
    "duration": 35,
    "start_time": "2022-03-02T14:19:01.610Z"
   },
   {
    "duration": 5,
    "start_time": "2022-03-02T14:19:01.652Z"
   },
   {
    "duration": 30,
    "start_time": "2022-03-02T14:19:01.659Z"
   },
   {
    "duration": 45,
    "start_time": "2022-03-02T14:19:01.691Z"
   },
   {
    "duration": 35,
    "start_time": "2022-03-02T14:19:01.739Z"
   },
   {
    "duration": 68,
    "start_time": "2022-03-02T14:19:01.777Z"
   },
   {
    "duration": 51,
    "start_time": "2022-03-02T14:19:01.848Z"
   },
   {
    "duration": 11,
    "start_time": "2022-03-02T14:19:01.902Z"
   },
   {
    "duration": 24,
    "start_time": "2022-03-02T14:19:01.915Z"
   },
   {
    "duration": 6,
    "start_time": "2022-03-02T14:19:01.941Z"
   },
   {
    "duration": 96,
    "start_time": "2022-03-02T14:19:01.950Z"
   },
   {
    "duration": 25,
    "start_time": "2022-03-02T14:19:02.049Z"
   },
   {
    "duration": 83,
    "start_time": "2022-03-02T14:19:02.077Z"
   },
   {
    "duration": 38,
    "start_time": "2022-03-02T14:19:02.163Z"
   },
   {
    "duration": 35,
    "start_time": "2022-03-02T14:19:02.232Z"
   },
   {
    "duration": 32,
    "start_time": "2022-03-02T14:20:20.989Z"
   },
   {
    "duration": 125,
    "start_time": "2022-03-02T14:37:37.447Z"
   },
   {
    "duration": 18,
    "start_time": "2022-03-02T14:37:54.103Z"
   },
   {
    "duration": 50,
    "start_time": "2022-03-02T14:38:04.783Z"
   },
   {
    "duration": 36,
    "start_time": "2022-03-02T14:40:31.587Z"
   },
   {
    "duration": 25,
    "start_time": "2022-03-02T14:48:28.606Z"
   },
   {
    "duration": 13,
    "start_time": "2022-03-02T14:54:39.428Z"
   },
   {
    "duration": 32,
    "start_time": "2022-03-02T14:54:54.719Z"
   },
   {
    "duration": 35,
    "start_time": "2022-03-02T15:00:11.409Z"
   },
   {
    "duration": 39,
    "start_time": "2022-03-02T15:00:58.451Z"
   },
   {
    "duration": 47,
    "start_time": "2022-03-02T15:10:07.738Z"
   },
   {
    "duration": 19,
    "start_time": "2022-03-02T15:11:17.353Z"
   },
   {
    "duration": 417,
    "start_time": "2022-03-02T15:11:58.485Z"
   },
   {
    "duration": 313,
    "start_time": "2022-03-02T15:12:03.753Z"
   },
   {
    "duration": 304,
    "start_time": "2022-03-02T15:12:12.574Z"
   },
   {
    "duration": 19,
    "start_time": "2022-03-02T15:12:28.190Z"
   },
   {
    "duration": 1089,
    "start_time": "2022-03-02T15:13:56.691Z"
   },
   {
    "duration": 23,
    "start_time": "2022-03-02T15:13:57.783Z"
   },
   {
    "duration": 26,
    "start_time": "2022-03-02T15:13:57.810Z"
   },
   {
    "duration": 20,
    "start_time": "2022-03-02T15:13:57.839Z"
   },
   {
    "duration": 8,
    "start_time": "2022-03-02T15:13:57.862Z"
   },
   {
    "duration": 85,
    "start_time": "2022-03-02T15:13:57.873Z"
   },
   {
    "duration": 40,
    "start_time": "2022-03-02T15:13:57.961Z"
   },
   {
    "duration": 43,
    "start_time": "2022-03-02T15:13:58.005Z"
   },
   {
    "duration": 11,
    "start_time": "2022-03-02T15:13:58.051Z"
   },
   {
    "duration": 8,
    "start_time": "2022-03-02T15:13:58.064Z"
   },
   {
    "duration": 5,
    "start_time": "2022-03-02T15:13:58.075Z"
   },
   {
    "duration": 58,
    "start_time": "2022-03-02T15:13:58.133Z"
   },
   {
    "duration": 45,
    "start_time": "2022-03-02T15:13:58.193Z"
   },
   {
    "duration": 46,
    "start_time": "2022-03-02T15:13:58.241Z"
   },
   {
    "duration": 70,
    "start_time": "2022-03-02T15:13:58.290Z"
   },
   {
    "duration": 32,
    "start_time": "2022-03-02T15:13:58.362Z"
   },
   {
    "duration": 66,
    "start_time": "2022-03-02T15:13:58.397Z"
   },
   {
    "duration": 26,
    "start_time": "2022-03-02T15:13:58.465Z"
   },
   {
    "duration": 65,
    "start_time": "2022-03-02T15:13:58.493Z"
   },
   {
    "duration": 26,
    "start_time": "2022-03-02T15:13:58.560Z"
   },
   {
    "duration": 1073,
    "start_time": "2022-03-02T15:20:20.108Z"
   },
   {
    "duration": 16,
    "start_time": "2022-03-02T15:20:21.183Z"
   },
   {
    "duration": 5,
    "start_time": "2022-03-02T15:20:21.202Z"
   },
   {
    "duration": 20,
    "start_time": "2022-03-02T15:20:21.233Z"
   },
   {
    "duration": 8,
    "start_time": "2022-03-02T15:20:21.255Z"
   },
   {
    "duration": 75,
    "start_time": "2022-03-02T15:20:21.265Z"
   },
   {
    "duration": 40,
    "start_time": "2022-03-02T15:20:21.342Z"
   },
   {
    "duration": 56,
    "start_time": "2022-03-02T15:20:21.386Z"
   },
   {
    "duration": 10,
    "start_time": "2022-03-02T15:20:21.445Z"
   },
   {
    "duration": 6,
    "start_time": "2022-03-02T15:20:21.457Z"
   },
   {
    "duration": 4,
    "start_time": "2022-03-02T15:20:21.467Z"
   },
   {
    "duration": 109,
    "start_time": "2022-03-02T15:20:21.473Z"
   },
   {
    "duration": 20,
    "start_time": "2022-03-02T15:20:21.584Z"
   },
   {
    "duration": 70,
    "start_time": "2022-03-02T15:20:21.606Z"
   },
   {
    "duration": 55,
    "start_time": "2022-03-02T15:20:21.678Z"
   },
   {
    "duration": 32,
    "start_time": "2022-03-02T15:20:21.736Z"
   },
   {
    "duration": 68,
    "start_time": "2022-03-02T15:20:21.770Z"
   },
   {
    "duration": 32,
    "start_time": "2022-03-02T15:20:21.841Z"
   },
   {
    "duration": 58,
    "start_time": "2022-03-02T15:20:21.875Z"
   },
   {
    "duration": 24,
    "start_time": "2022-03-02T15:20:21.935Z"
   },
   {
    "duration": 23,
    "start_time": "2022-03-02T15:24:06.293Z"
   },
   {
    "duration": 409,
    "start_time": "2022-03-02T15:25:57.907Z"
   },
   {
    "duration": 301,
    "start_time": "2022-03-02T15:26:12.147Z"
   },
   {
    "duration": 554,
    "start_time": "2022-03-02T15:27:09.909Z"
   },
   {
    "duration": 858,
    "start_time": "2022-03-02T15:28:04.799Z"
   },
   {
    "duration": 14,
    "start_time": "2022-03-02T15:28:05.660Z"
   },
   {
    "duration": 5,
    "start_time": "2022-03-02T15:28:05.680Z"
   },
   {
    "duration": 59,
    "start_time": "2022-03-02T15:28:05.687Z"
   },
   {
    "duration": 7,
    "start_time": "2022-03-02T15:28:05.748Z"
   },
   {
    "duration": 36,
    "start_time": "2022-03-02T15:28:05.757Z"
   },
   {
    "duration": 70,
    "start_time": "2022-03-02T15:28:05.796Z"
   },
   {
    "duration": 19,
    "start_time": "2022-03-02T15:28:05.869Z"
   },
   {
    "duration": 43,
    "start_time": "2022-03-02T15:28:05.892Z"
   },
   {
    "duration": 7,
    "start_time": "2022-03-02T15:28:05.938Z"
   },
   {
    "duration": 6,
    "start_time": "2022-03-02T15:28:05.948Z"
   },
   {
    "duration": 93,
    "start_time": "2022-03-02T15:28:05.957Z"
   },
   {
    "duration": 20,
    "start_time": "2022-03-02T15:28:06.052Z"
   },
   {
    "duration": 69,
    "start_time": "2022-03-02T15:28:06.074Z"
   },
   {
    "duration": 35,
    "start_time": "2022-03-02T15:28:06.146Z"
   },
   {
    "duration": 64,
    "start_time": "2022-03-02T15:28:06.183Z"
   },
   {
    "duration": 39,
    "start_time": "2022-03-02T15:28:06.250Z"
   },
   {
    "duration": 65,
    "start_time": "2022-03-02T15:28:06.292Z"
   },
   {
    "duration": 34,
    "start_time": "2022-03-02T15:28:06.360Z"
   },
   {
    "duration": 56,
    "start_time": "2022-03-02T15:28:06.396Z"
   },
   {
    "duration": 414,
    "start_time": "2022-03-02T15:28:06.455Z"
   },
   {
    "duration": 21,
    "start_time": "2022-03-02T15:28:14.302Z"
   },
   {
    "duration": 23,
    "start_time": "2022-03-02T15:28:27.061Z"
   },
   {
    "duration": 20,
    "start_time": "2022-03-02T15:36:12.252Z"
   },
   {
    "duration": 27,
    "start_time": "2022-03-02T15:37:32.333Z"
   },
   {
    "duration": 23,
    "start_time": "2022-03-02T15:42:09.878Z"
   },
   {
    "duration": 23,
    "start_time": "2022-03-02T15:47:21.181Z"
   },
   {
    "duration": 876,
    "start_time": "2022-03-02T15:47:35.806Z"
   },
   {
    "duration": 18,
    "start_time": "2022-03-02T15:47:36.685Z"
   },
   {
    "duration": 25,
    "start_time": "2022-03-02T15:47:36.709Z"
   },
   {
    "duration": 18,
    "start_time": "2022-03-02T15:47:36.737Z"
   },
   {
    "duration": 8,
    "start_time": "2022-03-02T15:47:36.757Z"
   },
   {
    "duration": 86,
    "start_time": "2022-03-02T15:47:36.767Z"
   },
   {
    "duration": 37,
    "start_time": "2022-03-02T15:47:36.857Z"
   },
   {
    "duration": 44,
    "start_time": "2022-03-02T15:47:36.897Z"
   },
   {
    "duration": 11,
    "start_time": "2022-03-02T15:47:36.943Z"
   },
   {
    "duration": 7,
    "start_time": "2022-03-02T15:47:36.956Z"
   },
   {
    "duration": 5,
    "start_time": "2022-03-02T15:47:36.965Z"
   },
   {
    "duration": 113,
    "start_time": "2022-03-02T15:47:36.973Z"
   },
   {
    "duration": 20,
    "start_time": "2022-03-02T15:47:37.088Z"
   },
   {
    "duration": 60,
    "start_time": "2022-03-02T15:47:37.111Z"
   },
   {
    "duration": 60,
    "start_time": "2022-03-02T15:47:37.174Z"
   },
   {
    "duration": 31,
    "start_time": "2022-03-02T15:47:37.236Z"
   },
   {
    "duration": 33,
    "start_time": "2022-03-02T15:47:37.270Z"
   },
   {
    "duration": 50,
    "start_time": "2022-03-02T15:47:37.305Z"
   },
   {
    "duration": 37,
    "start_time": "2022-03-02T15:47:37.357Z"
   },
   {
    "duration": 58,
    "start_time": "2022-03-02T15:47:37.396Z"
   },
   {
    "duration": 20,
    "start_time": "2022-03-02T15:47:37.456Z"
   },
   {
    "duration": 57,
    "start_time": "2022-03-02T15:47:37.480Z"
   },
   {
    "duration": 24,
    "start_time": "2022-03-02T15:47:37.539Z"
   },
   {
    "duration": 46,
    "start_time": "2022-03-02T15:54:15.766Z"
   },
   {
    "duration": 884,
    "start_time": "2022-03-02T16:06:03.699Z"
   },
   {
    "duration": 15,
    "start_time": "2022-03-02T16:06:04.585Z"
   },
   {
    "duration": 4,
    "start_time": "2022-03-02T16:06:04.603Z"
   },
   {
    "duration": 18,
    "start_time": "2022-03-02T16:06:04.634Z"
   },
   {
    "duration": 8,
    "start_time": "2022-03-02T16:06:04.654Z"
   },
   {
    "duration": 88,
    "start_time": "2022-03-02T16:06:04.665Z"
   },
   {
    "duration": 40,
    "start_time": "2022-03-02T16:06:04.755Z"
   },
   {
    "duration": 54,
    "start_time": "2022-03-02T16:06:04.798Z"
   },
   {
    "duration": 11,
    "start_time": "2022-03-02T16:06:04.856Z"
   },
   {
    "duration": 8,
    "start_time": "2022-03-02T16:06:04.869Z"
   },
   {
    "duration": 54,
    "start_time": "2022-03-02T16:06:04.880Z"
   },
   {
    "duration": 62,
    "start_time": "2022-03-02T16:06:04.937Z"
   },
   {
    "duration": 46,
    "start_time": "2022-03-02T16:06:05.002Z"
   },
   {
    "duration": 92,
    "start_time": "2022-03-02T16:06:05.051Z"
   },
   {
    "duration": 43,
    "start_time": "2022-03-02T16:06:05.145Z"
   },
   {
    "duration": 77,
    "start_time": "2022-03-02T16:06:05.191Z"
   },
   {
    "duration": 37,
    "start_time": "2022-03-02T16:06:05.271Z"
   },
   {
    "duration": 26,
    "start_time": "2022-03-02T16:06:05.333Z"
   },
   {
    "duration": 37,
    "start_time": "2022-03-02T16:06:05.361Z"
   },
   {
    "duration": 59,
    "start_time": "2022-03-02T16:06:05.400Z"
   },
   {
    "duration": 21,
    "start_time": "2022-03-02T16:06:05.462Z"
   },
   {
    "duration": 55,
    "start_time": "2022-03-02T16:06:05.485Z"
   },
   {
    "duration": 28,
    "start_time": "2022-03-02T16:06:05.546Z"
   },
   {
    "duration": 850,
    "start_time": "2022-03-02T16:06:27.601Z"
   },
   {
    "duration": 20,
    "start_time": "2022-03-02T16:06:28.454Z"
   },
   {
    "duration": 7,
    "start_time": "2022-03-02T16:06:28.478Z"
   },
   {
    "duration": 59,
    "start_time": "2022-03-02T16:06:28.487Z"
   },
   {
    "duration": 7,
    "start_time": "2022-03-02T16:06:28.549Z"
   },
   {
    "duration": 41,
    "start_time": "2022-03-02T16:06:28.558Z"
   },
   {
    "duration": 53,
    "start_time": "2022-03-02T16:06:28.633Z"
   },
   {
    "duration": 48,
    "start_time": "2022-03-02T16:06:28.689Z"
   },
   {
    "duration": 10,
    "start_time": "2022-03-02T16:06:28.740Z"
   },
   {
    "duration": 8,
    "start_time": "2022-03-02T16:06:28.752Z"
   },
   {
    "duration": 5,
    "start_time": "2022-03-02T16:06:28.763Z"
   },
   {
    "duration": 106,
    "start_time": "2022-03-02T16:06:28.770Z"
   },
   {
    "duration": 23,
    "start_time": "2022-03-02T16:06:28.879Z"
   },
   {
    "duration": 69,
    "start_time": "2022-03-02T16:06:28.905Z"
   },
   {
    "duration": 58,
    "start_time": "2022-03-02T16:06:28.976Z"
   },
   {
    "duration": 31,
    "start_time": "2022-03-02T16:06:29.036Z"
   },
   {
    "duration": 70,
    "start_time": "2022-03-02T16:06:29.070Z"
   },
   {
    "duration": 31,
    "start_time": "2022-03-02T16:06:29.144Z"
   },
   {
    "duration": 72,
    "start_time": "2022-03-02T16:06:29.178Z"
   },
   {
    "duration": 33,
    "start_time": "2022-03-02T16:06:29.253Z"
   },
   {
    "duration": 56,
    "start_time": "2022-03-02T16:06:29.289Z"
   },
   {
    "duration": 24,
    "start_time": "2022-03-02T16:06:29.348Z"
   },
   {
    "duration": 57,
    "start_time": "2022-03-02T16:06:29.377Z"
   },
   {
    "duration": 654,
    "start_time": "2022-03-12T09:29:24.490Z"
   },
   {
    "duration": 10,
    "start_time": "2022-03-12T09:29:25.146Z"
   },
   {
    "duration": 348,
    "start_time": "2022-03-12T09:29:25.158Z"
   },
   {
    "duration": -299,
    "start_time": "2022-03-12T09:29:25.808Z"
   },
   {
    "duration": -301,
    "start_time": "2022-03-12T09:29:25.811Z"
   },
   {
    "duration": -303,
    "start_time": "2022-03-12T09:29:25.814Z"
   },
   {
    "duration": -304,
    "start_time": "2022-03-12T09:29:25.816Z"
   },
   {
    "duration": -318,
    "start_time": "2022-03-12T09:29:25.831Z"
   },
   {
    "duration": -319,
    "start_time": "2022-03-12T09:29:25.833Z"
   },
   {
    "duration": -322,
    "start_time": "2022-03-12T09:29:25.836Z"
   },
   {
    "duration": -324,
    "start_time": "2022-03-12T09:29:25.839Z"
   },
   {
    "duration": -325,
    "start_time": "2022-03-12T09:29:25.841Z"
   },
   {
    "duration": -326,
    "start_time": "2022-03-12T09:29:25.843Z"
   },
   {
    "duration": -328,
    "start_time": "2022-03-12T09:29:25.846Z"
   },
   {
    "duration": -329,
    "start_time": "2022-03-12T09:29:25.848Z"
   },
   {
    "duration": -330,
    "start_time": "2022-03-12T09:29:25.850Z"
   },
   {
    "duration": -331,
    "start_time": "2022-03-12T09:29:25.852Z"
   },
   {
    "duration": -332,
    "start_time": "2022-03-12T09:29:25.854Z"
   },
   {
    "duration": -333,
    "start_time": "2022-03-12T09:29:25.856Z"
   },
   {
    "duration": -334,
    "start_time": "2022-03-12T09:29:25.858Z"
   },
   {
    "duration": -336,
    "start_time": "2022-03-12T09:29:25.861Z"
   },
   {
    "duration": -337,
    "start_time": "2022-03-12T09:29:25.863Z"
   },
   {
    "duration": -338,
    "start_time": "2022-03-12T09:29:25.865Z"
   },
   {
    "duration": 3,
    "start_time": "2022-03-12T09:30:15.892Z"
   },
   {
    "duration": 113,
    "start_time": "2022-03-12T09:31:06.977Z"
   },
   {
    "duration": 9,
    "start_time": "2022-03-12T09:31:22.122Z"
   },
   {
    "duration": 101,
    "start_time": "2022-03-12T09:32:05.914Z"
   },
   {
    "duration": 105,
    "start_time": "2022-03-12T09:32:11.230Z"
   },
   {
    "duration": 787,
    "start_time": "2022-03-12T09:34:08.273Z"
   },
   {
    "duration": 311,
    "start_time": "2022-03-12T09:34:58.853Z"
   },
   {
    "duration": 4,
    "start_time": "2022-03-12T09:35:27.831Z"
   },
   {
    "duration": 12,
    "start_time": "2022-03-12T09:36:13.935Z"
   },
   {
    "duration": 597,
    "start_time": "2022-03-12T09:36:21.138Z"
   },
   {
    "duration": 9,
    "start_time": "2022-03-12T09:36:21.737Z"
   },
   {
    "duration": 4,
    "start_time": "2022-03-12T09:36:21.748Z"
   },
   {
    "duration": 12,
    "start_time": "2022-03-12T09:36:21.754Z"
   },
   {
    "duration": 4,
    "start_time": "2022-03-12T09:36:21.767Z"
   },
   {
    "duration": 35,
    "start_time": "2022-03-12T09:36:21.773Z"
   },
   {
    "duration": 21,
    "start_time": "2022-03-12T09:36:21.810Z"
   },
   {
    "duration": 11,
    "start_time": "2022-03-12T09:36:21.833Z"
   },
   {
    "duration": 6,
    "start_time": "2022-03-12T09:36:21.845Z"
   },
   {
    "duration": 6,
    "start_time": "2022-03-12T09:36:21.852Z"
   },
   {
    "duration": 5,
    "start_time": "2022-03-12T09:36:21.860Z"
   },
   {
    "duration": 64,
    "start_time": "2022-03-12T09:36:21.866Z"
   },
   {
    "duration": 13,
    "start_time": "2022-03-12T09:36:21.931Z"
   },
   {
    "duration": 28,
    "start_time": "2022-03-12T09:36:21.946Z"
   },
   {
    "duration": 37,
    "start_time": "2022-03-12T09:36:21.976Z"
   },
   {
    "duration": 17,
    "start_time": "2022-03-12T09:36:22.015Z"
   },
   {
    "duration": 19,
    "start_time": "2022-03-12T09:36:22.034Z"
   },
   {
    "duration": 19,
    "start_time": "2022-03-12T09:36:22.055Z"
   },
   {
    "duration": 45,
    "start_time": "2022-03-12T09:36:22.076Z"
   },
   {
    "duration": 17,
    "start_time": "2022-03-12T09:36:22.122Z"
   },
   {
    "duration": 12,
    "start_time": "2022-03-12T09:36:22.140Z"
   },
   {
    "duration": 11,
    "start_time": "2022-03-12T09:36:22.154Z"
   },
   {
    "duration": 35,
    "start_time": "2022-03-12T09:36:22.167Z"
   },
   {
    "duration": 436,
    "start_time": "2022-03-12T09:36:40.267Z"
   },
   {
    "duration": 11,
    "start_time": "2022-03-12T09:37:27.441Z"
   },
   {
    "duration": 643,
    "start_time": "2022-03-12T09:37:34.805Z"
   },
   {
    "duration": 10,
    "start_time": "2022-03-12T09:37:35.449Z"
   },
   {
    "duration": 3,
    "start_time": "2022-03-12T09:37:35.460Z"
   },
   {
    "duration": 12,
    "start_time": "2022-03-12T09:37:35.465Z"
   },
   {
    "duration": 4,
    "start_time": "2022-03-12T09:37:35.479Z"
   },
   {
    "duration": 21,
    "start_time": "2022-03-12T09:37:35.501Z"
   },
   {
    "duration": 15,
    "start_time": "2022-03-12T09:37:35.523Z"
   },
   {
    "duration": 12,
    "start_time": "2022-03-12T09:37:35.541Z"
   },
   {
    "duration": 6,
    "start_time": "2022-03-12T09:37:35.555Z"
   },
   {
    "duration": 4,
    "start_time": "2022-03-12T09:37:35.563Z"
   },
   {
    "duration": 33,
    "start_time": "2022-03-12T09:37:35.569Z"
   },
   {
    "duration": 42,
    "start_time": "2022-03-12T09:37:35.603Z"
   },
   {
    "duration": 14,
    "start_time": "2022-03-12T09:37:35.646Z"
   },
   {
    "duration": 46,
    "start_time": "2022-03-12T09:37:35.661Z"
   },
   {
    "duration": 23,
    "start_time": "2022-03-12T09:37:35.709Z"
   },
   {
    "duration": 18,
    "start_time": "2022-03-12T09:37:35.733Z"
   },
   {
    "duration": 19,
    "start_time": "2022-03-12T09:37:35.753Z"
   },
   {
    "duration": 42,
    "start_time": "2022-03-12T09:37:35.773Z"
   },
   {
    "duration": 21,
    "start_time": "2022-03-12T09:37:35.816Z"
   },
   {
    "duration": 15,
    "start_time": "2022-03-12T09:37:35.839Z"
   },
   {
    "duration": 16,
    "start_time": "2022-03-12T09:37:35.856Z"
   },
   {
    "duration": 36,
    "start_time": "2022-03-12T09:37:35.874Z"
   },
   {
    "duration": 12,
    "start_time": "2022-03-12T09:37:35.913Z"
   },
   {
    "duration": 5,
    "start_time": "2022-03-12T09:39:32.168Z"
   },
   {
    "duration": 46,
    "start_time": "2022-03-12T09:41:06.974Z"
   },
   {
    "duration": 2,
    "start_time": "2022-03-12T09:43:05.871Z"
   },
   {
    "duration": 22,
    "start_time": "2022-03-12T09:43:10.916Z"
   },
   {
    "duration": 642,
    "start_time": "2022-03-12T09:43:29.181Z"
   },
   {
    "duration": 9,
    "start_time": "2022-03-12T09:43:29.825Z"
   },
   {
    "duration": 3,
    "start_time": "2022-03-12T09:43:29.838Z"
   },
   {
    "duration": 12,
    "start_time": "2022-03-12T09:43:29.843Z"
   },
   {
    "duration": 5,
    "start_time": "2022-03-12T09:43:29.857Z"
   },
   {
    "duration": 49,
    "start_time": "2022-03-12T09:43:29.864Z"
   },
   {
    "duration": 15,
    "start_time": "2022-03-12T09:43:29.916Z"
   },
   {
    "duration": 13,
    "start_time": "2022-03-12T09:43:29.933Z"
   },
   {
    "duration": 7,
    "start_time": "2022-03-12T09:43:29.948Z"
   },
   {
    "duration": 4,
    "start_time": "2022-03-12T09:43:29.956Z"
   },
   {
    "duration": 4,
    "start_time": "2022-03-12T09:43:29.962Z"
   },
   {
    "duration": 33,
    "start_time": "2022-03-12T09:43:29.968Z"
   },
   {
    "duration": 16,
    "start_time": "2022-03-12T09:43:30.003Z"
   },
   {
    "duration": 29,
    "start_time": "2022-03-12T09:43:30.021Z"
   },
   {
    "duration": 23,
    "start_time": "2022-03-12T09:43:30.051Z"
   },
   {
    "duration": 38,
    "start_time": "2022-03-12T09:43:30.075Z"
   },
   {
    "duration": 20,
    "start_time": "2022-03-12T09:43:30.114Z"
   },
   {
    "duration": 20,
    "start_time": "2022-03-12T09:43:30.135Z"
   },
   {
    "duration": 20,
    "start_time": "2022-03-12T09:43:30.156Z"
   },
   {
    "duration": 15,
    "start_time": "2022-03-12T09:43:30.201Z"
   },
   {
    "duration": 12,
    "start_time": "2022-03-12T09:43:30.217Z"
   },
   {
    "duration": 13,
    "start_time": "2022-03-12T09:43:30.231Z"
   },
   {
    "duration": 12,
    "start_time": "2022-03-12T09:43:30.246Z"
   },
   {
    "duration": 50,
    "start_time": "2022-03-12T09:45:30.322Z"
   },
   {
    "duration": 615,
    "start_time": "2022-03-12T09:50:22.735Z"
   },
   {
    "duration": 10,
    "start_time": "2022-03-12T09:50:23.351Z"
   },
   {
    "duration": 3,
    "start_time": "2022-03-12T09:50:23.362Z"
   },
   {
    "duration": 12,
    "start_time": "2022-03-12T09:50:23.367Z"
   },
   {
    "duration": 21,
    "start_time": "2022-03-12T09:50:23.380Z"
   },
   {
    "duration": 20,
    "start_time": "2022-03-12T09:50:23.403Z"
   },
   {
    "duration": 15,
    "start_time": "2022-03-12T09:50:23.425Z"
   },
   {
    "duration": 12,
    "start_time": "2022-03-12T09:50:23.443Z"
   },
   {
    "duration": 6,
    "start_time": "2022-03-12T09:50:23.457Z"
   },
   {
    "duration": 39,
    "start_time": "2022-03-12T09:50:23.464Z"
   },
   {
    "duration": 4,
    "start_time": "2022-03-12T09:50:23.505Z"
   },
   {
    "duration": 15,
    "start_time": "2022-03-12T09:50:23.510Z"
   },
   {
    "duration": 30,
    "start_time": "2022-03-12T09:50:23.526Z"
   },
   {
    "duration": 51,
    "start_time": "2022-03-12T09:50:23.558Z"
   },
   {
    "duration": 48,
    "start_time": "2022-03-12T09:50:23.611Z"
   },
   {
    "duration": 18,
    "start_time": "2022-03-12T09:50:23.660Z"
   },
   {
    "duration": 39,
    "start_time": "2022-03-12T09:50:23.680Z"
   },
   {
    "duration": 18,
    "start_time": "2022-03-12T09:50:23.720Z"
   },
   {
    "duration": 20,
    "start_time": "2022-03-12T09:50:23.740Z"
   },
   {
    "duration": 15,
    "start_time": "2022-03-12T09:50:23.761Z"
   },
   {
    "duration": 11,
    "start_time": "2022-03-12T09:50:23.801Z"
   },
   {
    "duration": 11,
    "start_time": "2022-03-12T09:50:23.814Z"
   },
   {
    "duration": 12,
    "start_time": "2022-03-12T09:50:23.827Z"
   },
   {
    "duration": 45,
    "start_time": "2022-03-12T09:51:20.324Z"
   },
   {
    "duration": 44,
    "start_time": "2022-03-12T09:51:28.396Z"
   },
   {
    "duration": 107,
    "start_time": "2022-03-12T09:51:46.161Z"
   },
   {
    "duration": 43,
    "start_time": "2022-03-12T09:51:50.457Z"
   },
   {
    "duration": 633,
    "start_time": "2022-03-12T09:51:59.415Z"
   },
   {
    "duration": 10,
    "start_time": "2022-03-12T09:52:00.050Z"
   },
   {
    "duration": 3,
    "start_time": "2022-03-12T09:52:00.062Z"
   },
   {
    "duration": 14,
    "start_time": "2022-03-12T09:52:00.067Z"
   },
   {
    "duration": 22,
    "start_time": "2022-03-12T09:52:00.083Z"
   },
   {
    "duration": 22,
    "start_time": "2022-03-12T09:52:00.107Z"
   },
   {
    "duration": 16,
    "start_time": "2022-03-12T09:52:00.130Z"
   },
   {
    "duration": 11,
    "start_time": "2022-03-12T09:52:00.149Z"
   },
   {
    "duration": 40,
    "start_time": "2022-03-12T09:52:00.162Z"
   },
   {
    "duration": 6,
    "start_time": "2022-03-12T09:52:00.204Z"
   },
   {
    "duration": 5,
    "start_time": "2022-03-12T09:52:00.211Z"
   },
   {
    "duration": 15,
    "start_time": "2022-03-12T09:52:00.218Z"
   },
   {
    "duration": 30,
    "start_time": "2022-03-12T09:52:00.235Z"
   },
   {
    "duration": 54,
    "start_time": "2022-03-12T09:52:00.267Z"
   },
   {
    "duration": 38,
    "start_time": "2022-03-12T09:52:00.322Z"
   },
   {
    "duration": 19,
    "start_time": "2022-03-12T09:52:00.362Z"
   },
   {
    "duration": 37,
    "start_time": "2022-03-12T09:52:00.383Z"
   },
   {
    "duration": 24,
    "start_time": "2022-03-12T09:52:00.422Z"
   },
   {
    "duration": 33,
    "start_time": "2022-03-12T09:52:00.448Z"
   },
   {
    "duration": 24,
    "start_time": "2022-03-12T09:52:00.483Z"
   },
   {
    "duration": 13,
    "start_time": "2022-03-12T09:52:00.509Z"
   },
   {
    "duration": 12,
    "start_time": "2022-03-12T09:52:00.523Z"
   },
   {
    "duration": 26,
    "start_time": "2022-03-12T09:52:00.537Z"
   },
   {
    "duration": 352,
    "start_time": "2022-03-12T09:52:32.577Z"
   },
   {
    "duration": 15,
    "start_time": "2022-03-12T09:52:38.468Z"
   },
   {
    "duration": 100,
    "start_time": "2022-03-12T09:57:54.283Z"
   },
   {
    "duration": 109,
    "start_time": "2022-03-12T09:58:07.383Z"
   },
   {
    "duration": 410,
    "start_time": "2022-03-12T10:02:01.982Z"
   },
   {
    "duration": 156,
    "start_time": "2022-03-12T10:02:10.522Z"
   },
   {
    "duration": 13,
    "start_time": "2022-03-12T10:03:32.017Z"
   },
   {
    "duration": 608,
    "start_time": "2022-03-12T10:05:54.132Z"
   },
   {
    "duration": 11,
    "start_time": "2022-03-12T10:05:54.742Z"
   },
   {
    "duration": 4,
    "start_time": "2022-03-12T10:05:54.755Z"
   },
   {
    "duration": 19,
    "start_time": "2022-03-12T10:05:54.761Z"
   },
   {
    "duration": 19,
    "start_time": "2022-03-12T10:05:54.782Z"
   },
   {
    "duration": 21,
    "start_time": "2022-03-12T10:05:54.802Z"
   },
   {
    "duration": 15,
    "start_time": "2022-03-12T10:05:54.825Z"
   },
   {
    "duration": 24,
    "start_time": "2022-03-12T10:05:54.842Z"
   },
   {
    "duration": 6,
    "start_time": "2022-03-12T10:05:54.867Z"
   },
   {
    "duration": 13,
    "start_time": "2022-03-12T10:05:54.874Z"
   },
   {
    "duration": 14,
    "start_time": "2022-03-12T10:05:54.888Z"
   },
   {
    "duration": 28,
    "start_time": "2022-03-12T10:05:54.903Z"
   },
   {
    "duration": 29,
    "start_time": "2022-03-12T10:05:54.933Z"
   },
   {
    "duration": 23,
    "start_time": "2022-03-12T10:05:54.964Z"
   },
   {
    "duration": 44,
    "start_time": "2022-03-12T10:05:54.988Z"
   },
   {
    "duration": 18,
    "start_time": "2022-03-12T10:05:55.034Z"
   },
   {
    "duration": 15,
    "start_time": "2022-03-12T10:05:55.053Z"
   },
   {
    "duration": 41,
    "start_time": "2022-03-12T10:05:55.069Z"
   },
   {
    "duration": 21,
    "start_time": "2022-03-12T10:05:55.111Z"
   },
   {
    "duration": 17,
    "start_time": "2022-03-12T10:05:55.133Z"
   },
   {
    "duration": 11,
    "start_time": "2022-03-12T10:05:55.152Z"
   },
   {
    "duration": 12,
    "start_time": "2022-03-12T10:05:55.165Z"
   },
   {
    "duration": 33,
    "start_time": "2022-03-12T10:05:55.179Z"
   },
   {
    "duration": 15,
    "start_time": "2022-03-12T10:14:55.540Z"
   },
   {
    "duration": 11,
    "start_time": "2022-03-12T10:15:04.433Z"
   },
   {
    "duration": 700,
    "start_time": "2022-03-12T10:15:17.266Z"
   },
   {
    "duration": 9,
    "start_time": "2022-03-12T10:15:17.968Z"
   },
   {
    "duration": 3,
    "start_time": "2022-03-12T10:15:17.979Z"
   },
   {
    "duration": 17,
    "start_time": "2022-03-12T10:15:17.984Z"
   },
   {
    "duration": 6,
    "start_time": "2022-03-12T10:15:18.002Z"
   },
   {
    "duration": 23,
    "start_time": "2022-03-12T10:15:18.009Z"
   },
   {
    "duration": 17,
    "start_time": "2022-03-12T10:15:18.033Z"
   },
   {
    "duration": 12,
    "start_time": "2022-03-12T10:15:18.052Z"
   },
   {
    "duration": 7,
    "start_time": "2022-03-12T10:15:18.065Z"
   },
   {
    "duration": 5,
    "start_time": "2022-03-12T10:15:18.102Z"
   },
   {
    "duration": 4,
    "start_time": "2022-03-12T10:15:18.109Z"
   },
   {
    "duration": 16,
    "start_time": "2022-03-12T10:15:18.115Z"
   },
   {
    "duration": 34,
    "start_time": "2022-03-12T10:15:18.133Z"
   },
   {
    "duration": 46,
    "start_time": "2022-03-12T10:15:18.168Z"
   },
   {
    "duration": 37,
    "start_time": "2022-03-12T10:15:18.216Z"
   },
   {
    "duration": 18,
    "start_time": "2022-03-12T10:15:18.255Z"
   },
   {
    "duration": 39,
    "start_time": "2022-03-12T10:15:18.275Z"
   },
   {
    "duration": 13,
    "start_time": "2022-03-12T10:15:18.316Z"
   },
   {
    "duration": 16,
    "start_time": "2022-03-12T10:15:18.331Z"
   },
   {
    "duration": 22,
    "start_time": "2022-03-12T10:15:18.349Z"
   },
   {
    "duration": 40,
    "start_time": "2022-03-12T10:15:18.372Z"
   },
   {
    "duration": 13,
    "start_time": "2022-03-12T10:15:18.414Z"
   },
   {
    "duration": 13,
    "start_time": "2022-03-12T10:15:18.429Z"
   },
   {
    "duration": 14,
    "start_time": "2022-03-12T10:15:18.444Z"
   },
   {
    "duration": 13,
    "start_time": "2022-03-12T10:17:11.979Z"
   },
   {
    "duration": 599,
    "start_time": "2022-03-12T10:18:00.744Z"
   },
   {
    "duration": 10,
    "start_time": "2022-03-12T10:18:01.345Z"
   },
   {
    "duration": 4,
    "start_time": "2022-03-12T10:18:01.359Z"
   },
   {
    "duration": 19,
    "start_time": "2022-03-12T10:18:01.365Z"
   },
   {
    "duration": 6,
    "start_time": "2022-03-12T10:18:01.401Z"
   },
   {
    "duration": 29,
    "start_time": "2022-03-12T10:18:01.408Z"
   },
   {
    "duration": 16,
    "start_time": "2022-03-12T10:18:01.439Z"
   },
   {
    "duration": 13,
    "start_time": "2022-03-12T10:18:01.456Z"
   },
   {
    "duration": 8,
    "start_time": "2022-03-12T10:18:01.470Z"
   },
   {
    "duration": 27,
    "start_time": "2022-03-12T10:18:01.479Z"
   },
   {
    "duration": 5,
    "start_time": "2022-03-12T10:18:01.508Z"
   },
   {
    "duration": 14,
    "start_time": "2022-03-12T10:18:01.515Z"
   },
   {
    "duration": 30,
    "start_time": "2022-03-12T10:18:01.531Z"
   },
   {
    "duration": 51,
    "start_time": "2022-03-12T10:18:01.562Z"
   },
   {
    "duration": 36,
    "start_time": "2022-03-12T10:18:01.614Z"
   },
   {
    "duration": 19,
    "start_time": "2022-03-12T10:18:01.652Z"
   },
   {
    "duration": 39,
    "start_time": "2022-03-12T10:18:01.673Z"
   },
   {
    "duration": 22,
    "start_time": "2022-03-12T10:18:01.714Z"
   },
   {
    "duration": 27,
    "start_time": "2022-03-12T10:18:01.738Z"
   },
   {
    "duration": 51,
    "start_time": "2022-03-12T10:18:01.767Z"
   },
   {
    "duration": 20,
    "start_time": "2022-03-12T10:18:01.821Z"
   },
   {
    "duration": 17,
    "start_time": "2022-03-12T10:18:01.844Z"
   },
   {
    "duration": 17,
    "start_time": "2022-03-12T10:18:01.863Z"
   },
   {
    "duration": 18,
    "start_time": "2022-03-12T10:18:01.902Z"
   },
   {
    "duration": 646,
    "start_time": "2022-03-12T10:23:41.255Z"
   },
   {
    "duration": 9,
    "start_time": "2022-03-12T10:23:41.902Z"
   },
   {
    "duration": 13,
    "start_time": "2022-03-12T10:23:41.913Z"
   },
   {
    "duration": 33,
    "start_time": "2022-03-12T10:23:41.928Z"
   },
   {
    "duration": 11,
    "start_time": "2022-03-12T10:23:41.962Z"
   },
   {
    "duration": 22,
    "start_time": "2022-03-12T10:23:41.974Z"
   },
   {
    "duration": 16,
    "start_time": "2022-03-12T10:23:41.997Z"
   },
   {
    "duration": 18,
    "start_time": "2022-03-12T10:23:42.015Z"
   },
   {
    "duration": 11,
    "start_time": "2022-03-12T10:23:42.035Z"
   },
   {
    "duration": 14,
    "start_time": "2022-03-12T10:23:42.047Z"
   },
   {
    "duration": 8,
    "start_time": "2022-03-12T10:23:42.063Z"
   },
   {
    "duration": 26,
    "start_time": "2022-03-12T10:23:42.072Z"
   },
   {
    "duration": 34,
    "start_time": "2022-03-12T10:23:42.099Z"
   },
   {
    "duration": 28,
    "start_time": "2022-03-12T10:23:42.134Z"
   },
   {
    "duration": 41,
    "start_time": "2022-03-12T10:23:42.163Z"
   },
   {
    "duration": 17,
    "start_time": "2022-03-12T10:23:42.206Z"
   },
   {
    "duration": 15,
    "start_time": "2022-03-12T10:23:42.225Z"
   },
   {
    "duration": 20,
    "start_time": "2022-03-12T10:23:42.241Z"
   },
   {
    "duration": 30,
    "start_time": "2022-03-12T10:23:42.262Z"
   },
   {
    "duration": 39,
    "start_time": "2022-03-12T10:23:42.294Z"
   },
   {
    "duration": 100,
    "start_time": "2022-03-12T10:23:42.335Z"
   },
   {
    "duration": -171,
    "start_time": "2022-03-12T10:23:42.608Z"
   },
   {
    "duration": -176,
    "start_time": "2022-03-12T10:23:42.614Z"
   },
   {
    "duration": -188,
    "start_time": "2022-03-12T10:23:42.627Z"
   },
   {
    "duration": -192,
    "start_time": "2022-03-12T10:23:42.632Z"
   },
   {
    "duration": -195,
    "start_time": "2022-03-12T10:23:42.636Z"
   },
   {
    "duration": 12,
    "start_time": "2022-03-12T10:26:21.439Z"
   },
   {
    "duration": 725,
    "start_time": "2022-03-12T10:26:50.089Z"
   },
   {
    "duration": 11,
    "start_time": "2022-03-12T10:26:50.816Z"
   },
   {
    "duration": 4,
    "start_time": "2022-03-12T10:26:50.829Z"
   },
   {
    "duration": 16,
    "start_time": "2022-03-12T10:26:50.835Z"
   },
   {
    "duration": 6,
    "start_time": "2022-03-12T10:26:50.852Z"
   },
   {
    "duration": 49,
    "start_time": "2022-03-12T10:26:50.860Z"
   },
   {
    "duration": 20,
    "start_time": "2022-03-12T10:26:50.911Z"
   },
   {
    "duration": 19,
    "start_time": "2022-03-12T10:26:50.934Z"
   },
   {
    "duration": 9,
    "start_time": "2022-03-12T10:26:50.955Z"
   },
   {
    "duration": 5,
    "start_time": "2022-03-12T10:26:50.966Z"
   },
   {
    "duration": 32,
    "start_time": "2022-03-12T10:26:50.973Z"
   },
   {
    "duration": 15,
    "start_time": "2022-03-12T10:26:51.006Z"
   },
   {
    "duration": 31,
    "start_time": "2022-03-12T10:26:51.023Z"
   },
   {
    "duration": 49,
    "start_time": "2022-03-12T10:26:51.056Z"
   },
   {
    "duration": 41,
    "start_time": "2022-03-12T10:26:51.107Z"
   },
   {
    "duration": 18,
    "start_time": "2022-03-12T10:26:51.149Z"
   },
   {
    "duration": 35,
    "start_time": "2022-03-12T10:26:51.169Z"
   },
   {
    "duration": 15,
    "start_time": "2022-03-12T10:26:51.205Z"
   },
   {
    "duration": 17,
    "start_time": "2022-03-12T10:26:51.221Z"
   },
   {
    "duration": 19,
    "start_time": "2022-03-12T10:26:51.239Z"
   },
   {
    "duration": 13,
    "start_time": "2022-03-12T10:26:51.260Z"
   },
   {
    "duration": 37,
    "start_time": "2022-03-12T10:26:51.275Z"
   },
   {
    "duration": 12,
    "start_time": "2022-03-12T10:26:51.315Z"
   },
   {
    "duration": 12,
    "start_time": "2022-03-12T10:26:51.328Z"
   },
   {
    "duration": 12,
    "start_time": "2022-03-12T10:26:51.341Z"
   },
   {
    "duration": 662,
    "start_time": "2022-03-12T10:27:22.626Z"
   },
   {
    "duration": 9,
    "start_time": "2022-03-12T10:27:23.290Z"
   },
   {
    "duration": 3,
    "start_time": "2022-03-12T10:27:23.301Z"
   },
   {
    "duration": 14,
    "start_time": "2022-03-12T10:27:23.305Z"
   },
   {
    "duration": 5,
    "start_time": "2022-03-12T10:27:23.320Z"
   },
   {
    "duration": 19,
    "start_time": "2022-03-12T10:27:23.327Z"
   },
   {
    "duration": 15,
    "start_time": "2022-03-12T10:27:23.348Z"
   },
   {
    "duration": 37,
    "start_time": "2022-03-12T10:27:23.365Z"
   },
   {
    "duration": 7,
    "start_time": "2022-03-12T10:27:23.404Z"
   },
   {
    "duration": 5,
    "start_time": "2022-03-12T10:27:23.412Z"
   },
   {
    "duration": 6,
    "start_time": "2022-03-12T10:27:23.418Z"
   },
   {
    "duration": 16,
    "start_time": "2022-03-12T10:27:23.425Z"
   },
   {
    "duration": 31,
    "start_time": "2022-03-12T10:27:23.443Z"
   },
   {
    "duration": 43,
    "start_time": "2022-03-12T10:27:23.476Z"
   },
   {
    "duration": 35,
    "start_time": "2022-03-12T10:27:23.520Z"
   },
   {
    "duration": 17,
    "start_time": "2022-03-12T10:27:23.557Z"
   },
   {
    "duration": 35,
    "start_time": "2022-03-12T10:27:23.575Z"
   },
   {
    "duration": 14,
    "start_time": "2022-03-12T10:27:23.611Z"
   },
   {
    "duration": 21,
    "start_time": "2022-03-12T10:27:23.626Z"
   },
   {
    "duration": 23,
    "start_time": "2022-03-12T10:27:23.649Z"
   },
   {
    "duration": 385,
    "start_time": "2022-03-12T10:27:23.674Z"
   },
   {
    "duration": -182,
    "start_time": "2022-03-12T10:27:24.243Z"
   },
   {
    "duration": -196,
    "start_time": "2022-03-12T10:27:24.258Z"
   },
   {
    "duration": -203,
    "start_time": "2022-03-12T10:27:24.266Z"
   },
   {
    "duration": -209,
    "start_time": "2022-03-12T10:27:24.273Z"
   },
   {
    "duration": 598,
    "start_time": "2022-03-12T10:27:40.633Z"
   },
   {
    "duration": 9,
    "start_time": "2022-03-12T10:27:41.233Z"
   },
   {
    "duration": 3,
    "start_time": "2022-03-12T10:27:41.244Z"
   },
   {
    "duration": 11,
    "start_time": "2022-03-12T10:27:41.248Z"
   },
   {
    "duration": 4,
    "start_time": "2022-03-12T10:27:41.261Z"
   },
   {
    "duration": 38,
    "start_time": "2022-03-12T10:27:41.267Z"
   },
   {
    "duration": 15,
    "start_time": "2022-03-12T10:27:41.306Z"
   },
   {
    "duration": 16,
    "start_time": "2022-03-12T10:27:41.323Z"
   },
   {
    "duration": 7,
    "start_time": "2022-03-12T10:27:41.341Z"
   },
   {
    "duration": 5,
    "start_time": "2022-03-12T10:27:41.350Z"
   },
   {
    "duration": 6,
    "start_time": "2022-03-12T10:27:41.357Z"
   },
   {
    "duration": 46,
    "start_time": "2022-03-12T10:27:41.364Z"
   },
   {
    "duration": 34,
    "start_time": "2022-03-12T10:27:41.412Z"
   },
   {
    "duration": 23,
    "start_time": "2022-03-12T10:27:41.448Z"
   },
   {
    "duration": 52,
    "start_time": "2022-03-12T10:27:41.473Z"
   },
   {
    "duration": 17,
    "start_time": "2022-03-12T10:27:41.526Z"
   },
   {
    "duration": 13,
    "start_time": "2022-03-12T10:27:41.545Z"
   },
   {
    "duration": 15,
    "start_time": "2022-03-12T10:27:41.560Z"
   },
   {
    "duration": 39,
    "start_time": "2022-03-12T10:27:41.576Z"
   },
   {
    "duration": 21,
    "start_time": "2022-03-12T10:27:41.616Z"
   },
   {
    "duration": 13,
    "start_time": "2022-03-12T10:27:41.639Z"
   },
   {
    "duration": 17,
    "start_time": "2022-03-12T10:27:41.653Z"
   },
   {
    "duration": 36,
    "start_time": "2022-03-12T10:27:41.672Z"
   },
   {
    "duration": 12,
    "start_time": "2022-03-12T10:27:41.710Z"
   },
   {
    "duration": 11,
    "start_time": "2022-03-12T10:27:41.723Z"
   },
   {
    "duration": 623,
    "start_time": "2022-03-12T10:31:13.545Z"
   },
   {
    "duration": 11,
    "start_time": "2022-03-12T10:31:14.169Z"
   },
   {
    "duration": 3,
    "start_time": "2022-03-12T10:31:14.184Z"
   },
   {
    "duration": 19,
    "start_time": "2022-03-12T10:31:14.188Z"
   },
   {
    "duration": 13,
    "start_time": "2022-03-12T10:31:14.208Z"
   },
   {
    "duration": 24,
    "start_time": "2022-03-12T10:31:14.223Z"
   },
   {
    "duration": 16,
    "start_time": "2022-03-12T10:31:14.249Z"
   },
   {
    "duration": 19,
    "start_time": "2022-03-12T10:31:14.266Z"
   },
   {
    "duration": 20,
    "start_time": "2022-03-12T10:31:14.286Z"
   },
   {
    "duration": 7,
    "start_time": "2022-03-12T10:31:14.307Z"
   },
   {
    "duration": 7,
    "start_time": "2022-03-12T10:31:14.316Z"
   },
   {
    "duration": 17,
    "start_time": "2022-03-12T10:31:14.324Z"
   },
   {
    "duration": 29,
    "start_time": "2022-03-12T10:31:14.342Z"
   },
   {
    "duration": 43,
    "start_time": "2022-03-12T10:31:14.373Z"
   },
   {
    "duration": 52,
    "start_time": "2022-03-12T10:31:14.417Z"
   },
   {
    "duration": 33,
    "start_time": "2022-03-12T10:31:14.471Z"
   },
   {
    "duration": 15,
    "start_time": "2022-03-12T10:31:14.506Z"
   },
   {
    "duration": 22,
    "start_time": "2022-03-12T10:31:14.523Z"
   },
   {
    "duration": 20,
    "start_time": "2022-03-12T10:31:14.547Z"
   },
   {
    "duration": 48,
    "start_time": "2022-03-12T10:31:14.568Z"
   },
   {
    "duration": 13,
    "start_time": "2022-03-12T10:31:14.617Z"
   },
   {
    "duration": 17,
    "start_time": "2022-03-12T10:31:14.633Z"
   },
   {
    "duration": 12,
    "start_time": "2022-03-12T10:31:14.651Z"
   },
   {
    "duration": 37,
    "start_time": "2022-03-12T10:31:14.665Z"
   },
   {
    "duration": 14,
    "start_time": "2022-03-12T10:31:14.704Z"
   },
   {
    "duration": 387,
    "start_time": "2022-03-12T10:31:48.071Z"
   },
   {
    "duration": 14,
    "start_time": "2022-03-12T10:31:57.464Z"
   },
   {
    "duration": 642,
    "start_time": "2022-03-12T10:32:06.628Z"
   },
   {
    "duration": 10,
    "start_time": "2022-03-12T10:32:07.271Z"
   },
   {
    "duration": 4,
    "start_time": "2022-03-12T10:32:07.282Z"
   },
   {
    "duration": 16,
    "start_time": "2022-03-12T10:32:07.287Z"
   },
   {
    "duration": 5,
    "start_time": "2022-03-12T10:32:07.305Z"
   },
   {
    "duration": 22,
    "start_time": "2022-03-12T10:32:07.312Z"
   },
   {
    "duration": 15,
    "start_time": "2022-03-12T10:32:07.335Z"
   },
   {
    "duration": 12,
    "start_time": "2022-03-12T10:32:07.352Z"
   },
   {
    "duration": 7,
    "start_time": "2022-03-12T10:32:07.365Z"
   },
   {
    "duration": 32,
    "start_time": "2022-03-12T10:32:07.373Z"
   },
   {
    "duration": 6,
    "start_time": "2022-03-12T10:32:07.406Z"
   },
   {
    "duration": 19,
    "start_time": "2022-03-12T10:32:07.413Z"
   },
   {
    "duration": 29,
    "start_time": "2022-03-12T10:32:07.434Z"
   },
   {
    "duration": 40,
    "start_time": "2022-03-12T10:32:07.465Z"
   },
   {
    "duration": 44,
    "start_time": "2022-03-12T10:32:07.506Z"
   },
   {
    "duration": 17,
    "start_time": "2022-03-12T10:32:07.552Z"
   },
   {
    "duration": 32,
    "start_time": "2022-03-12T10:32:07.571Z"
   },
   {
    "duration": 13,
    "start_time": "2022-03-12T10:32:07.605Z"
   },
   {
    "duration": 22,
    "start_time": "2022-03-12T10:32:07.619Z"
   },
   {
    "duration": 20,
    "start_time": "2022-03-12T10:32:07.642Z"
   },
   {
    "duration": 12,
    "start_time": "2022-03-12T10:32:07.664Z"
   },
   {
    "duration": 37,
    "start_time": "2022-03-12T10:32:07.677Z"
   },
   {
    "duration": 12,
    "start_time": "2022-03-12T10:32:07.717Z"
   },
   {
    "duration": 12,
    "start_time": "2022-03-12T10:32:07.730Z"
   },
   {
    "duration": 11,
    "start_time": "2022-03-12T10:32:07.743Z"
   },
   {
    "duration": 651,
    "start_time": "2022-03-12T10:33:03.176Z"
   },
   {
    "duration": 10,
    "start_time": "2022-03-12T10:33:03.828Z"
   },
   {
    "duration": 5,
    "start_time": "2022-03-12T10:33:03.840Z"
   },
   {
    "duration": 14,
    "start_time": "2022-03-12T10:33:03.847Z"
   },
   {
    "duration": 4,
    "start_time": "2022-03-12T10:33:03.863Z"
   },
   {
    "duration": 36,
    "start_time": "2022-03-12T10:33:03.869Z"
   },
   {
    "duration": 15,
    "start_time": "2022-03-12T10:33:03.907Z"
   },
   {
    "duration": 12,
    "start_time": "2022-03-12T10:33:03.924Z"
   },
   {
    "duration": 7,
    "start_time": "2022-03-12T10:33:03.939Z"
   },
   {
    "duration": 6,
    "start_time": "2022-03-12T10:33:03.947Z"
   },
   {
    "duration": 6,
    "start_time": "2022-03-12T10:33:03.954Z"
   },
   {
    "duration": 49,
    "start_time": "2022-03-12T10:33:03.962Z"
   },
   {
    "duration": 33,
    "start_time": "2022-03-12T10:33:04.013Z"
   },
   {
    "duration": 25,
    "start_time": "2022-03-12T10:33:04.047Z"
   },
   {
    "duration": 55,
    "start_time": "2022-03-12T10:33:04.074Z"
   },
   {
    "duration": 19,
    "start_time": "2022-03-12T10:33:04.131Z"
   },
   {
    "duration": 14,
    "start_time": "2022-03-12T10:33:04.152Z"
   },
   {
    "duration": 39,
    "start_time": "2022-03-12T10:33:04.168Z"
   },
   {
    "duration": 17,
    "start_time": "2022-03-12T10:33:04.208Z"
   },
   {
    "duration": 20,
    "start_time": "2022-03-12T10:33:04.227Z"
   },
   {
    "duration": 12,
    "start_time": "2022-03-12T10:33:04.249Z"
   },
   {
    "duration": 48,
    "start_time": "2022-03-12T10:33:04.263Z"
   },
   {
    "duration": 12,
    "start_time": "2022-03-12T10:33:04.314Z"
   },
   {
    "duration": 12,
    "start_time": "2022-03-12T10:33:04.327Z"
   },
   {
    "duration": 12,
    "start_time": "2022-03-12T10:33:04.340Z"
   },
   {
    "duration": 644,
    "start_time": "2022-03-12T10:39:45.860Z"
   },
   {
    "duration": 10,
    "start_time": "2022-03-12T10:39:46.506Z"
   },
   {
    "duration": 3,
    "start_time": "2022-03-12T10:39:46.518Z"
   },
   {
    "duration": 11,
    "start_time": "2022-03-12T10:39:46.523Z"
   },
   {
    "duration": 4,
    "start_time": "2022-03-12T10:39:46.536Z"
   },
   {
    "duration": 21,
    "start_time": "2022-03-12T10:39:46.542Z"
   },
   {
    "duration": 40,
    "start_time": "2022-03-12T10:39:46.564Z"
   },
   {
    "duration": 12,
    "start_time": "2022-03-12T10:39:46.606Z"
   },
   {
    "duration": 6,
    "start_time": "2022-03-12T10:39:46.620Z"
   },
   {
    "duration": 10,
    "start_time": "2022-03-12T10:39:46.628Z"
   },
   {
    "duration": 17,
    "start_time": "2022-03-12T10:39:46.640Z"
   },
   {
    "duration": 19,
    "start_time": "2022-03-12T10:39:46.658Z"
   },
   {
    "duration": 45,
    "start_time": "2022-03-12T10:39:46.678Z"
   },
   {
    "duration": 23,
    "start_time": "2022-03-12T10:39:46.724Z"
   },
   {
    "duration": 36,
    "start_time": "2022-03-12T10:39:46.749Z"
   },
   {
    "duration": 29,
    "start_time": "2022-03-12T10:39:46.787Z"
   },
   {
    "duration": 15,
    "start_time": "2022-03-12T10:39:46.817Z"
   },
   {
    "duration": 14,
    "start_time": "2022-03-12T10:39:46.834Z"
   },
   {
    "duration": 19,
    "start_time": "2022-03-12T10:39:46.850Z"
   },
   {
    "duration": 50,
    "start_time": "2022-03-12T10:39:46.870Z"
   },
   {
    "duration": 13,
    "start_time": "2022-03-12T10:39:46.922Z"
   },
   {
    "duration": 18,
    "start_time": "2022-03-12T10:39:46.937Z"
   },
   {
    "duration": 12,
    "start_time": "2022-03-12T10:39:46.959Z"
   },
   {
    "duration": 39,
    "start_time": "2022-03-12T10:39:46.973Z"
   },
   {
    "duration": 12,
    "start_time": "2022-03-12T10:39:47.014Z"
   },
   {
    "duration": 683,
    "start_time": "2022-03-12T10:40:51.354Z"
   },
   {
    "duration": 10,
    "start_time": "2022-03-12T10:40:52.039Z"
   },
   {
    "duration": 5,
    "start_time": "2022-03-12T10:40:52.051Z"
   },
   {
    "duration": 14,
    "start_time": "2022-03-12T10:40:52.057Z"
   },
   {
    "duration": 29,
    "start_time": "2022-03-12T10:40:52.073Z"
   },
   {
    "duration": 22,
    "start_time": "2022-03-12T10:40:52.103Z"
   },
   {
    "duration": 15,
    "start_time": "2022-03-12T10:40:52.127Z"
   },
   {
    "duration": 11,
    "start_time": "2022-03-12T10:40:52.145Z"
   },
   {
    "duration": 6,
    "start_time": "2022-03-12T10:40:52.158Z"
   },
   {
    "duration": 5,
    "start_time": "2022-03-12T10:40:52.165Z"
   },
   {
    "duration": 4,
    "start_time": "2022-03-12T10:40:52.201Z"
   },
   {
    "duration": 15,
    "start_time": "2022-03-12T10:40:52.207Z"
   },
   {
    "duration": 34,
    "start_time": "2022-03-12T10:40:52.224Z"
   },
   {
    "duration": 47,
    "start_time": "2022-03-12T10:40:52.259Z"
   },
   {
    "duration": 36,
    "start_time": "2022-03-12T10:40:52.308Z"
   },
   {
    "duration": 20,
    "start_time": "2022-03-12T10:40:52.346Z"
   },
   {
    "duration": 35,
    "start_time": "2022-03-12T10:40:52.368Z"
   },
   {
    "duration": 14,
    "start_time": "2022-03-12T10:40:52.405Z"
   },
   {
    "duration": 24,
    "start_time": "2022-03-12T10:40:52.421Z"
   },
   {
    "duration": 19,
    "start_time": "2022-03-12T10:40:52.446Z"
   },
   {
    "duration": 12,
    "start_time": "2022-03-12T10:40:52.467Z"
   },
   {
    "duration": 39,
    "start_time": "2022-03-12T10:40:52.480Z"
   },
   {
    "duration": 12,
    "start_time": "2022-03-12T10:40:52.522Z"
   },
   {
    "duration": 12,
    "start_time": "2022-03-12T10:40:52.535Z"
   },
   {
    "duration": 11,
    "start_time": "2022-03-12T10:40:52.549Z"
   },
   {
    "duration": 676,
    "start_time": "2022-03-12T10:44:16.270Z"
   },
   {
    "duration": 9,
    "start_time": "2022-03-12T10:44:16.948Z"
   },
   {
    "duration": 6,
    "start_time": "2022-03-12T10:44:16.959Z"
   },
   {
    "duration": 19,
    "start_time": "2022-03-12T10:44:16.966Z"
   },
   {
    "duration": 6,
    "start_time": "2022-03-12T10:44:16.987Z"
   },
   {
    "duration": 24,
    "start_time": "2022-03-12T10:44:16.994Z"
   },
   {
    "duration": 16,
    "start_time": "2022-03-12T10:44:17.019Z"
   },
   {
    "duration": 11,
    "start_time": "2022-03-12T10:44:17.038Z"
   },
   {
    "duration": 10,
    "start_time": "2022-03-12T10:44:17.051Z"
   },
   {
    "duration": 5,
    "start_time": "2022-03-12T10:44:17.062Z"
   },
   {
    "duration": 34,
    "start_time": "2022-03-12T10:44:17.068Z"
   },
   {
    "duration": 14,
    "start_time": "2022-03-12T10:44:17.103Z"
   },
   {
    "duration": 32,
    "start_time": "2022-03-12T10:44:17.118Z"
   },
   {
    "duration": 21,
    "start_time": "2022-03-12T10:44:17.152Z"
   },
   {
    "duration": 56,
    "start_time": "2022-03-12T10:44:17.175Z"
   },
   {
    "duration": 17,
    "start_time": "2022-03-12T10:44:17.232Z"
   },
   {
    "duration": 13,
    "start_time": "2022-03-12T10:44:17.250Z"
   },
   {
    "duration": 12,
    "start_time": "2022-03-12T10:44:17.265Z"
   },
   {
    "duration": 39,
    "start_time": "2022-03-12T10:44:17.278Z"
   },
   {
    "duration": 19,
    "start_time": "2022-03-12T10:44:17.319Z"
   },
   {
    "duration": 11,
    "start_time": "2022-03-12T10:44:17.339Z"
   },
   {
    "duration": 19,
    "start_time": "2022-03-12T10:44:17.352Z"
   },
   {
    "duration": 35,
    "start_time": "2022-03-12T10:44:17.374Z"
   },
   {
    "duration": 11,
    "start_time": "2022-03-12T10:44:17.411Z"
   },
   {
    "duration": 12,
    "start_time": "2022-03-12T10:44:17.423Z"
   },
   {
    "duration": 21,
    "start_time": "2022-03-12T10:46:02.669Z"
   },
   {
    "duration": 650,
    "start_time": "2022-03-12T10:46:08.924Z"
   },
   {
    "duration": 10,
    "start_time": "2022-03-12T10:46:09.576Z"
   },
   {
    "duration": 12,
    "start_time": "2022-03-12T10:46:09.588Z"
   },
   {
    "duration": 11,
    "start_time": "2022-03-12T10:46:09.602Z"
   },
   {
    "duration": 5,
    "start_time": "2022-03-12T10:46:09.614Z"
   },
   {
    "duration": 21,
    "start_time": "2022-03-12T10:46:09.620Z"
   },
   {
    "duration": 14,
    "start_time": "2022-03-12T10:46:09.643Z"
   },
   {
    "duration": 11,
    "start_time": "2022-03-12T10:46:09.660Z"
   },
   {
    "duration": 34,
    "start_time": "2022-03-12T10:46:09.672Z"
   },
   {
    "duration": 4,
    "start_time": "2022-03-12T10:46:09.708Z"
   },
   {
    "duration": 5,
    "start_time": "2022-03-12T10:46:09.713Z"
   },
   {
    "duration": 17,
    "start_time": "2022-03-12T10:46:09.720Z"
   },
   {
    "duration": 31,
    "start_time": "2022-03-12T10:46:09.738Z"
   },
   {
    "duration": 44,
    "start_time": "2022-03-12T10:46:09.770Z"
   },
   {
    "duration": 36,
    "start_time": "2022-03-12T10:46:09.815Z"
   },
   {
    "duration": 18,
    "start_time": "2022-03-12T10:46:09.853Z"
   },
   {
    "duration": 37,
    "start_time": "2022-03-12T10:46:09.873Z"
   },
   {
    "duration": 13,
    "start_time": "2022-03-12T10:46:09.911Z"
   },
   {
    "duration": 21,
    "start_time": "2022-03-12T10:46:09.925Z"
   },
   {
    "duration": 19,
    "start_time": "2022-03-12T10:46:09.948Z"
   },
   {
    "duration": 33,
    "start_time": "2022-03-12T10:46:09.968Z"
   },
   {
    "duration": 18,
    "start_time": "2022-03-12T10:46:10.002Z"
   },
   {
    "duration": 14,
    "start_time": "2022-03-12T10:46:10.023Z"
   },
   {
    "duration": 21,
    "start_time": "2022-03-12T10:46:10.038Z"
   },
   {
    "duration": 12,
    "start_time": "2022-03-12T10:46:10.061Z"
   },
   {
    "duration": 636,
    "start_time": "2022-03-12T10:46:36.307Z"
   },
   {
    "duration": 10,
    "start_time": "2022-03-12T10:46:36.945Z"
   },
   {
    "duration": 9,
    "start_time": "2022-03-12T10:46:36.957Z"
   },
   {
    "duration": 11,
    "start_time": "2022-03-12T10:46:36.968Z"
   },
   {
    "duration": 4,
    "start_time": "2022-03-12T10:46:36.980Z"
   },
   {
    "duration": 24,
    "start_time": "2022-03-12T10:46:37.001Z"
   },
   {
    "duration": 16,
    "start_time": "2022-03-12T10:46:37.026Z"
   },
   {
    "duration": 12,
    "start_time": "2022-03-12T10:46:37.044Z"
   },
   {
    "duration": 6,
    "start_time": "2022-03-12T10:46:37.058Z"
   },
   {
    "duration": 39,
    "start_time": "2022-03-12T10:46:37.065Z"
   },
   {
    "duration": 4,
    "start_time": "2022-03-12T10:46:37.106Z"
   },
   {
    "duration": 16,
    "start_time": "2022-03-12T10:46:37.111Z"
   },
   {
    "duration": 33,
    "start_time": "2022-03-12T10:46:37.129Z"
   },
   {
    "duration": 55,
    "start_time": "2022-03-12T10:46:37.164Z"
   },
   {
    "duration": 39,
    "start_time": "2022-03-12T10:46:37.220Z"
   },
   {
    "duration": 18,
    "start_time": "2022-03-12T10:46:37.261Z"
   },
   {
    "duration": 32,
    "start_time": "2022-03-12T10:46:37.280Z"
   },
   {
    "duration": 13,
    "start_time": "2022-03-12T10:46:37.314Z"
   },
   {
    "duration": 20,
    "start_time": "2022-03-12T10:46:37.329Z"
   },
   {
    "duration": 21,
    "start_time": "2022-03-12T10:46:37.350Z"
   },
   {
    "duration": 38,
    "start_time": "2022-03-12T10:46:37.373Z"
   },
   {
    "duration": 20,
    "start_time": "2022-03-12T10:46:37.413Z"
   },
   {
    "duration": 12,
    "start_time": "2022-03-12T10:46:37.435Z"
   },
   {
    "duration": 12,
    "start_time": "2022-03-12T10:46:37.449Z"
   },
   {
    "duration": 12,
    "start_time": "2022-03-12T10:46:37.462Z"
   }
  ],
  "kernelspec": {
   "display_name": "Python 3 (ipykernel)",
   "language": "python",
   "name": "python3"
  },
  "language_info": {
   "codemirror_mode": {
    "name": "ipython",
    "version": 3
   },
   "file_extension": ".py",
   "mimetype": "text/x-python",
   "name": "python",
   "nbconvert_exporter": "python",
   "pygments_lexer": "ipython3",
   "version": "3.9.13"
  },
  "toc": {
   "base_numbering": 1,
   "nav_menu": {},
   "number_sections": true,
   "sideBar": true,
   "skip_h1_title": true,
   "title_cell": "",
   "title_sidebar": "Contents",
   "toc_cell": true,
   "toc_position": {
    "height": "calc(100% - 180px)",
    "left": "10px",
    "top": "150px",
    "width": "323.903px"
   },
   "toc_section_display": true,
   "toc_window_display": true
  }
 },
 "nbformat": 4,
 "nbformat_minor": 5
}
