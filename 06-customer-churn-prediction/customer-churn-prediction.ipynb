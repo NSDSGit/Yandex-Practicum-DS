{
 "cells": [
  {
   "cell_type": "markdown",
   "id": "1f92ae47",
   "metadata": {},
   "source": [
    "# Отток клиентов"
   ]
  },
  {
   "cell_type": "markdown",
   "id": "909e8f2a",
   "metadata": {},
   "source": [
    "Из «Бета-Банка» стали уходить клиенты. Каждый месяц. Немного, но заметно. Банковские маркетологи посчитали: сохранять текущих клиентов дешевле, чем привлекать новых.\n",
    "* Нужно спрогнозировать, уйдёт клиент из банка в ближайшее время или нет. Вам предоставлены исторические данные о поведении клиентов и расторжении договоров с банком.\n",
    "* Постройте модель с предельно большим значением *F1*-меры. Чтобы сдать проект успешно, нужно довести метрику до 0.59. Проверьте *F1*-меру на тестовой выборке самостоятельно.\n",
    "* Дополнительно измеряйте *AUC-ROC*, сравнивайте её значение с *F1*-мерой.\n",
    "\n",
    "Источник данных: [https://www.kaggle.com/barelydedicated/bank-customer-churn-modeling](https://www.kaggle.com/barelydedicated/bank-customer-churn-modeling)\""
   ]
  },
  {
   "cell_type": "markdown",
   "id": "b95dbef9",
   "metadata": {},
   "source": [
    "## Обзор и предподготовка данных"
   ]
  },
  {
   "cell_type": "code",
   "execution_count": 1,
   "id": "b06ebf07",
   "metadata": {},
   "outputs": [],
   "source": [
    "# импорт всего необходимого\n",
    "from scipy import stats as st\n",
    "import pandas as pd \n",
    "import numpy as np \n",
    "import matplotlib.pyplot as plt\n",
    "from sklearn.tree import DecisionTreeClassifier\n",
    "from sklearn.ensemble import RandomForestClassifier\n",
    "from sklearn.linear_model import LogisticRegression\n",
    "from sklearn.model_selection import train_test_split\n",
    "from sklearn.metrics import accuracy_score\n",
    "from sklearn.preprocessing import MinMaxScaler\n",
    "from sklearn.feature_selection import SelectKBest,chi2,RFE\n",
    "from sklearn.preprocessing import StandardScaler \n",
    "from sklearn.metrics import f1_score\n",
    "from sklearn.metrics import roc_auc_score"
   ]
  },
  {
   "cell_type": "code",
   "execution_count": 2,
   "id": "04d4b9df",
   "metadata": {
    "scrolled": true
   },
   "outputs": [
    {
     "name": "stdout",
     "output_type": "stream",
     "text": [
      "<class 'pandas.core.frame.DataFrame'>\n",
      "RangeIndex: 10000 entries, 0 to 9999\n",
      "Data columns (total 14 columns):\n",
      " #   Column           Non-Null Count  Dtype  \n",
      "---  ------           --------------  -----  \n",
      " 0   RowNumber        10000 non-null  int64  \n",
      " 1   CustomerId       10000 non-null  int64  \n",
      " 2   Surname          10000 non-null  object \n",
      " 3   CreditScore      10000 non-null  int64  \n",
      " 4   Geography        10000 non-null  object \n",
      " 5   Gender           10000 non-null  object \n",
      " 6   Age              10000 non-null  int64  \n",
      " 7   Tenure           9091 non-null   float64\n",
      " 8   Balance          10000 non-null  float64\n",
      " 9   NumOfProducts    10000 non-null  int64  \n",
      " 10  HasCrCard        10000 non-null  int64  \n",
      " 11  IsActiveMember   10000 non-null  int64  \n",
      " 12  EstimatedSalary  10000 non-null  float64\n",
      " 13  Exited           10000 non-null  int64  \n",
      "dtypes: float64(3), int64(8), object(3)\n",
      "memory usage: 1.1+ MB\n"
     ]
    },
    {
     "data": {
      "text/html": [
       "<div>\n",
       "<style scoped>\n",
       "    .dataframe tbody tr th:only-of-type {\n",
       "        vertical-align: middle;\n",
       "    }\n",
       "\n",
       "    .dataframe tbody tr th {\n",
       "        vertical-align: top;\n",
       "    }\n",
       "\n",
       "    .dataframe thead th {\n",
       "        text-align: right;\n",
       "    }\n",
       "</style>\n",
       "<table border=\"1\" class=\"dataframe\">\n",
       "  <thead>\n",
       "    <tr style=\"text-align: right;\">\n",
       "      <th></th>\n",
       "      <th>RowNumber</th>\n",
       "      <th>CustomerId</th>\n",
       "      <th>Surname</th>\n",
       "      <th>CreditScore</th>\n",
       "      <th>Geography</th>\n",
       "      <th>Gender</th>\n",
       "      <th>Age</th>\n",
       "      <th>Tenure</th>\n",
       "      <th>Balance</th>\n",
       "      <th>NumOfProducts</th>\n",
       "      <th>HasCrCard</th>\n",
       "      <th>IsActiveMember</th>\n",
       "      <th>EstimatedSalary</th>\n",
       "      <th>Exited</th>\n",
       "    </tr>\n",
       "  </thead>\n",
       "  <tbody>\n",
       "    <tr>\n",
       "      <th>0</th>\n",
       "      <td>1</td>\n",
       "      <td>15634602</td>\n",
       "      <td>Hargrave</td>\n",
       "      <td>619</td>\n",
       "      <td>France</td>\n",
       "      <td>Female</td>\n",
       "      <td>42</td>\n",
       "      <td>2.0</td>\n",
       "      <td>0.00</td>\n",
       "      <td>1</td>\n",
       "      <td>1</td>\n",
       "      <td>1</td>\n",
       "      <td>101348.88</td>\n",
       "      <td>1</td>\n",
       "    </tr>\n",
       "    <tr>\n",
       "      <th>1</th>\n",
       "      <td>2</td>\n",
       "      <td>15647311</td>\n",
       "      <td>Hill</td>\n",
       "      <td>608</td>\n",
       "      <td>Spain</td>\n",
       "      <td>Female</td>\n",
       "      <td>41</td>\n",
       "      <td>1.0</td>\n",
       "      <td>83807.86</td>\n",
       "      <td>1</td>\n",
       "      <td>0</td>\n",
       "      <td>1</td>\n",
       "      <td>112542.58</td>\n",
       "      <td>0</td>\n",
       "    </tr>\n",
       "    <tr>\n",
       "      <th>2</th>\n",
       "      <td>3</td>\n",
       "      <td>15619304</td>\n",
       "      <td>Onio</td>\n",
       "      <td>502</td>\n",
       "      <td>France</td>\n",
       "      <td>Female</td>\n",
       "      <td>42</td>\n",
       "      <td>8.0</td>\n",
       "      <td>159660.80</td>\n",
       "      <td>3</td>\n",
       "      <td>1</td>\n",
       "      <td>0</td>\n",
       "      <td>113931.57</td>\n",
       "      <td>1</td>\n",
       "    </tr>\n",
       "    <tr>\n",
       "      <th>3</th>\n",
       "      <td>4</td>\n",
       "      <td>15701354</td>\n",
       "      <td>Boni</td>\n",
       "      <td>699</td>\n",
       "      <td>France</td>\n",
       "      <td>Female</td>\n",
       "      <td>39</td>\n",
       "      <td>1.0</td>\n",
       "      <td>0.00</td>\n",
       "      <td>2</td>\n",
       "      <td>0</td>\n",
       "      <td>0</td>\n",
       "      <td>93826.63</td>\n",
       "      <td>0</td>\n",
       "    </tr>\n",
       "    <tr>\n",
       "      <th>4</th>\n",
       "      <td>5</td>\n",
       "      <td>15737888</td>\n",
       "      <td>Mitchell</td>\n",
       "      <td>850</td>\n",
       "      <td>Spain</td>\n",
       "      <td>Female</td>\n",
       "      <td>43</td>\n",
       "      <td>2.0</td>\n",
       "      <td>125510.82</td>\n",
       "      <td>1</td>\n",
       "      <td>1</td>\n",
       "      <td>1</td>\n",
       "      <td>79084.10</td>\n",
       "      <td>0</td>\n",
       "    </tr>\n",
       "  </tbody>\n",
       "</table>\n",
       "</div>"
      ],
      "text/plain": [
       "   RowNumber  CustomerId   Surname  CreditScore Geography  Gender  Age  \\\n",
       "0          1    15634602  Hargrave          619    France  Female   42   \n",
       "1          2    15647311      Hill          608     Spain  Female   41   \n",
       "2          3    15619304      Onio          502    France  Female   42   \n",
       "3          4    15701354      Boni          699    France  Female   39   \n",
       "4          5    15737888  Mitchell          850     Spain  Female   43   \n",
       "\n",
       "   Tenure    Balance  NumOfProducts  HasCrCard  IsActiveMember  \\\n",
       "0     2.0       0.00              1          1               1   \n",
       "1     1.0   83807.86              1          0               1   \n",
       "2     8.0  159660.80              3          1               0   \n",
       "3     1.0       0.00              2          0               0   \n",
       "4     2.0  125510.82              1          1               1   \n",
       "\n",
       "   EstimatedSalary  Exited  \n",
       "0        101348.88       1  \n",
       "1        112542.58       0  \n",
       "2        113931.57       1  \n",
       "3         93826.63       0  \n",
       "4         79084.10       0  "
      ]
     },
     "execution_count": 2,
     "metadata": {},
     "output_type": "execute_result"
    }
   ],
   "source": [
    "try:\n",
    "    df = pd.read_csv('/datasets/Churn.csv')\n",
    "except:\n",
    "    df = pd.read_csv('Churn.csv')\n",
    "df.info()\n",
    "df.head(5)"
   ]
  },
  {
   "cell_type": "markdown",
   "id": "de3af3d4",
   "metadata": {},
   "source": [
    "С виду всё прилично, но вот данные типа RowNumber, CustomerId и Surname нам точно не понадобятся"
   ]
  },
  {
   "cell_type": "code",
   "execution_count": 3,
   "id": "f45d9f67",
   "metadata": {
    "scrolled": false
   },
   "outputs": [],
   "source": [
    "df = df.drop(['RowNumber', 'CustomerId', 'Surname'], axis=1)"
   ]
  },
  {
   "cell_type": "markdown",
   "id": "dde5def6",
   "metadata": {},
   "source": [
    "По столбцу Tenure есть некоторые вопросы, нужно посмотреть из чего он состоит"
   ]
  },
  {
   "cell_type": "code",
   "execution_count": 4,
   "id": "11bda354",
   "metadata": {},
   "outputs": [
    {
     "data": {
      "text/plain": [
       "array([ 2.,  1.,  8.,  7.,  4.,  6.,  3., 10.,  5.,  9.,  0., nan])"
      ]
     },
     "execution_count": 4,
     "metadata": {},
     "output_type": "execute_result"
    }
   ],
   "source": [
    "df['Tenure'].unique()"
   ]
  },
  {
   "cell_type": "markdown",
   "id": "995354a5",
   "metadata": {},
   "source": [
    "Особых успехов это не принесло, присутствуют все года по порядку. Оставим пока как есть, если будут проблемы, то заменим на что-нибудь. Признак тут количественно-категориальный получается, лучше всего будет заменить на 11 "
   ]
  },
  {
   "cell_type": "code",
   "execution_count": 5,
   "id": "f21eb5b2",
   "metadata": {},
   "outputs": [],
   "source": [
    "df['Tenure'] = df['Tenure'].fillna(11)"
   ]
  },
  {
   "cell_type": "markdown",
   "id": "41e72022",
   "metadata": {},
   "source": [
    "Итого имеем несколько категориальных признаков и много количественных. Проведём кодирование категориальных признаков методом OHE и сразу же подстрахуемся от дамми-ловушки"
   ]
  },
  {
   "cell_type": "code",
   "execution_count": 6,
   "id": "bca36cba",
   "metadata": {},
   "outputs": [],
   "source": [
    "df_ohe = pd.get_dummies(df, drop_first=True)"
   ]
  },
  {
   "cell_type": "markdown",
   "id": "869a74a0",
   "metadata": {},
   "source": [
    "## Подготовка выборки"
   ]
  },
  {
   "cell_type": "markdown",
   "id": "84835e71",
   "metadata": {},
   "source": [
    "### Деление выборки"
   ]
  },
  {
   "cell_type": "markdown",
   "id": "b3c07a6a",
   "metadata": {},
   "source": [
    "Для начала разделим выборку на обучающую, валидационную и тестовую. Делить будем, согласно рекомендациям, по-классике, 3:1:1. Целевой признак у нас Exited."
   ]
  },
  {
   "cell_type": "code",
   "execution_count": 7,
   "id": "8cc05df4",
   "metadata": {},
   "outputs": [],
   "source": [
    "df_train, df_valid0 = train_test_split(df_ohe, test_size=0.40, random_state=12345, stratify = df_ohe['Exited']) # отделяем 40% проверочных данных\n",
    "df_valid, df_test = train_test_split(df_valid0, test_size=0.50, random_state=12345,stratify = df_valid0['Exited']) # # делим их на тестовые и валидационные"
   ]
  },
  {
   "cell_type": "code",
   "execution_count": 8,
   "id": "a43c1e02",
   "metadata": {},
   "outputs": [],
   "source": [
    "features_train = df_train.drop('Exited', axis=1)\n",
    "target_train = df_train['Exited']\n",
    "features_valid = df_valid.drop('Exited', axis=1)\n",
    "target_valid = df_valid['Exited']\n",
    "features_test = df_test.drop('Exited', axis=1)\n",
    "target_test = df_test['Exited']"
   ]
  },
  {
   "cell_type": "markdown",
   "id": "68966c0d",
   "metadata": {},
   "source": [
    "### Масштабирование признаков"
   ]
  },
  {
   "cell_type": "markdown",
   "id": "615ea41b",
   "metadata": {},
   "source": [
    "Так как в нашем наборе имеются количественные признаки с разным масштабом, нужно привести их к одному"
   ]
  },
  {
   "cell_type": "code",
   "execution_count": 9,
   "id": "2eba192a",
   "metadata": {},
   "outputs": [
    {
     "data": {
      "text/plain": [
       "StandardScaler()"
      ]
     },
     "execution_count": 9,
     "metadata": {},
     "output_type": "execute_result"
    }
   ],
   "source": [
    "numeric = ['CreditScore', 'Age', 'Tenure', 'Balance', 'NumOfProducts', 'EstimatedSalary']\n",
    "\n",
    "scaler = StandardScaler()\n",
    "scaler.fit(features_train[numeric])\n",
    "#features_train[numeric] = scaler.transform(features_train[numeric])\n",
    "#features_valid[numeric] = scaler.transform(features_valid[numeric])\n",
    "#features_test[numeric] = scaler.transform(features_test[numeric])"
   ]
  },
  {
   "cell_type": "markdown",
   "id": "dca59a83",
   "metadata": {},
   "source": [
    "От масштабирования в последствии пришлось отказаться, т.к. на F1 практически не влияет в случае модели случайного леса, но без масштабирования подрастает немного AUC-ROC"
   ]
  },
  {
   "cell_type": "markdown",
   "id": "346d138e",
   "metadata": {},
   "source": [
    "### Дисбаланс классов"
   ]
  },
  {
   "cell_type": "code",
   "execution_count": 10,
   "id": "221be38b",
   "metadata": {
    "scrolled": true
   },
   "outputs": [
    {
     "data": {
      "text/plain": [
       "0    7963\n",
       "1    2037\n",
       "Name: Exited, dtype: int64"
      ]
     },
     "metadata": {},
     "output_type": "display_data"
    },
    {
     "data": {
      "image/png": "[encoded data removed]",
      "text/plain": [
       "<Figure size 640x480 with 1 Axes>"
      ]
     },
     "metadata": {},
     "output_type": "display_data"
    }
   ],
   "source": [
    "df['Exited'].value_counts().plot(kind=\"bar\")\n",
    "display(df['Exited'].value_counts())"
   ]
  },
  {
   "cell_type": "markdown",
   "id": "5b0fe67b",
   "metadata": {},
   "source": [
    "Довольно сильный дисбаланс наблюдается, модель научится предсказывать не уход клиентов, а их неуход. Будем делать на него поправку"
   ]
  },
  {
   "cell_type": "markdown",
   "id": "d45c57ef",
   "metadata": {},
   "source": [
    "## Выбор модели"
   ]
  },
  {
   "cell_type": "markdown",
   "id": "a5b59acf",
   "metadata": {},
   "source": [
    "### Случайный лес с дисбалансом классов\n",
    "\n",
    "Лес в среднем лучше всех остальных моделей, поэтому предлагаю использовать его в данном проекте. Проверим данную модель. Будем изменять гиперпараметры в цикле. Оценивать качество будем по F1 и AUC-ROC. Посмотрим как будет лучше. Сначала подберём оптимальную глубину леса"
   ]
  },
  {
   "cell_type": "code",
   "execution_count": 11,
   "id": "efbfaf25",
   "metadata": {},
   "outputs": [
    {
     "name": "stdout",
     "output_type": "stream",
     "text": [
      "F1: 0.0 AUC-ROC: 0.8047152120898611 max_depth: 1\n",
      "F1: 0.17002237136465323 AUC-ROC: 0.82398204256577 max_depth: 2\n",
      "F1: 0.25423728813559326 AUC-ROC: 0.8407193750615826 max_depth: 3\n",
      "F1: 0.5094017094017094 AUC-ROC: 0.8568947679574342 max_depth: 4\n",
      "F1: 0.5532591414944357 AUC-ROC: 0.862420250763622 max_depth: 5\n",
      "F1: 0.5463258785942493 AUC-ROC: 0.8629513991526259 max_depth: 6\n",
      "F1: 0.5669781931464174 AUC-ROC: 0.8667448763424968 max_depth: 7\n",
      "F1: 0.5745341614906833 AUC-ROC: 0.8636788415114789 max_depth: 8\n",
      "F1: 0.5758513931888545 AUC-ROC: 0.8654385592176569 max_depth: 9\n",
      "F1: 0.5972850678733032 AUC-ROC: 0.870555288698394 max_depth: 10\n",
      "F1: 0.6026986506746627 AUC-ROC: 0.8615134496009459 max_depth: 11\n",
      "F1: 0.5924812030075188 AUC-ROC: 0.8626896738594936 max_depth: 12\n",
      "F1: 0.5937031484257871 AUC-ROC: 0.862836701891812 max_depth: 13\n",
      "F1: 0.6144756277695717 AUC-ROC: 0.8494917910631589 max_depth: 14\n",
      "F1: 0.6046511627906976 AUC-ROC: 0.8574874987683516 max_depth: 15\n",
      "F1: 0.611111111111111 AUC-ROC: 0.8548987277071632 max_depth: 16\n",
      "F1: 0.6 AUC-ROC: 0.8537086474036849 max_depth: 17\n",
      "F1: 0.6029411764705882 AUC-ROC: 0.8514100835057641 max_depth: 18\n",
      "F1: 0.6122448979591837 AUC-ROC: 0.8516071472558873 max_depth: 19\n",
      "F1: 0.6023391812865497 AUC-ROC: 0.8522075758695438 max_depth: 20\n",
      "F1: 0.5931445603576752 AUC-ROC: 0.8416446509508326 max_depth: 21\n",
      "F1: 0.6079295154185022 AUC-ROC: 0.8523061077446052 max_depth: 22\n",
      "F1: 0.5925925925925926 AUC-ROC: 0.8525000923736329 max_depth: 23\n",
      "F1: 0.5937031484257871 AUC-ROC: 0.849112289388117 max_depth: 24\n",
      "F1: 0.5855855855855856 AUC-ROC: 0.8489606426741552 max_depth: 25\n",
      "F1: 0.5855855855855856 AUC-ROC: 0.8489606426741552 max_depth: 26\n",
      "F1: 0.5855855855855856 AUC-ROC: 0.8489606426741552 max_depth: 27\n",
      "F1: 0.5855855855855856 AUC-ROC: 0.8489606426741552 max_depth: 28\n",
      "F1: 0.5855855855855856 AUC-ROC: 0.8489606426741552 max_depth: 29\n",
      "F1 наилучшей модели на валидационной выборке: 0.6144756277695717 max_depth: 14\n"
     ]
    }
   ],
   "source": [
    "best_result = 0\n",
    "for depth in range(1, 30):\n",
    "    model = RandomForestClassifier(random_state=12345, n_estimators=20, max_depth=depth) \n",
    "    model.fit(features_train, target_train) \n",
    "    predicted_valid = model.predict(features_valid)\n",
    "    probabilities_valid = model.predict_proba(features_valid)\n",
    "    probabilities_one_valid = probabilities_valid[:, 1]\n",
    "    f1 = f1_score(target_valid, predicted_valid)\n",
    "    auc_roc = roc_auc_score(target_valid, probabilities_one_valid)\n",
    "    print('F1:', f1, 'AUC-ROC:', auc_roc, 'max_depth:', depth)\n",
    "    if f1 > best_result:\n",
    "        best_result = f1\n",
    "        max_depth = depth\n",
    "print(\"F1 наилучшей модели на валидационной выборке:\", best_result, 'max_depth:', max_depth)"
   ]
  },
  {
   "cell_type": "markdown",
   "id": "f35978f7",
   "metadata": {},
   "source": [
    "F1 перестаёт расти при достижении глубины леса 14, при этом AUC-ROC наибольший при глубине леса 14. Попробуем подобрать количество деревьев"
   ]
  },
  {
   "cell_type": "code",
   "execution_count": 12,
   "id": "92551ac9",
   "metadata": {},
   "outputs": [
    {
     "name": "stdout",
     "output_type": "stream",
     "text": [
      "F1: 0.5269607843137255 AUC-ROC: 0.7037169610306434 n_estimators: 1\n",
      "F1: 0.45775729646697383 AUC-ROC: 0.7499946115380826 n_estimators: 2\n",
      "F1: 0.56760374832664 AUC-ROC: 0.7778660459158538 n_estimators: 3\n",
      "F1: 0.5392592592592592 AUC-ROC: 0.7942192580549808 n_estimators: 4\n",
      "F1: 0.5746164574616458 AUC-ROC: 0.8148070314809341 n_estimators: 5\n",
      "F1: 0.5784172661870504 AUC-ROC: 0.8178461240023649 n_estimators: 6\n",
      "F1: 0.6049723756906077 AUC-ROC: 0.8194387993891024 n_estimators: 7\n",
      "F1: 0.6107954545454546 AUC-ROC: 0.8255200635530594 n_estimators: 8\n",
      "F1: 0.6136363636363636 AUC-ROC: 0.8277693615134496 n_estimators: 9\n",
      "F1: 0.6118326118326118 AUC-ROC: 0.8340430707458864 n_estimators: 10\n",
      "F1: 0.6228571428571428 AUC-ROC: 0.8344525938516111 n_estimators: 11\n",
      "F1: 0.618978102189781 AUC-ROC: 0.8361407219923145 n_estimators: 12\n",
      "F1: 0.6156069364161851 AUC-ROC: 0.8381898770814858 n_estimators: 13\n",
      "F1: 0.6176470588235294 AUC-ROC: 0.8389434919696522 n_estimators: 14\n",
      "F1: 0.6149341142020497 AUC-ROC: 0.8421042097743621 n_estimators: 15\n",
      "F1: 0.6106194690265487 AUC-ROC: 0.8419109949256085 n_estimators: 16\n",
      "F1: 0.6135693215339233 AUC-ROC: 0.8428940043354025 n_estimators: 17\n",
      "F1: 0.6106194690265487 AUC-ROC: 0.8444897588432358 n_estimators: 18\n",
      "F1: 0.609720176730486 AUC-ROC: 0.8480823233816139 n_estimators: 19\n",
      "F1: 0.6144756277695717 AUC-ROC: 0.8494917910631589 n_estimators: 20\n",
      "F1: 0.6106194690265487 AUC-ROC: 0.8505910372943148 n_estimators: 21\n",
      "F1: 0.6126656848306332 AUC-ROC: 0.8511114087594838 n_estimators: 22\n",
      "F1: 0.6147058823529411 AUC-ROC: 0.8526563577692383 n_estimators: 23\n",
      "F1: 0.6067746686303388 AUC-ROC: 0.8528472632771702 n_estimators: 24\n",
      "F1: 0.6053412462908012 AUC-ROC: 0.8544222337176076 n_estimators: 25\n",
      "F1: 0.6076696165191741 AUC-ROC: 0.8563351376982955 n_estimators: 26\n",
      "F1: 0.606508875739645 AUC-ROC: 0.8563705475908957 n_estimators: 27\n",
      "F1: 0.606508875739645 AUC-ROC: 0.8583296383880185 n_estimators: 28\n",
      "F1: 0.6076696165191741 AUC-ROC: 0.8596806027687457 n_estimators: 29\n",
      "F1: 0.6133333333333334 AUC-ROC: 0.8596744445265544 n_estimators: 30\n",
      "F1: 0.606508875739645 AUC-ROC: 0.8594781505567052 n_estimators: 31\n",
      "F1: 0.6053412462908012 AUC-ROC: 0.8599708099320131 n_estimators: 32\n",
      "F1: 0.6056129985228951 AUC-ROC: 0.861616600157651 n_estimators: 33\n",
      "F1: 0.6041055718475072 AUC-ROC: 0.8615634853187505 n_estimators: 34\n",
      "F1: 0.6115214180206795 AUC-ROC: 0.8612825155187702 n_estimators: 35\n",
      "F1: 0.6142433234421365 AUC-ROC: 0.8603372253423983 n_estimators: 36\n",
      "F1: 0.6133333333333334 AUC-ROC: 0.8606012599763524 n_estimators: 37\n",
      "F1: 0.6151560178306092 AUC-ROC: 0.8600616440043354 n_estimators: 38\n",
      "F1: 0.6149253731343283 AUC-ROC: 0.8611193221006995 n_estimators: 39\n",
      "F1: 0.61698956780924 AUC-ROC: 0.8607698418563405 n_estimators: 40\n",
      "F1: 0.6140089418777944 AUC-ROC: 0.8616481611488817 n_estimators: 41\n",
      "F1: 0.6172106824925816 AUC-ROC: 0.8612979111242487 n_estimators: 42\n",
      "F1: 0.6218236173393124 AUC-ROC: 0.8613671913489013 n_estimators: 43\n",
      "F1: 0.6167664670658682 AUC-ROC: 0.8623086326239038 n_estimators: 44\n",
      "F1: 0.6186186186186186 AUC-ROC: 0.8624556606562224 n_estimators: 45\n",
      "F1: 0.6188340807174888 AUC-ROC: 0.8637866107498275 n_estimators: 46\n",
      "F1: 0.6153846153846154 AUC-ROC: 0.8638820635037935 n_estimators: 47\n",
      "F1: 0.6195488721804511 AUC-ROC: 0.8642677234210266 n_estimators: 48\n",
      "F1: 0.6186186186186186 AUC-ROC: 0.8634971733668341 n_estimators: 49\n",
      "F1 наилучшей модели на валидационной выборке: 0.6228571428571428 n_estimators 11\n"
     ]
    }
   ],
   "source": [
    "best_result1 = 0\n",
    "for est in range(1, 50, 1):\n",
    "    model = RandomForestClassifier(random_state=12345, n_estimators=est, max_depth=14) \n",
    "    model.fit(features_train, target_train) \n",
    "    predicted_valid = model.predict(features_valid)\n",
    "    probabilities_valid = model.predict_proba(features_valid)\n",
    "    probabilities_one_valid = probabilities_valid[:, 1]\n",
    "    f1 = f1_score(target_valid, predicted_valid)\n",
    "    auc_roc = roc_auc_score(target_valid, probabilities_one_valid)\n",
    "    print('F1:', f1, 'AUC-ROC:', auc_roc, 'n_estimators:', est)\n",
    "    if f1 > best_result1:\n",
    "        best_result1 = f1\n",
    "        n_estimators = est\n",
    "print(\"F1 наилучшей модели на валидационной выборке:\", best_result1, \"n_estimators\", n_estimators)"
   ]
  },
  {
   "cell_type": "markdown",
   "id": "17ecafb2",
   "metadata": {},
   "source": [
    "Лучший результат на валидационных данных достигается при глубине 14 и количестве деревьев 11"
   ]
  },
  {
   "cell_type": "markdown",
   "id": "656d6508",
   "metadata": {},
   "source": [
    "### Случайный лес с балансировкой классов"
   ]
  },
  {
   "cell_type": "markdown",
   "id": "43628f1d",
   "metadata": {},
   "source": [
    "Далее посмотрим как рабатает эта же модель со взвешиванием классов. Будем искать лучшую модель при изменении гиперпараметра глубины"
   ]
  },
  {
   "cell_type": "code",
   "execution_count": 13,
   "id": "cd98f368",
   "metadata": {
    "scrolled": true
   },
   "outputs": [
    {
     "name": "stdout",
     "output_type": "stream",
     "text": [
      "F1: 0.5444444444444444 AUC-ROC: 0.8080275766085329 max_depth: 1\n",
      "F1: 0.5706106870229007 AUC-ROC: 0.8261004778795941 max_depth: 2\n",
      "F1: 0.5826484018264839 AUC-ROC: 0.8436399214208296 max_depth: 3\n",
      "F1: 0.6047904191616766 AUC-ROC: 0.8560033624002364 max_depth: 4\n",
      "F1: 0.6167846309403437 AUC-ROC: 0.8619583825992708 max_depth: 5\n",
      "F1: 0.6187961985216474 AUC-ROC: 0.8614049105823234 max_depth: 6\n",
      "F1: 0.6319148936170214 AUC-ROC: 0.8679880714848754 max_depth: 7\n",
      "F1: 0.6340933767643866 AUC-ROC: 0.861587348507242 max_depth: 8\n",
      "F1: 0.6406429391504018 AUC-ROC: 0.8690857781554833 max_depth: 9\n",
      "F1: 0.6307151230949589 AUC-ROC: 0.8652615097546555 max_depth: 10\n",
      "F1: 0.6362484157160965 AUC-ROC: 0.8655216954872401 max_depth: 11\n",
      "F1: 0.6042216358839051 AUC-ROC: 0.8500137020888758 max_depth: 12\n",
      "F1: 0.6065573770491803 AUC-ROC: 0.8601332335698098 max_depth: 13\n",
      "F1: 0.5766016713091922 AUC-ROC: 0.8524677616021283 max_depth: 14\n",
      "F1: 0.590778097982709 AUC-ROC: 0.8489506355305942 max_depth: 15\n",
      "F1: 0.5911047345767576 AUC-ROC: 0.8481893228396887 max_depth: 16\n",
      "F1: 0.573529411764706 AUC-ROC: 0.85061567026308 max_depth: 17\n",
      "F1: 0.5688888888888888 AUC-ROC: 0.8472702051926297 max_depth: 18\n",
      "F1: 0.5611940298507462 AUC-ROC: 0.8482539843826977 max_depth: 19\n",
      "F1: 0.5623100303951367 AUC-ROC: 0.852461603359937 max_depth: 20\n",
      "F1: 0.5614567526555387 AUC-ROC: 0.8435737203172726 max_depth: 21\n",
      "F1: 0.5593984962406015 AUC-ROC: 0.8514785939501428 max_depth: 22\n",
      "F1: 0.5705705705705705 AUC-ROC: 0.8491384619174303 max_depth: 23\n",
      "F1: 0.5633383010432191 AUC-ROC: 0.8521282885013302 max_depth: 24\n",
      "F1: 0.5765230312035661 AUC-ROC: 0.8493216696226229 max_depth: 25\n",
      "F1: 0.5794947994056464 AUC-ROC: 0.8489383190462115 max_depth: 26\n",
      "F1: 0.5794947994056464 AUC-ROC: 0.8489383190462115 max_depth: 27\n",
      "F1: 0.5794947994056464 AUC-ROC: 0.8489383190462115 max_depth: 28\n",
      "F1: 0.5794947994056464 AUC-ROC: 0.8489383190462115 max_depth: 29\n",
      "F1 наилучшей модели на валидационной выборке: 0.6406429391504018 max_depth: 9\n"
     ]
    }
   ],
   "source": [
    "best_result2 = 0\n",
    "for depth in range(1, 30):\n",
    "    model = RandomForestClassifier(class_weight = 'balanced', random_state=12345, n_estimators=20, max_depth=depth) \n",
    "    model.fit(features_train, target_train) \n",
    "    predicted_valid = model.predict(features_valid)\n",
    "    probabilities_valid = model.predict_proba(features_valid)\n",
    "    probabilities_one_valid = probabilities_valid[:, 1]\n",
    "    f1 = f1_score(target_valid, predicted_valid)\n",
    "    auc_roc = roc_auc_score(target_valid, probabilities_one_valid)\n",
    "    print('F1:', f1, 'AUC-ROC:', auc_roc, 'max_depth:', depth)\n",
    "    if f1 > best_result2:\n",
    "        best_result2 = f1\n",
    "        max_depth = depth\n",
    "print(\"F1 наилучшей модели на валидационной выборке:\", best_result2, 'max_depth:', max_depth)"
   ]
  },
  {
   "cell_type": "markdown",
   "id": "8fb05d2d",
   "metadata": {},
   "source": [
    "Здесь получили результаты лучше чем на модели с дисбалансом. Лучшая F1 на глубине 9. Далее также подберём оптимальное количество деревьев"
   ]
  },
  {
   "cell_type": "code",
   "execution_count": 14,
   "id": "3fa8bda0",
   "metadata": {},
   "outputs": [
    {
     "name": "stdout",
     "output_type": "stream",
     "text": [
      "F1: 0.6480836236933798 AUC-ROC: 0.8730986427234211 n_estimators: 100\n",
      "F1: 0.6464410735122521 AUC-ROC: 0.8725105305941472 n_estimators: 105\n",
      "F1: 0.649592549476135 AUC-ROC: 0.8724504877327817 n_estimators: 110\n",
      "F1: 0.649592549476135 AUC-ROC: 0.8723981426741549 n_estimators: 115\n",
      "F1: 0.6480186480186481 AUC-ROC: 0.872569033894965 n_estimators: 120\n",
      "F1: 0.645760743321719 AUC-ROC: 0.8727430042368708 n_estimators: 125\n",
      "F1: 0.6535796766743649 AUC-ROC: 0.8727891910533058 n_estimators: 130\n",
      "F1: 0.6481481481481481 AUC-ROC: 0.8724766602620947 n_estimators: 135\n",
      "F1: 0.6465816917728853 AUC-ROC: 0.8723273228889548 n_estimators: 140\n",
      "F1: 0.645760743321719 AUC-ROC: 0.8727183712681053 n_estimators: 145\n",
      "F1: 0.6465116279069767 AUC-ROC: 0.8730001108483595 n_estimators: 150\n",
      "F1: 0.6450116009280743 AUC-ROC: 0.8726521701645483 n_estimators: 155\n",
      "F1: 0.6450116009280743 AUC-ROC: 0.8723273228889546 n_estimators: 160\n",
      "F1: 0.6456876456876457 AUC-ROC: 0.8727537811607056 n_estimators: 165\n",
      "F1: 0.6448598130841121 AUC-ROC: 0.872567494334417 n_estimators: 170\n",
      "F1: 0.649532710280374 AUC-ROC: 0.8728215218248104 n_estimators: 175\n",
      "F1: 0.6456876456876457 AUC-ROC: 0.8727476229185142 n_estimators: 180\n",
      "F1: 0.6480836236933798 AUC-ROC: 0.8724535668538771 n_estimators: 185\n",
      "F1: 0.6488372093023256 AUC-ROC: 0.8726321558774264 n_estimators: 190\n",
      "F1: 0.6488991888760138 AUC-ROC: 0.8725336240023648 n_estimators: 195\n",
      "F1 наилучшей модели на валидационной выборке: 0.6535796766743649 n_estimators 130\n"
     ]
    }
   ],
   "source": [
    "best_result3 = 0\n",
    "for est in range(100, 200, 5):\n",
    "    model = RandomForestClassifier(class_weight = 'balanced', random_state=12345, n_estimators=est, max_depth=9) \n",
    "    model.fit(features_train, target_train) \n",
    "    predicted_valid = model.predict(features_valid)\n",
    "    probabilities_valid = model.predict_proba(features_valid)\n",
    "    probabilities_one_valid = probabilities_valid[:, 1]\n",
    "    f1 = f1_score(target_valid, predicted_valid)\n",
    "    auc_roc = roc_auc_score(target_valid, probabilities_one_valid)\n",
    "    print('F1:', f1, 'AUC-ROC:', auc_roc, 'n_estimators:', est)\n",
    "    if f1 > best_result3:\n",
    "        best_result3 = f1\n",
    "        n_estimators = est\n",
    "print(\"F1 наилучшей модели на валидационной выборке:\", best_result3, \"n_estimators\", n_estimators)"
   ]
  },
  {
   "cell_type": "markdown",
   "id": "a8d8b4da",
   "metadata": {},
   "source": [
    "Здесь, с предварительно подобранной глубиной деревьев, результаты значительно лучше. Обе метрики подросли. Увеличение глубины сверх расчётной - пользы не приносит"
   ]
  },
  {
   "cell_type": "markdown",
   "id": "39b126a6",
   "metadata": {},
   "source": [
    "Итак, наивысшее качество модели достигается при использовании модели с балансировкой, глубиной 9 и количеством деревьев 130"
   ]
  },
  {
   "cell_type": "markdown",
   "id": "21fe7a40",
   "metadata": {},
   "source": [
    "### Решающее дерево с дизбалансом классов "
   ]
  },
  {
   "cell_type": "markdown",
   "id": "1e704e7a",
   "metadata": {},
   "source": [
    "Теперь посмотрим на решающее дерево. Будем изменять гиперпараметры в цикле. Оценивать качество будем по F1 и AUC-ROC. Посмотрим как будет лучше. Подберём оптимальную глубину леса"
   ]
  },
  {
   "cell_type": "code",
   "execution_count": 15,
   "id": "5c5560b9",
   "metadata": {
    "scrolled": true
   },
   "outputs": [
    {
     "name": "stdout",
     "output_type": "stream",
     "text": [
      "F1: 0.0 AUC-ROC: 0.697507143560942 max_depth: 1\n",
      "F1: 0.5203488372093023 AUC-ROC: 0.7539597497290373 max_depth: 2\n",
      "F1: 0.5375722543352601 AUC-ROC: 0.8032503202285939 max_depth: 3\n",
      "F1: 0.5206349206349208 AUC-ROC: 0.8198921999704405 max_depth: 4\n",
      "F1: 0.5454545454545455 AUC-ROC: 0.849793544930535 max_depth: 5\n",
      "F1: 0.5787878787878787 AUC-ROC: 0.841197408611686 max_depth: 6\n",
      "F1: 0.5928057553956835 AUC-ROC: 0.8246278882155879 max_depth: 7\n",
      "F1: 0.5584218512898331 AUC-ROC: 0.8186212927382008 max_depth: 8\n",
      "F1: 0.5641748942172073 AUC-ROC: 0.8010148783131343 max_depth: 9\n",
      "F1: 0.575070821529745 AUC-ROC: 0.7950436927283475 max_depth: 10\n",
      "F1: 0.5540540540540541 AUC-ROC: 0.7658320708936841 max_depth: 11\n",
      "F1: 0.544973544973545 AUC-ROC: 0.738497943147108 max_depth: 12\n",
      "F1: 0.5534105534105533 AUC-ROC: 0.7265932912109567 max_depth: 13\n",
      "F1: 0.5179677819083024 AUC-ROC: 0.7043227781062174 max_depth: 14\n",
      "F1: 0.5321782178217822 AUC-ROC: 0.6990990491674057 max_depth: 15\n",
      "F1: 0.5236363636363637 AUC-ROC: 0.6922803355010347 max_depth: 16\n",
      "F1: 0.5265700483091788 AUC-ROC: 0.7013260234998522 max_depth: 17\n",
      "F1: 0.5325301204819277 AUC-ROC: 0.7036707742142083 max_depth: 18\n",
      "F1: 0.525179856115108 AUC-ROC: 0.7002745036456793 max_depth: 19\n",
      "F1: 0.508833922261484 AUC-ROC: 0.6956211818898412 max_depth: 20\n",
      "F1: 0.5187793427230046 AUC-ROC: 0.7010442839195978 max_depth: 21\n",
      "F1: 0.5287896592244419 AUC-ROC: 0.7067044782737216 max_depth: 22\n",
      "F1: 0.5281690140845071 AUC-ROC: 0.7069538870824712 max_depth: 23\n",
      "F1: 0.5210280373831775 AUC-ROC: 0.7026184845797615 max_depth: 24\n",
      "F1: 0.5210280373831775 AUC-ROC: 0.7026184845797615 max_depth: 25\n",
      "F1: 0.5210280373831775 AUC-ROC: 0.7026184845797615 max_depth: 26\n",
      "F1: 0.5210280373831775 AUC-ROC: 0.7026184845797615 max_depth: 27\n",
      "F1: 0.5210280373831775 AUC-ROC: 0.7026184845797615 max_depth: 28\n",
      "F1: 0.5210280373831775 AUC-ROC: 0.7026184845797615 max_depth: 29\n",
      "F1 наилучшей модели на валидационной выборке: 0.5928057553956835 max_depth: 7\n"
     ]
    }
   ],
   "source": [
    "best_result4 = 0\n",
    "for depth in range(1, 30):\n",
    "    model = DecisionTreeClassifier(random_state=12345, max_depth=depth) \n",
    "    model.fit(features_train, target_train) \n",
    "    predicted_valid = model.predict(features_valid)\n",
    "    probabilities_valid = model.predict_proba(features_valid)\n",
    "    probabilities_one_valid = probabilities_valid[:, 1]\n",
    "    f1 = f1_score(target_valid, predicted_valid)\n",
    "    auc_roc = roc_auc_score(target_valid, probabilities_one_valid)\n",
    "    print('F1:', f1, 'AUC-ROC:', auc_roc, 'max_depth:', depth)\n",
    "    if f1 > best_result4:\n",
    "        best_result4 = f1\n",
    "        max_depth = depth\n",
    "print(\"F1 наилучшей модели на валидационной выборке:\", best_result4, 'max_depth:', max_depth)"
   ]
  },
  {
   "cell_type": "markdown",
   "id": "2d78368e",
   "metadata": {},
   "source": [
    "Тут дела обстоят значительно хуже, чем у случайного леса. Посмотрим при балансировке классов"
   ]
  },
  {
   "cell_type": "markdown",
   "id": "89d3684d",
   "metadata": {},
   "source": [
    "### Решающее дерево с балансировкой классов классов "
   ]
  },
  {
   "cell_type": "code",
   "execution_count": 16,
   "id": "f29cc6ba",
   "metadata": {
    "scrolled": true
   },
   "outputs": [
    {
     "name": "stdout",
     "output_type": "stream",
     "text": [
      "F1: 0.4846526655896607 AUC-ROC: 0.7011897723913686 max_depth: 1\n",
      "F1: 0.49801113762927607 AUC-ROC: 0.7475905877426348 max_depth: 2\n",
      "F1: 0.5207100591715977 AUC-ROC: 0.7886753005222189 max_depth: 3\n",
      "F1: 0.560931899641577 AUC-ROC: 0.8220206424278255 max_depth: 4\n",
      "F1: 0.5546492659053834 AUC-ROC: 0.8413513646664694 max_depth: 5\n",
      "F1: 0.575925925925926 AUC-ROC: 0.8270118977239136 max_depth: 6\n",
      "F1: 0.5740236148955494 AUC-ROC: 0.817380406936644 max_depth: 7\n",
      "F1: 0.5500910746812386 AUC-ROC: 0.7997755320721254 max_depth: 8\n",
      "F1: 0.5403846153846154 AUC-ROC: 0.7821514127007587 max_depth: 9\n",
      "F1: 0.5403225806451614 AUC-ROC: 0.76995655360134 max_depth: 10\n",
      "F1: 0.5303186022610483 AUC-ROC: 0.7471556618878707 max_depth: 11\n",
      "F1: 0.5114345114345114 AUC-ROC: 0.7280581830722238 max_depth: 12\n",
      "F1: 0.5129310344827586 AUC-ROC: 0.7139504199921174 max_depth: 13\n",
      "F1: 0.5105438401775806 AUC-ROC: 0.7110129384668441 max_depth: 14\n",
      "F1: 0.5085518814139109 AUC-ROC: 0.7036176593753078 max_depth: 15\n",
      "F1: 0.5137614678899083 AUC-ROC: 0.7083310239925116 max_depth: 16\n",
      "F1: 0.5059101654846336 AUC-ROC: 0.695852115972017 max_depth: 17\n",
      "F1: 0.4921592279855247 AUC-ROC: 0.6862722004630998 max_depth: 18\n",
      "F1: 0.4988009592326139 AUC-ROC: 0.6897893265346339 max_depth: 19\n",
      "F1: 0.5012106537530266 AUC-ROC: 0.6907469331953888 max_depth: 20\n",
      "F1: 0.5 AUC-ROC: 0.689324379249187 max_depth: 21\n",
      "F1: 0.5078979343863912 AUC-ROC: 0.6924350613360922 max_depth: 22\n",
      "F1: 0.5072815533980581 AUC-ROC: 0.692890771258252 max_depth: 23\n",
      "F1: 0.5078597339782346 AUC-ROC: 0.6930023893979703 max_depth: 24\n",
      "F1: 0.5030525030525032 AUC-ROC: 0.6893051347423391 max_depth: 25\n",
      "F1: 0.5 AUC-ROC: 0.6860874531973594 max_depth: 26\n",
      "F1: 0.5055214723926379 AUC-ROC: 0.6894814144250665 max_depth: 27\n",
      "F1: 0.49318463444857497 AUC-ROC: 0.6810584786678491 max_depth: 28\n",
      "F1: 0.49318463444857497 AUC-ROC: 0.6810584786678491 max_depth: 29\n",
      "F1 наилучшей модели на валидационной выборке: 0.575925925925926 max_depth: 6\n"
     ]
    }
   ],
   "source": [
    "best_result5 = 0\n",
    "for depth in range(1, 30):\n",
    "    model = DecisionTreeClassifier(class_weight = 'balanced', random_state=12345, max_depth=depth, ) \n",
    "    model.fit(features_train, target_train) \n",
    "    predicted_valid = model.predict(features_valid)\n",
    "    probabilities_valid = model.predict_proba(features_valid)\n",
    "    probabilities_one_valid = probabilities_valid[:, 1]\n",
    "    f1 = f1_score(target_valid, predicted_valid)\n",
    "    auc_roc = roc_auc_score(target_valid, probabilities_one_valid)\n",
    "    print('F1:', f1, 'AUC-ROC:', auc_roc, 'max_depth:', depth)\n",
    "    if f1 > best_result5:\n",
    "        best_result5 = f1\n",
    "        max_depth = depth\n",
    "print(\"F1 наилучшей модели на валидационной выборке:\", best_result5, 'max_depth:', max_depth)"
   ]
  },
  {
   "cell_type": "markdown",
   "id": "632fbbfa",
   "metadata": {},
   "source": [
    "Странно, но результаты обучения модели с балансом классов, хуже, чем на модели с дисбалансом. В целом, модель показывает худшие метрики, по сравнению с моделью случайного леса"
   ]
  },
  {
   "cell_type": "markdown",
   "id": "7f1f20ea",
   "metadata": {},
   "source": [
    "### Логистическая регрессия c дизбалансом классов\n",
    "Далее посмотрим как работает этот набор данных с моделью логистической регрессии."
   ]
  },
  {
   "cell_type": "code",
   "execution_count": 17,
   "id": "588721de",
   "metadata": {},
   "outputs": [
    {
     "name": "stdout",
     "output_type": "stream",
     "text": [
      "F1: 0.30965391621129323 AUC-ROC: 0.7873990048280619\n"
     ]
    }
   ],
   "source": [
    "# для логистической регрессии обязательно приведём масштаб признаков к одному, с помощью предобученного скейлера\n",
    "features_train1 = features_train\n",
    "features_valid1 = features_valid\n",
    "features_test1 = features_test\n",
    "features_train1[numeric] = scaler.transform(features_train1[numeric])\n",
    "features_valid1[numeric] = scaler.transform(features_valid1[numeric])\n",
    "features_test1[numeric] = scaler.transform(features_test1[numeric])\n",
    "\n",
    "\n",
    "model = LogisticRegression(random_state=12345, solver='lbfgs')\n",
    "model.fit(features_train1, target_train) \n",
    "predicted_valid = model.predict(features_valid1)\n",
    "probabilities_valid = model.predict_proba(features_valid1)\n",
    "probabilities_one_valid = probabilities_valid[:, 1]\n",
    "f1 = f1_score(target_valid, predicted_valid)\n",
    "auc_roc = roc_auc_score(target_valid, probabilities_one_valid)\n",
    "print('F1:', f1, 'AUC-ROC:', auc_roc)"
   ]
  },
  {
   "cell_type": "markdown",
   "id": "485c742d",
   "metadata": {},
   "source": [
    "В случае использования логистической регрессии метрики качества модели оставляют желать лучшего. Нам такое вряд ли подойдёт, но проверим с балансировкой классов "
   ]
  },
  {
   "cell_type": "markdown",
   "id": "1d4cbccb",
   "metadata": {},
   "source": [
    "### Логистическая регрессия c балансировкой классов"
   ]
  },
  {
   "cell_type": "code",
   "execution_count": 18,
   "id": "9912ae43",
   "metadata": {},
   "outputs": [
    {
     "name": "stdout",
     "output_type": "stream",
     "text": [
      "F1: 0.5285338015803336 AUC-ROC: 0.7935895777909154\n"
     ]
    }
   ],
   "source": [
    "model = LogisticRegression(random_state=12345, solver='lbfgs', class_weight = 'balanced')\n",
    "model.fit(features_train1, target_train) \n",
    "predicted_valid = model.predict(features_valid1)\n",
    "probabilities_valid = model.predict_proba(features_valid1)\n",
    "probabilities_one_valid = probabilities_valid[:, 1]\n",
    "f1 = f1_score(target_valid, predicted_valid)\n",
    "auc_roc = roc_auc_score(target_valid, probabilities_one_valid)\n",
    "print('F1:', f1, 'AUC-ROC:', auc_roc)"
   ]
  },
  {
   "cell_type": "markdown",
   "id": "282cfece",
   "metadata": {},
   "source": [
    "Намного лучше, но до заветного порога F1 > 0.59 очень далеко"
   ]
  },
  {
   "cell_type": "markdown",
   "id": "12cd8ff3",
   "metadata": {},
   "source": [
    "### Вывод по выбору модели"
   ]
  },
  {
   "cell_type": "markdown",
   "id": "06669fd6",
   "metadata": {},
   "source": [
    "Итого, после всех наших злоключений можно подвести итоги. На валидационной выборке лучшие показатели показывают (в порядке убывания метрик):\n",
    "* Модель случайного леса с балансировкой классов (Глубина 9, количество деревьев 130)\n",
    " - F1: 0.6535796766743649 AUC-ROC: 0.8727891910533058\n",
    "* Модель решающего дерева с дизбалансом классов (Глубина 7)\n",
    "- F1: 0.5928057553956835 AUC-ROC: 0.8246278882155879\n",
    "* Логистическая регрессия с балансировкой классов\n",
    "- F1: 0.40987654320987654 AUC-ROC: 0.685598642723421\n",
    "\n",
    "Учитывая порог F1 > 0.59, при проверке модели на тестовых данных будем использовать модель случайного леса с балансировкой классов\n"
   ]
  },
  {
   "cell_type": "markdown",
   "id": "2551db51",
   "metadata": {},
   "source": [
    "## Проверка модели на тестовой выборке\n",
    "Вот и настало время проверить модель в бою.\n",
    "Проверим модель случайного леса с количеством деревьев 130 и глубиной 9"
   ]
  },
  {
   "cell_type": "code",
   "execution_count": 19,
   "id": "9e3fc30b",
   "metadata": {},
   "outputs": [
    {
     "name": "stdout",
     "output_type": "stream",
     "text": [
      "F1: 0.6028368794326241 AUC-ROC: 0.8540296845381592\n"
     ]
    }
   ],
   "source": [
    "model = RandomForestClassifier(class_weight = 'balanced', random_state=12345, n_estimators=130, max_depth=9) \n",
    "model.fit(features_train, target_train) \n",
    "predicted_test = model.predict(features_test)\n",
    "probabilities_test = model.predict_proba(features_test)\n",
    "probabilities_one_test = probabilities_test[:, 1]\n",
    "f1_test = f1_score(target_test, predicted_test)\n",
    "auc_roc_test = roc_auc_score(target_test, probabilities_one_test)\n",
    "print('F1:', f1_test, 'AUC-ROC:', auc_roc_test)"
   ]
  },
  {
   "cell_type": "markdown",
   "id": "f6b473c2",
   "metadata": {},
   "source": [
    "Сработала и на тестовых данных. Достигнут целевой уровень метрики F1. Победааааа!"
   ]
  },
  {
   "cell_type": "markdown",
   "id": "6197f01b",
   "metadata": {},
   "source": [
    "## Общие выводы\n",
    "\n",
    "В данном проекте была обучена модель, предсказывающая уход клиентов \"Бета-Банка\". В процессе работы нам моделью проводилась предварительная обработка данных, затем исследовались несколько видов моделей, с подбором опитмальных гиперпараметров. По итогам исследования была найдена лучшая модель при минимальном целевом значении метрики F1 > 0.59: \n",
    "* Модель случайного леса с балансировкой классов (Глубина 9, количество деревьев 130)\n",
    " - Метрики на валидационной выборке - F1: 0.6535796766743649 AUC-ROC: 0.8727891910533058\n",
    " - Метрики на тестовой выборке - F1: 0.6088992974238875 AUC-ROC: 0.8388881948203982\n",
    " \n"
   ]
  },
  {
   "cell_type": "code",
   "execution_count": null,
   "id": "ee245173",
   "metadata": {},
   "outputs": [],
   "source": []
  }
 ],
 "metadata": {
  "kernelspec": {
   "display_name": "Python 3 (ipykernel)",
   "language": "python",
   "name": "python3"
  },
  "language_info": {
   "codemirror_mode": {
    "name": "ipython",
    "version": 3
   },
   "file_extension": ".py",
   "mimetype": "text/x-python",
   "name": "python",
   "nbconvert_exporter": "python",
   "pygments_lexer": "ipython3",
   "version": "3.9.13"
  },
  "toc": {
   "base_numbering": 1,
   "nav_menu": {
    "height": "68px",
    "width": "185px"
   },
   "number_sections": true,
   "sideBar": true,
   "skip_h1_title": true,
   "title_cell": "Table of Contents",
   "title_sidebar": "Contents",
   "toc_cell": false,
   "toc_position": {
    "height": "541.6px",
    "left": "37px",
    "top": "67.125px",
    "width": "304.819px"
   },
   "toc_section_display": true,
   "toc_window_display": true
  }
 },
 "nbformat": 4,
 "nbformat_minor": 5
}
