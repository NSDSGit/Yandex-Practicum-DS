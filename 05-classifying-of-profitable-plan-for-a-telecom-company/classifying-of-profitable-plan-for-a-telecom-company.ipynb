{
 "cells": [
  {
   "cell_type": "markdown",
   "id": "fc500786",
   "metadata": {},
   "source": [
    "# Введение в машинное обучение\n",
    "\n",
    "Оператор мобильной связи «Мегалайн» выяснил: многие клиенты пользуются архивными тарифами. Они хотят построить систему, способную проанализировать поведение клиентов и предложить пользователям новый тариф: «Смарт» или «Ультра».\n",
    "\n",
    "Учитывая поставленные задачи, ход проекта можно разделить на несколько основных этапов:\n",
    "* Общее изучение данных\n",
    "* Обучение нескольких моделей и выбор наилучших гиперпараметров\n",
    "* Валидация результатов\n",
    "* Общие выводы"
   ]
  },
  {
   "cell_type": "markdown",
   "id": "b95dbef9",
   "metadata": {},
   "source": [
    "## Обзор данных"
   ]
  },
  {
   "cell_type": "code",
   "execution_count": 1,
   "id": "b06ebf07",
   "metadata": {},
   "outputs": [],
   "source": [
    "# импорт всего необходимого\n",
    "from scipy import stats as st\n",
    "import pandas as pd \n",
    "import numpy as np \n",
    "import matplotlib.pyplot as plt\n",
    "from sklearn.tree import DecisionTreeClassifier\n",
    "from sklearn.ensemble import RandomForestClassifier\n",
    "from sklearn.linear_model import LogisticRegression\n",
    "from sklearn.model_selection import train_test_split\n",
    "from sklearn.metrics import accuracy_score\n",
    "from sklearn.preprocessing import MinMaxScaler\n",
    "from sklearn.feature_selection import SelectKBest,chi2,RFE"
   ]
  },
  {
   "cell_type": "code",
   "execution_count": 2,
   "id": "04d4b9df",
   "metadata": {
    "scrolled": true
   },
   "outputs": [
    {
     "name": "stdout",
     "output_type": "stream",
     "text": [
      "<class 'pandas.core.frame.DataFrame'>\n",
      "RangeIndex: 3214 entries, 0 to 3213\n",
      "Data columns (total 5 columns):\n",
      " #   Column    Non-Null Count  Dtype  \n",
      "---  ------    --------------  -----  \n",
      " 0   calls     3214 non-null   float64\n",
      " 1   minutes   3214 non-null   float64\n",
      " 2   messages  3214 non-null   float64\n",
      " 3   mb_used   3214 non-null   float64\n",
      " 4   is_ultra  3214 non-null   int64  \n",
      "dtypes: float64(4), int64(1)\n",
      "memory usage: 125.7 KB\n"
     ]
    }
   ],
   "source": [
    "try:\n",
    "    df = pd.read_csv('/datasets/users_behavior.csv')\n",
    "except:\n",
    "    df = pd.read_csv('users_behavior.csv')\n",
    "df.info()"
   ]
  },
  {
   "cell_type": "markdown",
   "id": "de3af3d4",
   "metadata": {},
   "source": [
    "С виду всё прилично, знаем, что предподготовка уже проведена"
   ]
  },
  {
   "cell_type": "markdown",
   "id": "869a74a0",
   "metadata": {},
   "source": [
    "## Подготовка выборки"
   ]
  },
  {
   "cell_type": "markdown",
   "id": "b3c07a6a",
   "metadata": {},
   "source": [
    "Для начала разделим выборку на обучающую, тестовую и валидационную. Делить будем, согласно рекомендациям, в соотношении 3:1:1"
   ]
  },
  {
   "cell_type": "code",
   "execution_count": 3,
   "id": "8cc05df4",
   "metadata": {},
   "outputs": [],
   "source": [
    "df_train, df_valid0 = train_test_split(df, test_size=0.40, random_state=12345) # отделяем 40% проверочных данных\n",
    "df_valid, df_test = train_test_split(df_valid0, test_size=0.50, random_state=12345) # делим их на тестовые и валидационные"
   ]
  },
  {
   "cell_type": "markdown",
   "id": "68966c0d",
   "metadata": {},
   "source": [
    "Далее нужно подготовить датасеты с наборами признаков"
   ]
  },
  {
   "cell_type": "code",
   "execution_count": 4,
   "id": "61f0447f",
   "metadata": {},
   "outputs": [],
   "source": [
    "features_train = df_train.drop('is_ultra', axis=1)\n",
    "target_train = df_train['is_ultra']\n",
    "features_valid = df_valid.drop('is_ultra', axis=1)\n",
    "target_valid = df_valid['is_ultra']\n",
    "features_test = df_test.drop('is_ultra', axis=1)\n",
    "target_test = df_test['is_ultra']"
   ]
  },
  {
   "cell_type": "markdown",
   "id": "d45c57ef",
   "metadata": {},
   "source": [
    "## Выбор модели"
   ]
  },
  {
   "cell_type": "markdown",
   "id": "a5b59acf",
   "metadata": {},
   "source": [
    "### Дерево решений\n",
    "\n",
    "Проверим данную модель. Будем изменять гиперпараметры в цикле. Посмотрим что лучше"
   ]
  },
  {
   "cell_type": "code",
   "execution_count": 5,
   "id": "efbfaf25",
   "metadata": {},
   "outputs": [
    {
     "name": "stdout",
     "output_type": "stream",
     "text": [
      "Accuracy: 0.7542768273716952 Depth: 1\n",
      "Accuracy: 0.7822706065318819 Depth: 2\n",
      "Accuracy: 0.7853810264385692 Depth: 3\n",
      "Accuracy: 0.7791601866251944 Depth: 4\n",
      "Accuracy: 0.7791601866251944 Depth: 5\n",
      "Accuracy: 0.7838258164852255 Depth: 6\n",
      "Accuracy: 0.7822706065318819 Depth: 7\n",
      "Accuracy: 0.7791601866251944 Depth: 8\n",
      "Accuracy: 0.7822706065318819 Depth: 9\n",
      "Accuracy: 0.7744945567651633 Depth: 10\n",
      "Accuracy: 0.7620528771384136 Depth: 11\n",
      "Accuracy: 0.7620528771384136 Depth: 12\n",
      "Accuracy: 0.7558320373250389 Depth: 13\n",
      "Accuracy: 0.7589424572317263 Depth: 14\n",
      "Accuracy: 0.7465007776049767 Depth: 15\n",
      "Accuracy: 0.7340590979782271 Depth: 16\n",
      "Accuracy: 0.7356143079315708 Depth: 17\n",
      "Accuracy: 0.7309486780715396 Depth: 18\n",
      "Accuracy: 0.7278382581648523 Depth: 19\n",
      "Accuracy наилучшей модели на валидационной выборке: 0.7853810264385692 depth: 3\n"
     ]
    }
   ],
   "source": [
    "best_model1 = None\n",
    "best_result1 = 0\n",
    "for depth in range(1, 20):\n",
    "    model = DecisionTreeClassifier(max_depth=depth, random_state=12345)\n",
    "    model.fit(features_train, target_train)\n",
    "    predictions_valid = model.predict(features_valid)\n",
    "    result = model.score(features_valid, target_valid)\n",
    "    print('Accuracy:', result, 'Depth:', depth)\n",
    "    if result > best_result1:\n",
    "        best_model1 = model \n",
    "        best_result1 = result\n",
    "        max_depth = depth\n",
    "print(\"Accuracy наилучшей модели на валидационной выборке:\", best_result1, \"depth:\", max_depth)"
   ]
  },
  {
   "cell_type": "markdown",
   "id": "f35978f7",
   "metadata": {},
   "source": [
    "При использовании решающего дерева, лучшей моделью признаются модель с глубиной 3"
   ]
  },
  {
   "cell_type": "markdown",
   "id": "656d6508",
   "metadata": {},
   "source": [
    "### Случайный лес"
   ]
  },
  {
   "cell_type": "markdown",
   "id": "43628f1d",
   "metadata": {},
   "source": [
    "Далее посмотрим как работает этот набор данных с моделью случайного леса. Будем искать лучшую модель при изменении гиперпараметра n_estimators"
   ]
  },
  {
   "cell_type": "code",
   "execution_count": 6,
   "id": "3fa8bda0",
   "metadata": {},
   "outputs": [
    {
     "name": "stdout",
     "output_type": "stream",
     "text": [
      "Accuracy: 0.7107309486780715 n_estimators: 1\n",
      "Accuracy: 0.7636080870917574 n_estimators: 2\n",
      "Accuracy: 0.7387247278382582 n_estimators: 3\n",
      "Accuracy: 0.7713841368584758 n_estimators: 4\n",
      "Accuracy: 0.749611197511664 n_estimators: 5\n",
      "Accuracy: 0.7807153965785381 n_estimators: 6\n",
      "Accuracy: 0.7682737169517885 n_estimators: 7\n",
      "Accuracy: 0.7822706065318819 n_estimators: 8\n",
      "Accuracy: 0.7729393468118196 n_estimators: 9\n",
      "Accuracy: 0.7853810264385692 n_estimators: 10\n",
      "Accuracy: 0.7838258164852255 n_estimators: 11\n",
      "Accuracy: 0.7869362363919129 n_estimators: 12\n",
      "Accuracy: 0.7822706065318819 n_estimators: 13\n",
      "Accuracy: 0.7838258164852255 n_estimators: 14\n",
      "Accuracy: 0.7838258164852255 n_estimators: 15\n",
      "Accuracy: 0.7869362363919129 n_estimators: 16\n",
      "Accuracy: 0.7869362363919129 n_estimators: 17\n",
      "Accuracy: 0.7931570762052877 n_estimators: 18\n",
      "Accuracy: 0.7884914463452566 n_estimators: 19\n",
      "Accuracy: 0.7869362363919129 n_estimators: 20\n",
      "Accuracy: 0.7931570762052877 n_estimators: 21\n",
      "Accuracy: 0.7884914463452566 n_estimators: 22\n",
      "Accuracy: 0.7947122861586314 n_estimators: 23\n",
      "Accuracy: 0.7900466562986003 n_estimators: 24\n",
      "Accuracy наилучшей модели на валидационной выборке: 0.7947122861586314 est: 23\n"
     ]
    }
   ],
   "source": [
    "best_model2 = None\n",
    "best_result2 = 0\n",
    "#for est in range(1, 501, 10):\n",
    "for est in range(1, 25):\n",
    "    model = RandomForestClassifier(random_state=12345, n_estimators=est) \n",
    "    model.fit(features_train, target_train) \n",
    "    result = model.score(features_valid, target_valid)\n",
    "    print('Accuracy:', result, 'n_estimators:', est)\n",
    "    if result > best_result2:\n",
    "        best_model2 = model \n",
    "        best_result2 = result\n",
    "        n_estimators = est\n",
    "print(\"Accuracy наилучшей модели на валидационной выборке:\", best_result2, \"est:\", n_estimators)"
   ]
  },
  {
   "cell_type": "markdown",
   "id": "39b126a6",
   "metadata": {},
   "source": [
    "Наибольшая точность достигается при number of estimators равном 23. Точность незначительно выше, чем при использовании дерева решений, но код отрабатывает значительно дольше. (При значении 100 очень долго, при значении 500 не дождался...)"
   ]
  },
  {
   "cell_type": "markdown",
   "id": "7f1f20ea",
   "metadata": {},
   "source": [
    "### Логистическая регрессия\n",
    "Далее посмотрим как работает этот набор данных с моделью логистической регрессии. Будем искать лучшую модель при изменении гиперпараметра количества иттераций"
   ]
  },
  {
   "cell_type": "code",
   "execution_count": 7,
   "id": "588721de",
   "metadata": {},
   "outputs": [
    {
     "name": "stdout",
     "output_type": "stream",
     "text": [
      "Accuracy: 0.7091757387247278 max_iter: 30\n",
      "Accuracy: 0.7107309486780715 max_iter: 40\n",
      "Accuracy: 0.7107309486780715 max_iter: 50\n",
      "Accuracy: 0.7107309486780715 max_iter: 60\n",
      "Accuracy: 0.7107309486780715 max_iter: 70\n",
      "Accuracy: 0.7107309486780715 max_iter: 80\n",
      "Accuracy: 0.7107309486780715 max_iter: 90\n",
      "Accuracy наилучшей модели на валидационной выборке: 0.7107309486780715 iter: 40\n"
     ]
    },
    {
     "name": "stderr",
     "output_type": "stream",
     "text": [
      "C:\\Users\\cropp\\anaconda3\\envs\\ds_practicum_env\\lib\\site-packages\\sklearn\\linear_model\\_logistic.py:814: ConvergenceWarning: lbfgs failed to converge (status=1):\n",
      "STOP: TOTAL NO. of ITERATIONS REACHED LIMIT.\n",
      "\n",
      "Increase the number of iterations (max_iter) or scale the data as shown in:\n",
      "    https://scikit-learn.org/stable/modules/preprocessing.html\n",
      "Please also refer to the documentation for alternative solver options:\n",
      "    https://scikit-learn.org/stable/modules/linear_model.html#logistic-regression\n",
      "  n_iter_i = _check_optimize_result(\n",
      "C:\\Users\\cropp\\anaconda3\\envs\\ds_practicum_env\\lib\\site-packages\\sklearn\\linear_model\\_logistic.py:814: ConvergenceWarning: lbfgs failed to converge (status=1):\n",
      "STOP: TOTAL NO. of ITERATIONS REACHED LIMIT.\n",
      "\n",
      "Increase the number of iterations (max_iter) or scale the data as shown in:\n",
      "    https://scikit-learn.org/stable/modules/preprocessing.html\n",
      "Please also refer to the documentation for alternative solver options:\n",
      "    https://scikit-learn.org/stable/modules/linear_model.html#logistic-regression\n",
      "  n_iter_i = _check_optimize_result(\n"
     ]
    }
   ],
   "source": [
    "best_model3 = None\n",
    "best_result3 = 0\n",
    "#for it in range(50, 2000):\n",
    "for it in range(30, 100, 10):\n",
    "    model = LogisticRegression(random_state=12345, solver='lbfgs', max_iter=it)\n",
    "    model.fit(features_train, target_train) \n",
    "    result = model.score(features_valid, target_valid)\n",
    "    print('Accuracy:', result, 'max_iter:', it)\n",
    "    if result > best_result3:\n",
    "        best_model3 = model \n",
    "        best_result3 = result\n",
    "        max_iter = it\n",
    "print(\"Accuracy наилучшей модели на валидационной выборке:\", best_result3, \"iter:\", max_iter)"
   ]
  },
  {
   "cell_type": "markdown",
   "id": "485c742d",
   "metadata": {},
   "source": [
    "В случае использования логистической регрессии, лучшие показатели достигаются уже на 40 иттерациях. Но оценка модели ниже всех. "
   ]
  },
  {
   "cell_type": "markdown",
   "id": "957bd1bf",
   "metadata": {},
   "source": [
    "### Лучшая модель"
   ]
  },
  {
   "cell_type": "markdown",
   "id": "b65f370a",
   "metadata": {},
   "source": [
    "Таким образом, мы обучили 3 модели на основе изученных в спринте алгоритмов и оценили точность предсказания на валидационной выборке. Получили следующие результаты:\n",
    "1. Модель случайного леса - лучшая из лучших\n",
    "2. Модель решающего дерева - чуть хуже\n",
    "3. Модель логистической регрессии - хуже всех"
   ]
  },
  {
   "cell_type": "markdown",
   "id": "2551db51",
   "metadata": {},
   "source": [
    "## Проверка модели на тестовой выборке\n",
    "Вот и настало время проверить лучшую модель в бою. \n",
    "Проверим модель случайного леса с количеством оценщиков 23"
   ]
  },
  {
   "cell_type": "code",
   "execution_count": 8,
   "id": "9e3fc30b",
   "metadata": {
    "scrolled": true
   },
   "outputs": [
    {
     "name": "stdout",
     "output_type": "stream",
     "text": [
      "Accuracy модели случайного леса на тестовой выборке: 0.7807153965785381\n"
     ]
    }
   ],
   "source": [
    "result_test_rand = best_model2.score(features_test, target_test)\n",
    "print(\"Accuracy модели случайного леса на тестовой выборке:\", result_test_rand)"
   ]
  },
  {
   "cell_type": "markdown",
   "id": "f6b473c2",
   "metadata": {},
   "source": [
    "Точность на тестовом наборе данных оказалась немного ниже чем на валидационной выборке, но, всё-таки, довольно приличная угадайка получилась."
   ]
  },
  {
   "cell_type": "markdown",
   "id": "acb73899",
   "metadata": {},
   "source": [
    "## Проверка модели на вменяемость*"
   ]
  },
  {
   "cell_type": "markdown",
   "id": "6d02e516",
   "metadata": {},
   "source": [
    "### Дисбаланс\n",
    "Это нужно было сделать в самом начале, но как-то картинка не складывалась. Возможно что-то не так с распределением пользователей по тарифу"
   ]
  },
  {
   "cell_type": "code",
   "execution_count": 9,
   "id": "b8b9f85d",
   "metadata": {},
   "outputs": [
    {
     "data": {
      "text/plain": [
       "0    2229\n",
       "1     985\n",
       "Name: is_ultra, dtype: int64"
      ]
     },
     "metadata": {},
     "output_type": "display_data"
    },
    {
     "data": {
      "image/png": "[encoded data removed]",
      "text/plain": [
       "<Figure size 640x480 with 1 Axes>"
      ]
     },
     "metadata": {},
     "output_type": "display_data"
    }
   ],
   "source": [
    "features = df.drop('is_ultra', axis=1)\n",
    "target = df['is_ultra'] \n",
    "target.value_counts().plot(kind=\"bar\")\n",
    "display(target.value_counts())"
   ]
  },
  {
   "cell_type": "markdown",
   "id": "3b818bd4",
   "metadata": {},
   "source": [
    "Дисбаланс присутствует, но хорошо это или плохо - неясно"
   ]
  },
  {
   "cell_type": "markdown",
   "id": "6eea7bfd",
   "metadata": {},
   "source": [
    "### Значимость факторов"
   ]
  },
  {
   "cell_type": "markdown",
   "id": "29cc23d0",
   "metadata": {},
   "source": [
    "Из увиденного/прочитанного также приходит на ум - посмотреть коэффициенты значимости каждого признака в каждой модели"
   ]
  },
  {
   "cell_type": "code",
   "execution_count": 10,
   "id": "d716a6e1",
   "metadata": {
    "scrolled": true
   },
   "outputs": [
    {
     "data": {
      "text/plain": [
       "([0, 1, 2, 3],\n",
       " [Text(0, 0, ''), Text(0, 0, ''), Text(0, 0, ''), Text(0, 0, '')])"
      ]
     },
     "execution_count": 10,
     "metadata": {},
     "output_type": "execute_result"
    },
    {
     "data": {
      "image/png": "[encoded data removed]",
      "text/plain": [
       "<Figure size 1200x1200 with 1 Axes>"
      ]
     },
     "metadata": {},
     "output_type": "display_data"
    }
   ],
   "source": [
    "best_model0 = DecisionTreeClassifier()\n",
    "best_model0.fit(features_train, target_train)\n",
    "# смотреть будем методом feature_importances_\n",
    "plt.figure(figsize=(12,12))\n",
    "plt.bar(features_train.columns, best_model0.feature_importances_)\n",
    "plt.xticks(rotation=45)"
   ]
  },
  {
   "cell_type": "code",
   "execution_count": 11,
   "id": "e4e18758",
   "metadata": {
    "scrolled": true
   },
   "outputs": [
    {
     "data": {
      "text/plain": [
       "([0, 1, 2, 3],\n",
       " [Text(0, 0, ''), Text(0, 0, ''), Text(0, 0, ''), Text(0, 0, '')])"
      ]
     },
     "execution_count": 11,
     "metadata": {},
     "output_type": "execute_result"
    },
    {
     "data": {
      "image/png": "[encoded data removed]",
      "text/plain": [
       "<Figure size 1200x1200 with 1 Axes>"
      ]
     },
     "metadata": {},
     "output_type": "display_data"
    }
   ],
   "source": [
    "best_model00 = RandomForestClassifier()\n",
    "best_model00.fit(features_train, target_train)\n",
    "# смотреть будем методом feature_importances_\n",
    "plt.figure(figsize=(12,12))\n",
    "plt.bar(features_train.columns, best_model00.feature_importances_)\n",
    "plt.xticks(rotation=45)"
   ]
  },
  {
   "cell_type": "markdown",
   "id": "2e8c261d",
   "metadata": {},
   "source": [
    "Если я правильно всё понял, то качество предсказаний модели решающего дерева можно улучшить, если убрать наимение незначимые признаки. В нашем случае - это количество звонков. Попробуем смоделировать эту ситуацию и сравним оценки двух моделей."
   ]
  },
  {
   "cell_type": "code",
   "execution_count": 12,
   "id": "9179747d",
   "metadata": {},
   "outputs": [
    {
     "name": "stdout",
     "output_type": "stream",
     "text": [
      "Accuracy наилучшей модели на валидационной выборке: 0.7884914463452566 depth: 4\n"
     ]
    }
   ],
   "source": [
    "features_train1 = df_train.drop(['calls','is_ultra'], axis=1)\n",
    "target_train1 = df_train['is_ultra']\n",
    "features_valid1 = df_valid.drop(['calls','is_ultra'], axis=1)\n",
    "target_valid1 = df_valid['is_ultra']\n",
    "\n",
    "# обучим модель на обрезанной версии данных\n",
    "best_model_tree = None\n",
    "best_result_tree = 0\n",
    "for depth in range(1, 20):\n",
    "    model = DecisionTreeClassifier(max_depth=depth, random_state=12345)\n",
    "    model.fit(features_train1, target_train1)\n",
    "    result = model.score(features_valid1, target_valid1)\n",
    "    if result > best_result_tree:\n",
    "        best_model_tree = model \n",
    "        best_result_tree = result\n",
    "        max_depth = depth\n",
    "print(\"Accuracy наилучшей модели на валидационной выборке:\", best_result_tree, \"depth:\", max_depth)"
   ]
  },
  {
   "cell_type": "code",
   "execution_count": 13,
   "id": "1414a478",
   "metadata": {},
   "outputs": [
    {
     "name": "stdout",
     "output_type": "stream",
     "text": [
      "Accuracy наилучшей модели на валидационной выборке: 0.7822706065318819 est: 18\n"
     ]
    }
   ],
   "source": [
    "best_model_rand = None\n",
    "best_result_rand = 0\n",
    "for est in range(1, 25):\n",
    "    model = RandomForestClassifier(random_state=12345, n_estimators=est) \n",
    "    model.fit(features_train1, target_train1) \n",
    "    result = model.score(features_valid1, target_valid1)\n",
    "    if result > best_result_rand:\n",
    "        best_model_rand = model \n",
    "        best_result_rand = result\n",
    "        n_estimators = est\n",
    "print(\"Accuracy наилучшей модели на валидационной выборке:\", best_result_rand, \"est:\", n_estimators)"
   ]
  },
  {
   "cell_type": "markdown",
   "id": "88de3139",
   "metadata": {},
   "source": [
    "После удаления признака calls результаты 2-ух моделей практически сравнялись. По идее, можно использовать любую"
   ]
  },
  {
   "cell_type": "markdown",
   "id": "6197f01b",
   "metadata": {},
   "source": [
    "## Общие выводы\n",
    "\n",
    "Итого, из 3 изученных в спринте алгоритмов, лучшим оказался случайный лес. Он обеспечил точность предсказания выше 75% на валидационном и тестовом наборе данных\n",
    "Также мы провели исследование значимости факторов и выявили наименее значимый - calls. После отбрасывания calls, разница между двумя лучшими моделями (случайный лес и решающее дерево) снизилась до уровня погрешности и можно говорить, что обе из этих моделей вполне пригодны для решения нашей задачи.\n",
    "\n",
    "Кроме того, выявлен значительный дисбалан по соотношению пользователей ultra и smart. Данное обстоятельство может также влиять на качество предсказания моделей"
   ]
  }
 ],
 "metadata": {
  "ExecuteTimeLog": [
   {
    "duration": 115968,
    "start_time": "2022-05-02T18:11:08.956Z"
   },
   {
    "duration": 33,
    "start_time": "2022-05-02T18:13:04.927Z"
   },
   {
    "duration": 9,
    "start_time": "2022-05-02T18:13:04.962Z"
   },
   {
    "duration": 27,
    "start_time": "2022-05-02T18:13:04.974Z"
   },
   {
    "duration": 807,
    "start_time": "2022-05-02T18:13:05.006Z"
   },
   {
    "duration": 3340,
    "start_time": "2022-05-02T18:13:05.815Z"
   },
   {
    "duration": 53,
    "start_time": "2022-05-02T18:13:09.157Z"
   },
   {
    "duration": 15,
    "start_time": "2022-05-02T18:13:09.212Z"
   },
   {
    "duration": 8,
    "start_time": "2022-05-02T18:13:09.229Z"
   },
   {
    "duration": 9,
    "start_time": "2022-05-02T18:13:09.240Z"
   },
   {
    "duration": 239,
    "start_time": "2022-05-02T18:13:09.251Z"
   },
   {
    "duration": 334,
    "start_time": "2022-05-02T18:13:09.493Z"
   },
   {
    "duration": 884,
    "start_time": "2022-05-02T18:13:09.829Z"
   },
   {
    "duration": 233,
    "start_time": "2022-05-02T18:13:10.717Z"
   },
   {
    "duration": 1550,
    "start_time": "2022-05-02T18:13:10.953Z"
   },
   {
    "duration": 7,
    "start_time": "2022-05-02T18:21:05.982Z"
   },
   {
    "duration": 6,
    "start_time": "2022-05-02T18:21:18.548Z"
   },
   {
    "duration": 6,
    "start_time": "2022-05-02T18:21:56.861Z"
   },
   {
    "duration": 6,
    "start_time": "2022-05-02T18:22:04.923Z"
   },
   {
    "duration": 33,
    "start_time": "2022-05-02T18:22:07.396Z"
   },
   {
    "duration": 153,
    "start_time": "2022-05-02T18:22:07.913Z"
   },
   {
    "duration": 6,
    "start_time": "2022-05-02T18:22:12.054Z"
   },
   {
    "duration": 6,
    "start_time": "2022-05-02T18:22:28.124Z"
   },
   {
    "duration": 6,
    "start_time": "2022-05-02T18:22:49.718Z"
   },
   {
    "duration": 6,
    "start_time": "2022-05-02T18:23:02.429Z"
   },
   {
    "duration": 1786,
    "start_time": "2022-05-03T06:59:29.873Z"
   },
   {
    "duration": 34,
    "start_time": "2022-05-03T06:59:31.662Z"
   },
   {
    "duration": 8,
    "start_time": "2022-05-03T06:59:31.698Z"
   },
   {
    "duration": 27,
    "start_time": "2022-05-03T06:59:31.709Z"
   },
   {
    "duration": 241,
    "start_time": "2022-05-03T06:59:31.739Z"
   },
   {
    "duration": 1163,
    "start_time": "2022-05-03T06:59:31.982Z"
   },
   {
    "duration": 22,
    "start_time": "2022-05-03T06:59:33.155Z"
   },
   {
    "duration": 11,
    "start_time": "2022-05-03T06:59:33.178Z"
   },
   {
    "duration": 6,
    "start_time": "2022-05-03T06:59:33.190Z"
   },
   {
    "duration": 6,
    "start_time": "2022-05-03T06:59:33.200Z"
   },
   {
    "duration": 201,
    "start_time": "2022-05-03T06:59:33.208Z"
   },
   {
    "duration": 279,
    "start_time": "2022-05-03T06:59:33.411Z"
   },
   {
    "duration": 1394,
    "start_time": "2022-05-03T06:59:33.692Z"
   },
   {
    "duration": 410,
    "start_time": "2022-05-03T06:59:35.088Z"
   },
   {
    "duration": 939,
    "start_time": "2022-05-03T06:59:35.500Z"
   },
   {
    "duration": 193,
    "start_time": "2022-05-03T07:01:43.382Z"
   },
   {
    "duration": 1222,
    "start_time": "2022-05-03T07:03:12.075Z"
   },
   {
    "duration": 45093,
    "start_time": "2022-05-03T07:04:11.107Z"
   },
   {
    "duration": 1200,
    "start_time": "2022-05-03T07:05:35.286Z"
   },
   {
    "duration": 24,
    "start_time": "2022-05-03T07:17:57.448Z"
   },
   {
    "duration": 145,
    "start_time": "2022-05-03T07:18:56.595Z"
   },
   {
    "duration": 112,
    "start_time": "2022-05-03T07:19:17.915Z"
   },
   {
    "duration": 1628,
    "start_time": "2022-05-03T07:33:08.609Z"
   },
   {
    "duration": 21,
    "start_time": "2022-05-03T07:33:10.240Z"
   },
   {
    "duration": 7,
    "start_time": "2022-05-03T07:33:10.262Z"
   },
   {
    "duration": 25,
    "start_time": "2022-05-03T07:33:10.271Z"
   },
   {
    "duration": 203,
    "start_time": "2022-05-03T07:33:10.297Z"
   },
   {
    "duration": 1522,
    "start_time": "2022-05-03T07:33:10.502Z"
   },
   {
    "duration": 149,
    "start_time": "2022-05-03T07:33:12.026Z"
   },
   {
    "duration": 11,
    "start_time": "2022-05-03T07:33:12.176Z"
   },
   {
    "duration": 30,
    "start_time": "2022-05-03T07:33:12.188Z"
   },
   {
    "duration": 35,
    "start_time": "2022-05-03T07:33:12.220Z"
   },
   {
    "duration": 120,
    "start_time": "2022-05-03T07:33:12.257Z"
   },
   {
    "duration": 153,
    "start_time": "2022-05-03T07:33:12.379Z"
   },
   {
    "duration": 486,
    "start_time": "2022-05-03T07:33:12.534Z"
   },
   {
    "duration": 136,
    "start_time": "2022-05-03T07:33:13.022Z"
   },
   {
    "duration": 872,
    "start_time": "2022-05-03T07:33:13.160Z"
   },
   {
    "duration": 1857,
    "start_time": "2022-05-03T07:36:34.099Z"
   },
   {
    "duration": 28,
    "start_time": "2022-05-03T07:36:35.959Z"
   },
   {
    "duration": 8,
    "start_time": "2022-05-03T07:36:35.989Z"
   },
   {
    "duration": 19,
    "start_time": "2022-05-03T07:36:35.999Z"
   },
   {
    "duration": 196,
    "start_time": "2022-05-03T07:36:36.020Z"
   },
   {
    "duration": 1245,
    "start_time": "2022-05-03T07:36:36.217Z"
   },
   {
    "duration": 130,
    "start_time": "2022-05-03T07:36:37.463Z"
   },
   {
    "duration": 12,
    "start_time": "2022-05-03T07:36:37.594Z"
   },
   {
    "duration": 5,
    "start_time": "2022-05-03T07:36:37.607Z"
   },
   {
    "duration": 13,
    "start_time": "2022-05-03T07:36:37.615Z"
   },
   {
    "duration": 132,
    "start_time": "2022-05-03T07:36:37.630Z"
   },
   {
    "duration": 154,
    "start_time": "2022-05-03T07:36:37.764Z"
   },
   {
    "duration": 492,
    "start_time": "2022-05-03T07:36:37.919Z"
   },
   {
    "duration": 148,
    "start_time": "2022-05-03T07:36:38.413Z"
   },
   {
    "duration": 955,
    "start_time": "2022-05-03T07:36:38.562Z"
   }
  ],
  "kernelspec": {
   "display_name": "Python 3 (ipykernel)",
   "language": "python",
   "name": "python3"
  },
  "language_info": {
   "codemirror_mode": {
    "name": "ipython",
    "version": 3
   },
   "file_extension": ".py",
   "mimetype": "text/x-python",
   "name": "python",
   "nbconvert_exporter": "python",
   "pygments_lexer": "ipython3",
   "version": "3.9.13"
  },
  "toc": {
   "base_numbering": 1,
   "nav_menu": {
    "height": "68px",
    "width": "185px"
   },
   "number_sections": true,
   "sideBar": true,
   "skip_h1_title": true,
   "title_cell": "Table of Contents",
   "title_sidebar": "Contents",
   "toc_cell": false,
   "toc_position": {
    "height": "541.6px",
    "left": "37px",
    "top": "67.125px",
    "width": "304.825px"
   },
   "toc_section_display": true,
   "toc_window_display": true
  }
 },
 "nbformat": 4,
 "nbformat_minor": 5
}
